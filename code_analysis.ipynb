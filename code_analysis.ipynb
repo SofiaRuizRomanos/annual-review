{
 "cells": [
  {
   "cell_type": "markdown",
   "metadata": {},
   "source": [
    "# Info from the notebooks on SSJ\n",
    "\n",
    "SSJ has several subclasses of the abstract **Block** class.\n",
    "- `SimpleBlock` (`sj.@simple`) for explicit aggregate equilibrium conditions\n",
    "- `SolvedBlock` (`@sj.solved`) for implicit aggregate equilibrium conditions\n",
    "- `HetBlock` (`@sj.het`) for collective actions of heterogeneous agents\n",
    "- `CombinedBlock` for combination of multiple blocks\n",
    "\n",
    "They are followed with by a fct definition.\n",
    "\n",
    "Notation conventions are as follows: \n",
    "   - `Y` refers to $Y_t$\n",
    "   - `Y(-k)` refers to $Y_{t-k}$\n",
    "   - `Y(k)` refers to $\\mathbb{E}_t[Y_{t+k}]$\n",
    "   - lag variables cannot be inputted but you can cal them from another bock (fct) that returns the lag of a var given the var."
   ]
  },
  {
   "cell_type": "markdown",
   "metadata": {},
   "source": [
    "# Understanding HH block\n"
   ]
  },
  {
   "cell_type": "code",
   "execution_count": 23,
   "metadata": {},
   "outputs": [],
   "source": [
    "import numpy as np\n",
    "import sequence_jacobian as sj # sequence-space Jacobian toolkit\n",
    "from scipy import linalg"
   ]
  },
  {
   "cell_type": "code",
   "execution_count": 24,
   "metadata": {},
   "outputs": [],
   "source": [
    "# Income process from Kaplan Moll Violante 2018\n",
    "# load KMV transition matrix, convert to discrete time, and fix rounding so rows sum to 1\n",
    "Pi_e = linalg.expm(np.loadtxt('inputs/kmv_process/ymarkov_combined.txt'))\n",
    "Pi_e /= np.sum(Pi_e, axis=1)[:, np.newaxis]"
   ]
  },
  {
   "cell_type": "markdown",
   "metadata": {},
   "source": [
    "\n",
    "`Pi_e` = ($ne_e$ X $n_e$) Transition Matrix for Income (the probabilities of transitioning between different income states). The rows of Pi_e correspond to the current state, and the columns correspond to the next state. They normalize it so that each rows is equal to 1 (ensuring valid probabilities).\n",
    "\n",
    "`np.loadtxt`: Reads the text doc in the folders inputs/kmv_process/ that shows the income transition matrix in discrete time. \n",
    "\n",
    "`linalg.expm` = Compute the matrix exponential of an array to convert it from a continuous-time to a discrete-time Markov process.\n",
    "\n",
    "`np.sum(Pi_e, axis=1)`= compute the sum of each row in the matrix => outputs array of shape (n,) with each element inside on n the sum of a row (n rows).\n",
    "\n",
    "`[:, np.newaxis]` changes its shape to (n, 1).\n",
    "\n",
    "`/=` = division of each element of `Pi_e` => normalizing, and each row will sum one. WHY? each value of a row is a state you can acces in the next period and the sum of the probabilities of the different states must be one. "
   ]
  },
  {
   "cell_type": "code",
   "execution_count": 25,
   "metadata": {},
   "outputs": [],
   "source": [
    "pi_e = sj.utilities.discretize.stationary(Pi_e) # need to find the official function definition\n",
    "e_grid_short = np.exp(np.loadtxt('inputs/kmv_process/ygrid_combined.txt'))\n",
    "# the exponential of a grid of logarithmic income levels => actual income levels\n",
    "e_grid_short /= e_grid_short @ pi_e # normalize so that the mass of agents is always 1?\n",
    "n_e = len(pi_e) "
   ]
  },
  {
   "cell_type": "markdown",
   "metadata": {},
   "source": [
    "`sj.utilities.discretize.stationary` = calculates the stationary distribution of the Markov chain (LR/equilibrium distribution of agents across income states)\n",
    "\n",
    "`pi_e`= $ne_e$-dimensional vector. The distribution of income states at equilibrium. For example [0.1, 0.2 ..., 0.3]\n",
    "\n",
    "`e_grid_short`=  $ne_e$-dimensional vector (income level).The income grid (loaded and exponenetialized to get the actual income levels). For example, [0.5, 1.0, 1.5,...]\n",
    "\n",
    "`n_e`= the number of income types/states (all elements in `pi_e`)\n"
   ]
  },
  {
   "cell_type": "code",
   "execution_count": 26,
   "metadata": {},
   "outputs": [
    {
     "name": "stdout",
     "output_type": "stream",
     "text": [
      "(33,)\n",
      "[5.31799183e-03 1.22858520e-02 2.54242529e-02 3.52904806e-02\n",
      " 4.64164330e-02 7.28630066e-02 8.15295765e-02 9.18445392e-02\n",
      " 1.15770948e-01 1.68716713e-01 1.81733469e-01 2.34189521e-01\n",
      " 3.08021947e-01 3.31786343e-01 4.83522832e-01 5.41034667e-01\n",
      " 6.09485316e-01 6.86596207e-01 7.68262273e-01 1.11961314e+00\n",
      " 1.20599312e+00 1.58620398e+00 2.04405029e+00 2.20175193e+00\n",
      " 3.20868366e+00 4.04457743e+00 4.55628946e+00 5.09822978e+00\n",
      " 8.00303526e+00 1.05261346e+01 1.46109446e+01 3.02357826e+01\n",
      " 6.98519972e+01]\n",
      "33\n",
      "[2.63255204e-04 7.31719227e-04 1.53413313e-03 8.94710875e-03\n",
      " 2.55626630e-03 3.27734757e-03 2.48685358e-02 1.10627972e-02\n",
      " 3.27734757e-03 5.21397327e-02 2.55626630e-03 2.63255204e-04\n",
      " 8.68784064e-02 1.53413313e-03 1.11385396e-01 7.31719227e-04\n",
      " 3.75985161e-01 7.31719227e-04 1.11385396e-01 1.53413313e-03\n",
      " 8.68784064e-02 2.63255204e-04 2.55626630e-03 5.21397327e-02\n",
      " 3.27734757e-03 1.10627972e-02 2.48685358e-02 3.27734757e-03\n",
      " 2.55626630e-03 8.94710875e-03 1.53413313e-03 7.31719227e-04\n",
      " 2.63255204e-04]\n"
     ]
    }
   ],
   "source": [
    "print(e_grid_short.shape) #(33,)\n",
    "print(e_grid_short)\n",
    "print(n_e)\n",
    "print(pi_e)\n",
    "# there are possible 33 income states"
   ]
  },
  {
   "cell_type": "code",
   "execution_count": 27,
   "metadata": {},
   "outputs": [],
   "source": [
    "# return b values, probability of drawing each, probability of moving from one beta state \n",
    "# to another (including staying at the current one)\n",
    "\n",
    "def make_betas(beta_hi, dbeta, omega, q):\n",
    "    \"\"\"Return beta grid [beta_hi-dbeta, beta_high] and transition matrix,\n",
    "    where q is probability of getting new random draw from [1-omega, omega]\"\"\"\n",
    "    # q = prob of drawing new b\n",
    "    # omega = prob of getting beta high\n",
    "    beta_lo = beta_hi - dbeta\n",
    "    # beta high = patient; beta low = impatient; dbeta = difference\n",
    "    b_grid = np.array([beta_lo, beta_hi]) # 1D-array with two elements with each beta value\n",
    "    pi_b = np.array([1 - omega, omega])\n",
    "    #2-value array with probability of bhigh, blow if a random draw is needed\n",
    "    Pi_b = (1-q)*np.eye(2) + q*np.outer(np.ones(2), pi_b)\n",
    "    return b_grid, Pi_b, pi_b"
   ]
  },
  {
   "cell_type": "markdown",
   "metadata": {},
   "source": [
    "`np.eye(2)` returns a 2x2 identity matrix => the matrix gets multiplied by the probability of not having to draw a new beta => on the diagonal, 0 otherwise.\n",
    "\n",
    "`np.ones(2)` returns a 1x2 \"ones\" matrix (vector)\n",
    "\n",
    "`np.outer`computes the products of all values of two vectors (here of size 2 and 2) => returns a matrix of size (2,2) => technically duplicates pi_b into two rows => then multiplies all by q\n",
    "\n",
    "`Pi_b` = 2x2 matrix. diagonals: probs of staying at your current b; Other: probability of changing. First row: starting state = blow; starting state 0 bhigh."
   ]
  },
  {
   "cell_type": "code",
   "execution_count": 28,
   "metadata": {},
   "outputs": [],
   "source": [
    "def make_grids(min_a, max_a, n_a, beta_hi, dbeta, omega, q):\n",
    "    ### asset and beta grids\n",
    "    a_grid = sj.grids.asset_grid(min_a, max_a, n_a) # creates a grid for assets \n",
    "    #(probably tightly spaced for low values, the contrary for high values, as is common in HA models)\n",
    "\n",
    "    b_grid_short, Pi_b, pi_b = make_betas(beta_hi, dbeta, omega, q) # calls the make_betas fct to get the grid of two beta values, \n",
    "    # probability of switching and transition matrix for beta\n",
    "\n",
    "    ### combine grids for beta and e (latter pre-loaded from KMV above)\n",
    "    e_grid = np.kron(np.ones_like(b_grid_short), e_grid_short)\n",
    "     # repeats e_grid_short for each b state\n",
    "    beta = np.kron(b_grid_short, np.ones_like(e_grid_short))\n",
    "    # repeats b_grid_short for each e state\n",
    "    \n",
    "    Pi = np.kron(Pi_b, Pi_e) \n",
    "    # Pi_b is the transition matrix for the beta states \n",
    "    # Pi_e is the transition matrix for the income states\n",
    "    #combine transition matrices for joint beta and e states\n",
    "\n",
    "    pi_pdf = np.kron(pi_b, pi_e)\n",
    "    # pi_b the stationary distribution for b-types\n",
    "    # pi_e the stationary distribution for e_types\n",
    "    # combined mass of agents in equilibrium for each joint value of beta and e\n",
    "    return e_grid, Pi, a_grid, beta, pi_pdf"
   ]
  },
  {
   "cell_type": "markdown",
   "metadata": {},
   "source": [
    "`n_a`= the number of asset grid points. (ex: 200)\n",
    "\n",
    "`min_a` and `max_a`= minimum/ maximum asset level. (ex: 0 and 4000).\n",
    "\n",
    "`np.ones_like(b_grid_short)`= Returns an array of ones with the same shape and type as b_grid_short. (same for e_grid_short). \n",
    "\n",
    "Kronenberg product: \"multiplies\" each element of a matrix to the second  matrix. Denoted by ⊗. Used to combine independent Markov processes.\n",
    "\n",
    "`e_grid`= the code creates a 1D array of ones with 2-element (same share as b_grid_short) and we know that e_grid_short is a $n_e$-dimensional vector. Thus the Kronenberg product produces a new array of shape (2*$n_e$,), it reapeats e_grid_short (the income level) for every beta. Overall, `e_grid` is an extension of `e_grid_short` \n",
    "across the beta-types. The resulting e_grid is a 1D array with each income state in e_grid_short repeated for every beta-type. \n",
    "For example: if $n_beta$ = 2, and $n_e$ = 3, then e_grid = [0.8, 1.0, 1.5, 0.8, 1.0, 1.5].\n",
    "\n",
    "Returns:\n",
    "* `a_grid` = asset grid ([Not evenly spaced but non linear and increasing](https://github.com/shade-econ/sequence-jacobian/blob/master/src/sequence_jacobian/utilities/discretize.py))\n",
    "* `e_grid`= combined grid of income states across beta types\n",
    "* `beta` = Full grid of discount factors, repeated for each productivity state.\n",
    "* `pi_pdf` = stationary distribution over all joint (β,e)(β,e)-states.\n",
    "* `Pi`= transitions between all combinations of (β,e)(β,e)-states."
   ]
  },
  {
   "cell_type": "code",
   "execution_count": 29,
   "metadata": {},
   "outputs": [],
   "source": [
    "def income(wN_aftertax, N, e_grid, Tr_lumpsum, Tax_richest, zeta, pi_pdf):\n",
    "        # after tax income, total L supply, all possible states of prod grid, lumpsum transfer, \n",
    "        # tax for the richest, cyclicality parameter (MP exercise page 17), stationary distrib \n",
    "        # over (share of agents in each) prod states\n",
    "\n",
    "    # Auclert-Rognlie 2020 incidence function for labor income, with cyclicality parameter zeta\n",
    "    # in default case with zeta = 0, this is just gamma / N = 1 and irrelevant\n",
    "        \n",
    "    gamma_N = e_grid ** (zeta * np.log(N)) / np.vdot(\n",
    "        e_grid ** (zeta * np.log(N)), pi_pdf\n",
    "    ) \n",
    "\n",
    "    # net after-tax income (include lump-sum transfer option)\n",
    "    y = wN_aftertax * e_grid * gamma_N + Tr_lumpsum\n",
    "\n",
    "    # also add option to tax richest type at margin\n",
    "    y = y.reshape(-1, n_e)  # reshape to beta*e grid\n",
    "    y[:, -1] -= Tax_richest / pi_e[-1].sum()  # tax richest e type\n",
    "    y = y.ravel()  # flatten back\n",
    "    return y"
   ]
  },
  {
   "cell_type": "markdown",
   "metadata": {},
   "source": [
    "`gamma_N`= incidence fct in page 17. Reaxes the assumption that all benefit equally from the labor marjet changes that arise from a demand shock. (I didnt really understand but probably not necessary for our project).\n",
    "\n",
    "`y`= disposable income. Seems to be the after tax income multiplied by the productivity state (ie the prod state enhances or reduces the originally same wage for everybody (given labor?)) multiplied by `gamma_N` (whatever it is it must be personal and enhance differences in wages across people) + transfers from the govt\n",
    "\n",
    "`reshape` = y (vector) is reshaped into a 2D matrix with dimensions corresponding to the number of e states, each column an increasing level of productivity.\n",
    "\n",
    "=> tax the richest by deducing a marginal tax to the richest (in terms of income!!!) agent type that is normalized by the sum of the stationary distribution of those values of e so that all agents receive a proportional decution\n",
    "\n",
    "=> retransform y into a vector \n",
    "\n",
    "Return `y` = The vector of net after-tax incomes for all agents, with possible lump-sum transfers and tax on the richest agents."
   ]
  },
  {
   "cell_type": "code",
   "execution_count": 30,
   "metadata": {},
   "outputs": [],
   "source": [
    "@sj.het( #mark of an HA block\n",
    "    exogenous=\"Pi\", policy=\"a\", backward=\"Va\", backward_init=sj.hetblocks.hh_sim.hh_init\n",
    ")\n",
    "# define the exogenous variables: matrix of prod*beta states Pi, savings (as a policy function),\n",
    "# backward-looking value function, and the solving method (backwards iteration?)\n",
    "def hh_raw(Va_p, a_grid, y, r, beta, eis):\n",
    "    \"\"\"Household block. Slightly modify sequence_jacobian.hetblocks.hh_sim.hh to allow for beta vector\"\"\"\n",
    "    # Inputs: derivative of value function Va_p, grid of asset values, a certain income (?) level, the hh's beta, \n",
    "    # and elasticity of intertemporal substitution (??)\n",
    "\n",
    "    # future marginal utility\n",
    "    uc_nextgrid = (\n",
    "        beta[:, np.newaxis] * Va_p\n",
    "    )  # reshape the 1D beta array into a column vector\n",
    "    # each row of the Va_p is multiplied by the corresponding beta \n",
    "\n",
    "    # future consumption\n",
    "    c_nextgrid = uc_nextgrid ** (-eis)\n",
    "    # derive the nex period consumption (c') frim the marginal utility (u'c) assuming that uc= c^(-1/eis)\n",
    "    # negative because invserse relationship between marginal utility and consumption\n",
    "\n",
    "    coh = (1 + r) * a_grid[np.newaxis, :] + y[:, np.newaxis] \n",
    "    # a_grid[np.newaxis, :] = reshape a_grid into a row vector\n",
    "    # y[:, np.newaxis] = reshapes y into a column vector \n",
    "    a = sj.interpolate.interpolate_y(c_nextgrid + a_grid, coh, a_grid)\n",
    "    # c_nextgrid + a_grid = add asset levels to the consumption of the next period consumption -> total ressource needs\n",
    "    # sj.interpolate.interpolate_y (see below) \n",
    "    sj.misc.setmin(a, a_grid[0])\n",
    "    # ensures that savings (a) do not fall below 0\n",
    "    c = coh - a \n",
    "    Va = (1 + r) * c ** (-1 / eis) # upadtes marginal value of assets for the current period\n",
    "    return Va, a, c\n",
    "\n",
    "# returns The updated marginal value of assets for the current period, the policy function\n",
    "# for savings, current-period consumption."
   ]
  },
  {
   "cell_type": "markdown",
   "metadata": {},
   "source": [
    "`coh`= cash on hands calculated as current assets and income. It's the sum of returns on assets (1+r)*a, and income for all agents. \n",
    "\n",
    "`sj.interpolate.interpolate_y`= solves the policy function for savings. It interpolates between the cash-on-hands grid and the asset grid to find the optimal savings a for each househols state.\n",
    "\n",
    "Returns: \n",
    "`VA` = the updated marginal value of assets for the current period. \n",
    "`a` = the policy function for savings.\n",
    "`c`= consumption for the current-period. "
   ]
  },
  {
   "cell_type": "code",
   "execution_count": 31,
   "metadata": {},
   "outputs": [],
   "source": [
    "\"\"\"Consolidated HA household block and calibration of all exogenously-set parameters\"\"\"\n",
    "\n",
    "hh_ha = hh_raw.add_hetinputs([make_grids, income]) \n",
    "# creates a heterogenous agent household object (hha)\n",
    "# extends hh_raw with heterogenous inputs \n",
    "# -> make grids (define asset or income grids) and income (income levels for the households).\n",
    "hh_ha.name = \"hh_ha\"\n",
    "calibration_ha = dict(\n",
    "    eis=1, # elasticity of intemporal substitution (how consumption changes with interest rates)\n",
    "    min_a=0,\n",
    "    max_a=4000,\n",
    "    n_a=200,\n",
    "    r=0.005,\n",
    "    q=0.01,\n",
    "    Tr_lumpsum=0, # lump-sum transfers from the govenrment to the households\n",
    "    Tax_richest=0, # tax on the richest households \n",
    "    zeta=0,\n",
    ")\n",
    "\n",
    "# note that after-tax wages and labor are determined in equilibrium in full model, but we'll calibrate hh separately first\n",
    "# steady-state normalized to Y = N = 1, out of which asset income on A = 20 at r = 0.005 is 0.1,\n",
    "# and government spending is G=0.2, so markups + taxes total take 0.3\n",
    "calibration_ha[\"N\"], calibration_ha[\"wN_aftertax\"] = 1, 0.7"
   ]
  },
  {
   "cell_type": "markdown",
   "metadata": {},
   "source": [
    "In the full model, `wN_aftertax`and `N`(labor supply) are endogenously determined as part of the general equilibrium solution. \n",
    "However, for simplicity, the household block is calibrated separately: so after-tax wages and labor supply are set exogenously to fixed values. \n",
    "To simplify the analysis, the key-variables are normalized: Y (output) = 1 (total steat-state production/income) and N (labor supply) = 1 (aggregate labor supply = 1 unit). \n",
    "The, hoseholds hold a total of `A` = 20 in assets, the return on assets is `r` = 0.004 (0.5% interest rate). The total asset income is then 0.1 (`A`*`r`). \n",
    "Government spengin is equal to 0.2. Government's ressources come from (1) Taxes (hh pay taxes on wages or consumption) and (2) markups, as firms charge prices above the maringal costs, generating profits that can be taxed. \n",
    "Overall, out of total output (`Y`=1), 30% is allocated to markups and taxes and households receive 70% of their labor income."
   ]
  },
  {
   "cell_type": "code",
   "execution_count": 32,
   "metadata": {},
   "outputs": [],
   "source": [
    "\"\"\"Two-agent and rep-agent blocks\"\"\"\n",
    "\n",
    "\n",
    "@sj.solved(unknowns={\"C_RA\": 1, \"A\": 1}, targets=[\"euler\", \"budget_constraint\"])\n",
    "# : 1, indicates that each variable is a scalar \n",
    "def hh_ta(C_RA, A, wN_aftertax, eis, beta, r, lam):\n",
    "    euler = (beta * (1 + r(+1))) ** (-eis) * C_RA(\n",
    "        +1\n",
    "    ) - C_RA  # Euler eq for consumption of infinitely lived household\n",
    "    C_H2M = wN_aftertax  # consumption of hand to mouth household\n",
    "    C = (1 - lam) * C_RA + lam * C_H2M # aggregate consumption \n",
    "    budget_constraint = (\n",
    "        (1 + r) * A(-1) + wN_aftertax - C - A # buget constraint. R-E = 0\n",
    "    )  # budget constraint for infinitely lived household\n",
    "    return euler, budget_constraint, C_H2M, C\n",
    "\n",
    "\n",
    "@sj.solved(unknowns={\"C\": 1, \"A\": 1}, targets=[\"euler\", \"budget_constraint\"])\n",
    "def hh_ra(C, A, wN_aftertax, eis, beta, r):\n",
    "    euler = (beta * (1 + r(+1))) ** (-eis) * C(+1) - C # same euler equation\n",
    "    budget_constraint = (1 + r) * A(-1) + wN_aftertax - C - A # same budget constraint\n",
    "    return euler, budget_constraint\n"
   ]
  },
  {
   "cell_type": "markdown",
   "metadata": {},
   "source": [
    "The Two-agent (TA) model includes a representative agent and a \"hand-to-mouth\" (H2M) agent. \n",
    "\n",
    "`@sj.solved` indicates that the function `hh_ta` solve for C_RA (consumption of the representative agent) and A (asset holdings) by satisying (1) the euler equation for consumption, and (2) the household's budget constraint.\n",
    "The Euler equation links the marginal utility of current consumption with future consumption, for the representative agent. On the other hand, H2M agent consume their entire income (`wN_aftertax`) each period. Thus, we can compute the aggregate consumption (`C`) by weighting the different consumptions. \n",
    "The budget constraint indicates that households earn money from bong holdings and labor, and they spend it by aquiring new bonds and consumming.  \n",
    "\n",
    "It returns, \n",
    "`euler`= euler equation residual for the RA agent's consumption. It should be equal to 0 (consumption decisions balance marginal utilities of current and future consumption).\n",
    "`budget_constraint`= budget constraint residual for the RA agent. It should be equal to 0. \n",
    "`C_H2M` = consumtion of H2M agent. Calculated directly from the `wN_aftertax`. \n",
    "`C`= aggregate consumption for both types of households. "
   ]
  },
  {
   "cell_type": "markdown",
   "metadata": {},
   "source": [
    "For the RA model, the structure is similar. Only take into account the RA agent. \n",
    "The Euler equation and the budget constraint are the same as defined in the TA. \n"
   ]
  },
  {
   "cell_type": "markdown",
   "metadata": {},
   "source": [
    "# Understanding Calibration file"
   ]
  },
  {
   "cell_type": "code",
   "execution_count": 42,
   "metadata": {},
   "outputs": [],
   "source": [
    "import numpy as np\n",
    "from scipy import optimize\n",
    "import matplotlib.pyplot as plt\n",
    "import json\n",
    "\n",
    "from household import (hh_ha as hh,\n",
    "                       calibration_ha as calibration)\n",
    "\n",
    "# for plotting:\n",
    "plt.rcParams.update({'font.size': 10, 'font.family': 'serif', 'figure.figsize': (4, 3)})\n"
   ]
  },
  {
   "cell_type": "code",
   "execution_count": null,
   "metadata": {},
   "outputs": [],
   "source": [
    "### Targets on the paper:"
   ]
  }
 ],
 "metadata": {
  "kernelspec": {
   "display_name": "base",
   "language": "python",
   "name": "python3"
  },
  "language_info": {
   "codemirror_mode": {
    "name": "ipython",
    "version": 3
   },
   "file_extension": ".py",
   "mimetype": "text/x-python",
   "name": "python",
   "nbconvert_exporter": "python",
   "pygments_lexer": "ipython3",
   "version": "3.12.4"
  }
 },
 "nbformat": 4,
 "nbformat_minor": 2
}
