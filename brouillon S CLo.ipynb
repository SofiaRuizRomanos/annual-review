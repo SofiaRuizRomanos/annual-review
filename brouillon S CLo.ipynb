{
 "cells": [
  {
   "cell_type": "code",
   "execution_count": 2,
   "metadata": {},
   "outputs": [],
   "source": [
    "import numpy as np\n",
    "import sequence_jacobian as sj\n",
    "from scipy import linalg\n",
    "from scipy import optimize\n",
    "import matplotlib.pyplot as plt\n",
    "import pandas as pd\n",
    "import json"
   ]
  },
  {
   "cell_type": "markdown",
   "metadata": {},
   "source": [
    "# household.py"
   ]
  },
  {
   "cell_type": "code",
   "execution_count": 3,
   "metadata": {},
   "outputs": [],
   "source": [
    "# import productivity transition matrix, normalize\n",
    "Pi_e = linalg.expm(np.loadtxt('inputs/kmv_process/ymarkov_combined.txt'))\n",
    "Pi_e /= np.sum(Pi_e, axis=1)[:, np.newaxis]\n",
    "\n",
    "# productivity stationary matrix\n",
    "pi_e = sj.utilities.discretize.stationary(Pi_e)\n",
    "\n",
    "# Grid of all possible productivity states\n",
    "e_grid_short = np.exp(np.loadtxt('inputs/kmv_process/ygrid_combined.txt'))\n",
    "e_grid_short /= e_grid_short @ pi_e\n",
    "n_e = len(pi_e) "
   ]
  },
  {
   "cell_type": "code",
   "execution_count": 4,
   "metadata": {},
   "outputs": [],
   "source": [
    "# Given probabilities and beta high and low,\n",
    "# return a matrix with a grid of both beta values\n",
    "# the transition matrix for beta states\n",
    "# and a grid with the probability to draw each beta\n",
    "\n",
    "def make_betas(beta_hi, dbeta, omega, q):\n",
    "    \"\"\"Return beta grid [beta_hi-dbeta, beta_high] and transition matrix,\n",
    "    where q is probability of getting new random draw from [1-omega, omega]\"\"\"\n",
    "    # q = prob of drawing new b\n",
    "    # omega = prob of getting beta high\n",
    "    beta_lo = beta_hi - dbeta\n",
    "    # beta high = patient; beta low = impatient; dbeta = difference\n",
    "    b_grid = np.array([beta_lo, beta_hi]) # 1D-array with two elements with each beta value\n",
    "    pi_b = np.array([1 - omega, omega])\n",
    "    #2-value array with probability of bhigh, blow if a random draw is needed\n",
    "    Pi_b = (1-q)*np.eye(2) + q*np.outer(np.ones(2), pi_b)\n",
    "    return b_grid, Pi_b, pi_b"
   ]
  },
  {
   "cell_type": "code",
   "execution_count": 5,
   "metadata": {},
   "outputs": [],
   "source": [
    "# make grid for assets and a stationary distrib for all beta-e states\n",
    "\n",
    "def make_grids(min_a, max_a, n_a, beta_hi, dbeta, omega, q):\n",
    "    ### asset and beta grids\n",
    "    a_grid = sj.grids.asset_grid(min_a, max_a, n_a) # creates a grid for assets \n",
    "    #(tightly spaced for low values, the contrary for high values, as is common in HA models)\n",
    "\n",
    "    b_grid_short, Pi_b, pi_b = make_betas(beta_hi, dbeta, omega, q) \n",
    "    # calls the make_betas fct to get the grid of two beta values, \n",
    "    # probability of switching and transition matrix for beta\n",
    "\n",
    "    ### combine grids for beta and e (latter pre-loaded from KMV above)\n",
    "    e_grid = np.kron(np.ones_like(b_grid_short), e_grid_short)\n",
    "     # repeats e_grid_short for each b state\n",
    "    beta = np.kron(b_grid_short, np.ones_like(e_grid_short))\n",
    "    # repeats b_grid_short for each e state\n",
    "    \n",
    "    Pi = np.kron(Pi_b, Pi_e) \n",
    "    # Pi_b is the transition matrix for the beta states \n",
    "    # Pi_e is the transition matrix for the income states\n",
    "    #combine transition matrices for joint beta and e states\n",
    "\n",
    "    pi_pdf = np.kron(pi_b, pi_e)\n",
    "    # pi_b the stationary distribution for b-types\n",
    "    # pi_e the stationary distribution for e_types\n",
    "    # combined mass of agents in equilibrium for each joint value of beta and e\n",
    "    return e_grid, Pi, a_grid, beta, pi_pdf"
   ]
  },
  {
   "cell_type": "code",
   "execution_count": 6,
   "metadata": {},
   "outputs": [],
   "source": [
    "# returns EARNINGS (before being affected by any beta)\n",
    "def income(wN_aftertax, N, e_grid, Tr_lumpsum, Tax_richest, zeta, pi_pdf):\n",
    "        # after tax income, total L supply, all possible states of prod grid, lumpsum transfer, \n",
    "        # tax for the richest, cyclicality parameter (MP exercise page 17), stationary distrib \n",
    "        # over (share of agents in each) prod states\n",
    "\n",
    "    # Auclert-Rognlie 2020 incidence function for labor income, with cyclicality parameter zeta\n",
    "    # in default case with zeta = 0, this is just gamma / N = 1 and irrelevant   \n",
    "    gamma_N = e_grid ** (zeta * np.log(N)) / np.vdot(\n",
    "        e_grid ** (zeta * np.log(N)), pi_pdf\n",
    "    ) \n",
    "\n",
    "    # net after-tax income (include lump-sum transfer option)\n",
    "    y = wN_aftertax * e_grid * gamma_N + Tr_lumpsum\n",
    "\n",
    "    # also add option to tax richest type at margin\n",
    "    y = y.reshape(-1, n_e)  # reshape to beta*e grid\n",
    "    y[:, -1] -= Tax_richest / pi_e[-1].sum()  # tax richest e type\n",
    "    y = y.ravel()  # flatten back\n",
    "    return y\n",
    "\n",
    "# Other possibility for changing the previous fct:\n",
    "def earnings(wN_aftertax, N, e_grid, Tr_lumpsum, Tax_richest):\n",
    "    # net after-tax income (include lump-sum transfer option)\n",
    "    y = wN_aftertax * e_grid + Tr_lumpsum\n",
    "\n",
    "    # also add option to tax richest type at margin\n",
    "    y = y.reshape(-1, n_e)  # reshape to beta*e grid\n",
    "    y[:, -1] -= Tax_richest / pi_e[-1].sum()  # tax richest e type\n",
    "    y = y.ravel()  # flatten back\n",
    "    return y"
   ]
  },
  {
   "cell_type": "code",
   "execution_count": 7,
   "metadata": {},
   "outputs": [],
   "source": [
    "# HA HH BLOCK\n",
    "# Define exogenous vars, policy, backward iteration method parameters for HA\n",
    "@sj.het(\n",
    "    exogenous=\"Pi\", policy=\"a\", backward=\"Va\", backward_init=sj.hetblocks.hh_sim.hh_init\n",
    ")\n",
    "\n",
    "# Define the HA HH block with space for beta vector\n",
    "# returns a, c, Va\n",
    "def hh_raw(Va_p, a_grid, y, r, beta, eis):\n",
    "    \"\"\"Household block. Slightly modify sequence_jacobian.hetblocks.hh_sim.hh to allow for beta vector\"\"\"\n",
    "    # future marginal utility\n",
    "    uc_nextgrid = (\n",
    "        beta[:, np.newaxis] * Va_p\n",
    "    )  # reshape the 1D beta array into a column vector\n",
    "    # each row of the Va_p is multiplied by the corresponding beta \n",
    "    # originally in the hh fct: uc_nextgrid = beta * Va_p\n",
    "\n",
    "    # future consumption\n",
    "    c_nextgrid = uc_nextgrid ** (-eis)\n",
    "    # derive the nex period consumption (c') frim the marginal utility (u'c) assuming that uc= c^(-1/eis)\n",
    "    # negative because invserse relationship between marginal utility and consumption\n",
    "\n",
    "    coh = (1 + r) * a_grid[np.newaxis, :] + y[:, np.newaxis] \n",
    "    # a_grid[np.newaxis, :] = reshape a_grid into a row vector\n",
    "    # y[:, np.newaxis] = reshapes y into a column vector \n",
    "    a = sj.interpolate.interpolate_y(c_nextgrid + a_grid, coh, a_grid)\n",
    "    # c_nextgrid + a_grid = add asset levels to the consumption of the next period consumption -> total ressource needs\n",
    "    # sj.interpolate.interpolate_y (see below) \n",
    "    sj.misc.setmin(a, a_grid[0])\n",
    "    # ensures that savings (a) do not fall below 0\n",
    "    c = coh - a \n",
    "    Va = (1 + r) * c ** (-1 / eis) # upadtes marginal value of assets for the current period\n",
    "    return Va, a, c"
   ]
  },
  {
   "cell_type": "code",
   "execution_count": 8,
   "metadata": {},
   "outputs": [],
   "source": [
    "def group_c_not_agg(c:np.ndarray, D:np.ndarray):\n",
    "    consumption = c\n",
    "\n",
    "    # 1. find the last element's row and column\n",
    "    # 2. find the rest of the mass of peope included in that element to reach our %\n",
    "    # 3. find what share of the mass of people in the cell rest represents \n",
    "    # 4. create share matrix and multiply by c\n",
    "\n",
    "    if D.shape != consumption.shape:\n",
    "        raise Exception(\"Both distributions do not have the same size.\")\n",
    "    \n",
    "\n",
    "    def get_percent_of_half_matrix(half_D: np.ndarray, percentage: float) -> np.ndarray:\n",
    "        inclusion_matrix = np.zeros_like(half_D)\n",
    "\n",
    "        cumulative_share = 0\n",
    "        for row in range(half_D.shape[0]):\n",
    "            for col in range(half_D.shape[1]):\n",
    "                cumulative_share += half_D[row, col]\n",
    "                inclusion_matrix[row, col] = 1\n",
    "\n",
    "                if cumulative_share > percentage: # we are in the rest cell\n",
    "                    rest_share = (percentage - cumulative_share) / half_D[row, col] # share of the rest\n",
    "                    inclusion_matrix[row, col] = rest_share # overwrite previous 1 with share of rest\n",
    "                    return inclusion_matrix\n",
    "                \n",
    "                elif cumulative_share == percentage: # landed exactly on the percentage\n",
    "                    return inclusion_matrix\n",
    "\n",
    "    def get_percent_of_full_matrix(full_D: np.ndarray, percentage: float, start_bottom_right=False):\n",
    "        # split in half\n",
    "        if start_bottom_right:\n",
    "            percentage = 1 - percentage\n",
    "\n",
    "        half_percentage = percentage / 2\n",
    "        half_height = full_D.shape[0] // 2\n",
    "\n",
    "        beta_high = full_D[:half_height,:]\n",
    "        beta_low = full_D[half_height:,:]\n",
    "\n",
    "        # get 0/1s matrix from half functions\n",
    "        beta_high_inclusion = get_percent_of_half_matrix(beta_high, half_percentage)\n",
    "        beta_low_inclusion = get_percent_of_half_matrix(beta_low, half_percentage)\n",
    "\n",
    "        # if necessary subtract from 1\n",
    "        if start_bottom_right:\n",
    "            beta_high_inclusion = 1 - beta_high_inclusion\n",
    "            beta_low_inclusion = 1 - beta_low_inclusion\n",
    "\n",
    "        # merge them back together\n",
    "        return np.vstack([beta_high_inclusion, beta_low_inclusion])\n",
    "\n",
    "\n",
    "    t10 = get_percent_of_full_matrix(D, 0.1, start_bottom_right=True)\n",
    "    b10 = get_percent_of_full_matrix(D, 0.1, start_bottom_right=False)\n",
    "    t50 = get_percent_of_full_matrix(D, 0.5, start_bottom_right=True)\n",
    "    b50 = get_percent_of_full_matrix(D, 0.5, start_bottom_right=False)\n",
    "\n",
    "    c_t10 = consumption * t10\n",
    "    c_b10 = consumption * b10\n",
    "    c_t50 = consumption * t50\n",
    "    c_b50 = consumption * b50\n",
    "\n",
    "    return c_t10, c_b10, c_t50, c_b50            "
   ]
  },
  {
   "cell_type": "code",
   "execution_count": 9,
   "metadata": {},
   "outputs": [],
   "source": [
    "# add grid and income functions to the hh block so that it works all together\n",
    "hh_ha = hh_raw.add_hetinputs([make_grids, income]) \n",
    "hh_ha = hh_ha.add_hetoutputs([group_c_not_agg])\n",
    "hh_ha.name = \"hh_ha\""
   ]
  },
  {
   "cell_type": "code",
   "execution_count": 10,
   "metadata": {},
   "outputs": [],
   "source": [
    "# TA HH BLOCK\n",
    "# Define the unknowns for TA\n",
    "@sj.solved(unknowns={\"C_RA\": 1, \"A\": 1}, targets=[\"euler\", \"budget_constraint\"])\n",
    "\n",
    "# Define the TA HH block (with space for beta vector?)\n",
    "# returns euler, BC, C constrained, C unconstrained\n",
    "def hh_ta(C_RA, A, wN_aftertax, eis, beta, r, lam):\n",
    "    euler = (beta * (1 + r(+1))) ** (-eis) * C_RA(+1) - C_RA  \n",
    "    # Euler eq for consumption of infinitely lived, unconstrained H2M hhs\n",
    "        #(why -C_RA and not - (-eis) * C_RA(+1))??? Shouldn't it be the derivative?\n",
    "\n",
    "    C_H2M = wN_aftertax  # consumption of constrained H2M household\n",
    "    C = (1 - lam) * C_RA + lam * C_H2M # aggregate consumption (weighted average for both hhs)\n",
    "    \n",
    "    budget_constraint = (\n",
    "        (1 + r) * A(-1) + wN_aftertax - C - A # buget constraint. R-E = 0\n",
    "    )  # budget constraint for infinitely lived household\n",
    "    return euler, budget_constraint, C_H2M, C"
   ]
  },
  {
   "cell_type": "code",
   "execution_count": 11,
   "metadata": {},
   "outputs": [],
   "source": [
    "# RA HH BLOCK\n",
    "# Define the unknowns for RA\n",
    "@sj.solved(unknowns={\"C\": 1, \"A\": 1}, targets=[\"euler\", \"budget_constraint\"])\n",
    "\n",
    "# Define the RA HH block (with space for beta vector?)\n",
    "# returns euler, BC\n",
    "def hh_ra(C, A, wN_aftertax, eis, beta, r):\n",
    "    euler = (beta * (1 + r(+1))) ** (-eis) * C(+1) - C # same euler equation\n",
    "    budget_constraint = (1 + r) * A(-1) + wN_aftertax - C - A # same budget constraint\n",
    "    return euler, budget_constraint"
   ]
  },
  {
   "cell_type": "code",
   "execution_count": 12,
   "metadata": {},
   "outputs": [],
   "source": [
    "# CALIBRATION\n",
    "# insert calibration of info needed for a, b and e grids,\n",
    "# N and earnings info,\n",
    "# tax richest and lumpsum transfer are here too (but =0)\n",
    "calibration_ha = dict(\n",
    "    eis=1, # elasticity of intemporal substitution (how consumption changes with interest rates)\n",
    "    min_a=0,\n",
    "    max_a=4000,\n",
    "    n_a=200,\n",
    "    r=0.005, #int rate\n",
    "    q=0.01, # prob of new beta draw\n",
    "    Tr_lumpsum=0, # lump-sum transfers from the government to the households\n",
    "    Tax_richest=0, # tax on the richest households \n",
    "    zeta=0,\n",
    ")\n",
    "calibration_ha[\"N\"], calibration_ha[\"wN_aftertax\"] = 1, 0.7"
   ]
  },
  {
   "cell_type": "markdown",
   "metadata": {},
   "source": [
    "# Annual Review Main \n"
   ]
  },
  {
   "cell_type": "code",
   "execution_count": 13,
   "metadata": {},
   "outputs": [],
   "source": [
    "# import HA hh blocks ONLY ? from household.py\n",
    "from household import (hh_ha as hh,\n",
    "                       calibration_ha as calibration)"
   ]
  },
  {
   "cell_type": "markdown",
   "metadata": {},
   "source": [
    "### Blocks"
   ]
  },
  {
   "cell_type": "code",
   "execution_count": 14,
   "metadata": {},
   "outputs": [],
   "source": [
    "# Firm's block\n",
    "# Returns N, wN, div\n",
    "@sj.simple\n",
    "def production(Y, mu):\n",
    "    \"\"\"Split aggregate income into pre-tax wage and dividends income\"\"\"\n",
    "    N = Y   \n",
    "    wN = Y / mu            \n",
    "    div = Y - wN    \n",
    "    return N, wN, div"
   ]
  },
  {
   "cell_type": "code",
   "execution_count": 15,
   "metadata": {},
   "outputs": [],
   "source": [
    "# Govt bond block\n",
    "# Returns r, price of bonds\n",
    "@sj.simple\n",
    "def real_ST_bonds(r_ante):\n",
    "    \"\"\"Bond returns if bonds are short term and real (our default assumption)\"\"\"\n",
    "    r_post_bonds = r_ante(-1)\n",
    "    qbond = 1/(1 + r_ante)\n",
    "    return r_post_bonds, qbond"
   ]
  },
  {
   "cell_type": "code",
   "execution_count": 16,
   "metadata": {},
   "outputs": [],
   "source": [
    "# Govt Fiscal decisions block\n",
    "# Returns T, t, T residuals, wN and div after tax\n",
    "@sj.simple\n",
    "def fiscal(B, r_post_bonds, G, Y, wN, div, tax_rate_shock, T_shock, T_rule_coeff, qbond):\n",
    "    \"\"\"Calculate taxes and after-tax wage and dividend income\"\"\"\n",
    "    T = (1 + r_post_bonds) * B(-1) + G - B  # total tax burden consistent with B and G\n",
    "    tax_rate = T / Y                        # required tax rate\n",
    "    wN_aftertax = (1 - tax_rate) * wN       # after-tax wage income\n",
    "    div_aftertax = (1 - tax_rate) * div     # after-tax dividends\n",
    "\n",
    "    # ALW (2024) rule\n",
    "    tax_rate_res = tax_rate - tax_rate.ss - tax_rate_shock\n",
    "    \n",
    "    # Tax revenue rule (used for FTPL and alternative fiscal rule)\n",
    "    T_res = T - T.ss - T_rule_coeff * (B(-1) - B.ss) - T_shock\n",
    "    \n",
    "    # Default fiscal rule for monetary policy: constant amount owed tomorrow\n",
    "    constant_owed_res = B/qbond - B.ss/qbond.ss\n",
    "    return T, tax_rate, wN_aftertax, div_aftertax, tax_rate_res, T_res, constant_owed_res"
   ]
  },
  {
   "cell_type": "code",
   "execution_count": 17,
   "metadata": {},
   "outputs": [],
   "source": [
    "# EXTENSION \n",
    "# #tax to the richest block\n",
    "# Returns T, t, wN and div after tax, tax on the richest\n",
    "@sj.simple\n",
    "def fiscal_richest(B, r_post_bonds, G, Y, wN, div):\n",
    "    \"\"\"Variant of above where any taxes beyond steady state are raised only on the richest\"\"\"\n",
    "    Tax_total = (1 + r_post_bonds) * B(-1) + G - B  \n",
    "    T = Tax_total.ss                                \n",
    "    Tax_richest = Tax_total - T                     \n",
    "    tax_rate = T / Y\n",
    "    wN_aftertax = (1 - tax_rate) * wN\n",
    "    div_aftertax = (1 - tax_rate) * div\n",
    "    return T, tax_rate, wN_aftertax, div_aftertax, Tax_richest"
   ]
  },
  {
   "cell_type": "code",
   "execution_count": 18,
   "metadata": {},
   "outputs": [],
   "source": [
    "# value and div condition block\n",
    "@sj.solved(unknowns={'p': (0.001,50)}, targets=['cap_cond']) \n",
    "def capitalization(div_aftertax, r_ante, p):\n",
    "    \"\"\"Calculate end-of-period value p of firm and ex-post return on equity holdings\"\"\"\n",
    "    cap_cond = p - (div_aftertax(+1) + p(+1))/(1 + r_ante)\n",
    "    r_post_equity = (div_aftertax + p)/p(-1) - 1\n",
    "    return r_post_equity, cap_cond"
   ]
  },
  {
   "cell_type": "code",
   "execution_count": 19,
   "metadata": {},
   "outputs": [],
   "source": [
    "# int rate and debt condition block\n",
    "@sj.simple\n",
    "def ex_post_r(r_post_equity, r_post_bonds, B, p):\n",
    "    \"\"\"Calculate ex-post return on all assets, combining equity and bond returns\"\"\"\n",
    "    r = (p(-1) * r_post_equity + B(-1) * r_post_bonds) / (p(-1) + B(-1))\n",
    "    return r"
   ]
  },
  {
   "cell_type": "code",
   "execution_count": 20,
   "metadata": {},
   "outputs": [],
   "source": [
    "# NK PC block\n",
    "# returns residuals\n",
    "@sj.simple\n",
    "def nkpc(pi, kappa, N, Y, G, beta_ave, vscale, frisch, tax_rate, mu, eis):\n",
    "    \"\"\"New Keynesian Phillips Curve\"\"\"\n",
    "    wedge = vscale*N**(1/frisch) - (1-tax_rate) / mu * (Y-G)**(-1/eis) # using C = Y-G\n",
    "    nkpc_res = kappa * wedge + beta_ave * pi(+1) - pi\n",
    "    return nkpc_res"
   ]
  },
  {
   "cell_type": "code",
   "execution_count": 21,
   "metadata": {},
   "outputs": [],
   "source": [
    "# EXTENSION \n",
    "# Taylor rule block\n",
    "@sj.simple\n",
    "def taylor_rule(rstar, pi, phi):\n",
    "    \"\"\"Taylor rule for monetary policy\"\"\"\n",
    "    i = rstar + phi * pi\n",
    "    r_ante = i - pi(+1)\n",
    "    return r_ante"
   ]
  },
  {
   "cell_type": "code",
   "execution_count": 22,
   "metadata": {},
   "outputs": [],
   "source": [
    "# asset and goods MC condition block\n",
    "@sj.simple\n",
    "def mkt_clearing(A, Y, C, p, B, G):\n",
    "    \"\"\"Market clearing conditions\"\"\"\n",
    "    asset_mkt = A - p - B\n",
    "    goods_mkt = C + G - Y\n",
    "    return asset_mkt, goods_mkt"
   ]
  },
  {
   "cell_type": "markdown",
   "metadata": {},
   "source": [
    "### Assembling the model"
   ]
  },
  {
   "cell_type": "code",
   "execution_count": 23,
   "metadata": {},
   "outputs": [],
   "source": [
    "# ASSEMBLING THE BLOCKS\n",
    "\n",
    "#  create a model for each agent variation \n",
    "# combining common blocks and specific hh blocks\n",
    "common_blocks = [production, real_ST_bonds, fiscal, capitalization, ex_post_r, nkpc, mkt_clearing]\n",
    "models_hh = [hh_ha, hh_ta, hh_ra]\n",
    "model_names = ['ha', 'ta', 'ra']\n",
    "models = {name: sj.combine(common_blocks + [hh]) for hh, name in zip(models_hh, model_names)}"
   ]
  },
  {
   "cell_type": "markdown",
   "metadata": {},
   "source": [
    "### Calibration"
   ]
  },
  {
   "cell_type": "code",
   "execution_count": 24,
   "metadata": {},
   "outputs": [],
   "source": [
    "# AGGREGATES' values\n",
    "Y = 1           # normalization\n",
    "r = 0.005       # 2% annual real interest rate\n",
    "A = 20          # 500% assets to annual GDP\n",
    "B = 4           # 100% debt to annual GDP\n",
    "G = 0.2         # 20% gov spending \n",
    "C = Y - G       # remaining 80% is consumption\n",
    "\n",
    "# parameter fcts not defined in the blocks\n",
    "tax = G + r*B                   # implied steady-state tax rate\n",
    "j = A - B                       # firm equity to GDP\n",
    "div_post = r * j                # implied post-tax dividends to justify firm equity\n",
    "div = div_post / (1 - tax)      # implied pre-tax dividends\n",
    "w_post = (1 - tax) * (1 - div)  # implied post-tax wage\n",
    "mu = 1 / (1 - div)              # implied markup\n",
    "mu\n",
    "\n",
    "# Parameters of utilities\n",
    "eis = 1                                      # elasticity of intertemporal substitution\n",
    "frisch = 1                                   # Frisch elasticity of labor supply (only needed for Phillips curve)\n",
    "vscale = w_post / C**(1/eis) / Y**(1/frisch)"
   ]
  },
  {
   "cell_type": "code",
   "execution_count": null,
   "metadata": {},
   "outputs": [],
   "source": []
  },
  {
   "cell_type": "code",
   "execution_count": 25,
   "metadata": {},
   "outputs": [],
   "source": [
    "# storing the parameters\n",
    "common_params = dict(Y=Y, r_ante=r, A=A, B=B, G=G, C=C, mu=mu, eis=eis, frisch=frisch, vscale=vscale,\n",
    "            pi = 0,                # steady-state inflation\n",
    "            kappa = 0.01,          # quarterly NKPC slope\n",
    "            tax_rate_shock = 0,    # tax rate \"shock\" (only used with ALW rule)\n",
    "            T_shock = 0,           # Tax level shock (only used with FTPL)\n",
    "            zeta = 0,              # income risk cyclicality parameter (only used to make income risk countercyclical)\n",
    "            T_rule_coeff = 0,      # Coefficient in tax revenue rule on debt (only used with slow adjustment)\n",
    "            )"
   ]
  },
  {
   "cell_type": "code",
   "execution_count": 26,
   "metadata": {},
   "outputs": [],
   "source": [
    "# load parameters pre-estimated for the hh\n",
    "with open('hh_params.json') as f:\n",
    "    ha_params = json.load(f) "
   ]
  },
  {
   "cell_type": "markdown",
   "metadata": {},
   "source": [
    "### Solving"
   ]
  },
  {
   "cell_type": "code",
   "execution_count": 27,
   "metadata": {},
   "outputs": [
    {
     "data": {
      "text/plain": [
       "(2.0236257114447653e-11, 5.881724645107056e-07, -2.220446049250313e-18)"
      ]
     },
     "execution_count": 27,
     "metadata": {},
     "output_type": "execute_result"
    }
   ],
   "source": [
    "# solving HA and storing the SS\n",
    "ss = {}\n",
    "ss['ha'] = models['ha'].steady_state({**ha_params, **common_params})\n",
    "# making sure clearing conditions = 0\n",
    "ss['ha']['asset_mkt'], ss['ha']['goods_mkt'], ss['ha']['nkpc_res'] "
   ]
  },
  {
   "cell_type": "code",
   "execution_count": 28,
   "metadata": {},
   "outputs": [
    {
     "data": {
      "text/plain": [
       "(-9.912071163853398e-13,\n",
       " 0.0,\n",
       " -3.552713678800501e-15,\n",
       " 0.0,\n",
       " -2.220446049250313e-18)"
      ]
     },
     "execution_count": 28,
     "metadata": {},
     "output_type": "execute_result"
    }
   ],
   "source": [
    "# solving HA and RA and storing the SS\n",
    "# TA model parameter fcts\n",
    "beta = 1 / (1 + r)\n",
    "lam = 0.2 - r / (1+r)\n",
    "C_RA = (C - lam * w_post) / (1 - lam)\n",
    "ta_params = dict(beta=beta, beta_ave=beta, lam=lam, C_RA=C_RA)\n",
    "\n",
    "ss['ta'] = models['ta'].steady_state({**ta_params, **common_params}, dissolve=['hh_ta'])\n",
    "ss['ta']['asset_mkt'], ss['ta']['goods_mkt'], ss['ta']['budget_constraint'], ss['ta']['euler'], ss['ta']['nkpc_res']"
   ]
  },
  {
   "cell_type": "code",
   "execution_count": 29,
   "metadata": {},
   "outputs": [
    {
     "data": {
      "text/plain": [
       "(-9.912071163853398e-13,\n",
       " 0.0,\n",
       " -3.552713678800501e-15,\n",
       " 0.0,\n",
       " -2.220446049250313e-18)"
      ]
     },
     "execution_count": 29,
     "metadata": {},
     "output_type": "execute_result"
    }
   ],
   "source": [
    "# solving RA and storing the SS\n",
    "beta = 1 / (1 + r)\n",
    "ra_params = dict(beta=beta, beta_ave=beta)\n",
    "ss['ra'] = models['ra'].steady_state({**ra_params, **common_params}, dissolve=['hh_ra'])\n",
    "ss['ra']['asset_mkt'], ss['ra']['goods_mkt'], ss['ra']['budget_constraint'], ss['ra']['euler'], ss['ra']['nkpc_res']"
   ]
  },
  {
   "cell_type": "code",
   "execution_count": 30,
   "metadata": {},
   "outputs": [
    {
     "data": {
      "text/plain": [
       "'hh_ha'"
      ]
     },
     "execution_count": 30,
     "metadata": {},
     "output_type": "execute_result"
    }
   ],
   "source": [
    "# Pre-calculating HH jacobians (??)\n",
    "T = 400\n",
    "Js = {'hh_ha': hh_ha.jacobian(ss['ha'], inputs=['wN_aftertax', 'N', 'r'], outputs=['C', 'A','C_T10', 'C_T50','C_B10','C_B50'], T=T)}\n",
    "hh_ha.name # verify that 'hh_ha' is the name of the het-agent household block"
   ]
  },
  {
   "cell_type": "code",
   "execution_count": 31,
   "metadata": {},
   "outputs": [],
   "source": [
    "# EXTENSION\n",
    "# needs to be done the jacobians\n",
    "# deficit-financed tax cut\n",
    "rho_B, rho = 0.975, 0.9\n",
    "\n",
    "dT_shock = -rho**np.arange(T)\n",
    "dB = np.empty_like(dT_shock)\n",
    "dB[0] = -dT_shock[0]\n",
    "for t in range(1, T):\n",
    "    dB[t] = rho_B * dB[t-1] - dT_shock[t]"
   ]
  },
  {
   "cell_type": "markdown",
   "metadata": {},
   "source": [
    "### Figure 2(a)"
   ]
  },
  {
   "cell_type": "code",
   "execution_count": 32,
   "metadata": {},
   "outputs": [],
   "source": [
    "irfs_B = {k: models[k].solve_impulse_linear(ss[k], \n",
    "                                            unknowns=['Y'], \n",
    "                                            targets=['asset_mkt'],\n",
    "                                            inputs={'B': dB}, \n",
    "                                            outputs=['Y'],  #change THIS\n",
    "                                            Js=Js)['Y'] for k in model_names}"
   ]
  },
  {
   "cell_type": "code",
   "execution_count": 33,
   "metadata": {},
   "outputs": [],
   "source": [
    "irfs_B = {k: models[k].solve_impulse_linear(ss[k], \n",
    "                                            unknowns=['Y'], \n",
    "                                            targets=['asset_mkt'],\n",
    "                                            inputs={'B': dB}, \n",
    "                                            outputs=['Y'],  #change THIS\n",
    "                                            Js=Js)['Y'] for k in model_names}"
   ]
  },
  {
   "cell_type": "code",
   "execution_count": 34,
   "metadata": {},
   "outputs": [
    {
     "name": "stderr",
     "output_type": "stream",
     "text": [
      "<>:6: SyntaxWarning: invalid escape sequence '\\%'\n",
      "<>:6: SyntaxWarning: invalid escape sequence '\\%'\n",
      "/var/folders/tk/zvlm5zxj4gzfjmrhd2466bv40000gn/T/ipykernel_4773/2220617584.py:6: SyntaxWarning: invalid escape sequence '\\%'\n"
     ]
    },
    {
     "data": {
      "image/png": "[encoded data removed]",
      "text/plain": [
       "<Figure size 640x480 with 1 Axes>"
      ]
     },
     "metadata": {},
     "output_type": "display_data"
    }
   ],
   "source": [
    "plt.plot(irfs_B['ha'][:41], label='Heterogeneous agents', color='black')\n",
    "plt.plot(irfs_B['ta'][:41], label='Two agents', linestyle='dashed', color='orange')\n",
    "plt.plot(irfs_B['ra'][:41], label='Representative agent', linestyle='dashdot', color='red')\n",
    "plt.legend(frameon=False)\n",
    "plt.xlabel('Quarter')\n",
    "plt.ylabel('\\% change in output')\n",
    "plt.savefig('figures/figure2a_deficit_by_model.pdf', bbox_inches='tight')"
   ]
  },
  {
   "cell_type": "code",
   "execution_count": 39,
   "metadata": {},
   "outputs": [],
   "source": [
    "irfs_CTB = {models['ha'].solve_impulse_linear(ss['ha'], \n",
    "                                            unknowns=['Y'], \n",
    "                                            targets=['asset_mkt'],\n",
    "                                            inputs={'B': dB}, \n",
    "                                            outputs=['Y','C_T10','C_T50','C_B10','C_B50'],  #change THIS\n",
    "                                            Js=Js)}"
   ]
  },
  {
   "cell_type": "code",
   "execution_count": 40,
   "metadata": {},
   "outputs": [
    {
     "name": "stdout",
     "output_type": "stream",
     "text": [
      "{<ImpulseDict: ['Y', 'C_T10', 'C_T50', 'C_B10', 'C_B50']>}\n"
     ]
    }
   ],
   "source": [
    "print(irfs_CTB)"
   ]
  },
  {
   "cell_type": "code",
   "execution_count": 42,
   "metadata": {},
   "outputs": [
    {
     "name": "stderr",
     "output_type": "stream",
     "text": [
      "<>:6: SyntaxWarning: invalid escape sequence '\\%'\n",
      "<>:6: SyntaxWarning: invalid escape sequence '\\%'\n",
      "/var/folders/tk/zvlm5zxj4gzfjmrhd2466bv40000gn/T/ipykernel_4773/735637425.py:6: SyntaxWarning: invalid escape sequence '\\%'\n",
      "/var/folders/tk/zvlm5zxj4gzfjmrhd2466bv40000gn/T/ipykernel_4773/735637425.py:6: SyntaxWarning: invalid escape sequence '\\%'\n"
     ]
    },
    {
     "ename": "TypeError",
     "evalue": "'set' object is not subscriptable",
     "output_type": "error",
     "traceback": [
      "\u001b[0;31m---------------------------------------------------------------------------\u001b[0m",
      "\u001b[0;31mTypeError\u001b[0m                                 Traceback (most recent call last)",
      "Cell \u001b[0;32mIn[42], line 1\u001b[0m\n\u001b[0;32m----> 1\u001b[0m plt\u001b[38;5;241m.\u001b[39mplot(irfs_CTB[\u001b[38;5;124m'\u001b[39m\u001b[38;5;124mC_T10\u001b[39m\u001b[38;5;124m'\u001b[39m][:\u001b[38;5;241m41\u001b[39m], label\u001b[38;5;241m=\u001b[39m\u001b[38;5;124m'\u001b[39m\u001b[38;5;124mtop 10\u001b[39m\u001b[38;5;124m%\u001b[39m\u001b[38;5;124m'\u001b[39m, color\u001b[38;5;241m=\u001b[39m\u001b[38;5;124m'\u001b[39m\u001b[38;5;124mblack\u001b[39m\u001b[38;5;124m'\u001b[39m)\n\u001b[1;32m      2\u001b[0m plt\u001b[38;5;241m.\u001b[39mplot(irfs_CTB[\u001b[38;5;124m'\u001b[39m\u001b[38;5;124mC_T50\u001b[39m\u001b[38;5;124m'\u001b[39m][:\u001b[38;5;241m41\u001b[39m], label\u001b[38;5;241m=\u001b[39m\u001b[38;5;124m'\u001b[39m\u001b[38;5;124mtop 50\u001b[39m\u001b[38;5;124m%\u001b[39m\u001b[38;5;124m'\u001b[39m, linestyle\u001b[38;5;241m=\u001b[39m\u001b[38;5;124m'\u001b[39m\u001b[38;5;124mdashed\u001b[39m\u001b[38;5;124m'\u001b[39m, color\u001b[38;5;241m=\u001b[39m\u001b[38;5;124m'\u001b[39m\u001b[38;5;124morange\u001b[39m\u001b[38;5;124m'\u001b[39m)\n\u001b[1;32m      3\u001b[0m plt\u001b[38;5;241m.\u001b[39mplot(irfs_CTB[\u001b[38;5;124m'\u001b[39m\u001b[38;5;124mC_B10\u001b[39m\u001b[38;5;124m'\u001b[39m][:\u001b[38;5;241m41\u001b[39m], label\u001b[38;5;241m=\u001b[39m\u001b[38;5;124m'\u001b[39m\u001b[38;5;124mbottom 10\u001b[39m\u001b[38;5;124m%\u001b[39m\u001b[38;5;124m'\u001b[39m, linestyle\u001b[38;5;241m=\u001b[39m\u001b[38;5;124m'\u001b[39m\u001b[38;5;124mdashdot\u001b[39m\u001b[38;5;124m'\u001b[39m, color\u001b[38;5;241m=\u001b[39m\u001b[38;5;124m'\u001b[39m\u001b[38;5;124mred\u001b[39m\u001b[38;5;124m'\u001b[39m)\n",
      "\u001b[0;31mTypeError\u001b[0m: 'set' object is not subscriptable"
     ]
    }
   ],
   "source": [
    "plt.plot(irfs_CTB['C_T10'][:41], label='top 10%', color='black')\n",
    "plt.plot(irfs_CTB['C_T50'][:41], label='top 50%', linestyle='dashed', color='orange')\n",
    "plt.plot(irfs_CTB['C_B10'][:41], label='bottom 10%', linestyle='dashdot', color='red')\n",
    "plt.legend(frameon=False)\n",
    "plt.xlabel('Quarter')\n",
    "plt.ylabel('\\% change in consumption')\n",
    "#plt.savefig('figures/figure2a_deficit_by_model.pdf', bbox_inches='tight')"
   ]
  },
  {
   "cell_type": "code",
   "execution_count": 43,
   "metadata": {},
   "outputs": [
    {
     "ename": "KeyError",
     "evalue": "'C_T10'",
     "output_type": "error",
     "traceback": [
      "\u001b[0;31m---------------------------------------------------------------------------\u001b[0m",
      "\u001b[0;31mKeyError\u001b[0m                                  Traceback (most recent call last)",
      "Cell \u001b[0;32mIn[43], line 3\u001b[0m\n\u001b[1;32m      1\u001b[0m variable_names \u001b[38;5;241m=\u001b[39m [\u001b[38;5;124m'\u001b[39m\u001b[38;5;124mC_T10\u001b[39m\u001b[38;5;124m'\u001b[39m, \u001b[38;5;124m'\u001b[39m\u001b[38;5;124mC_T50\u001b[39m\u001b[38;5;124m'\u001b[39m, \u001b[38;5;124m'\u001b[39m\u001b[38;5;124mC_B10\u001b[39m\u001b[38;5;124m'\u001b[39m,\u001b[38;5;124m'\u001b[39m\u001b[38;5;124mC_T50\u001b[39m\u001b[38;5;124m'\u001b[39m]\n\u001b[0;32m----> 3\u001b[0m irfs_CTBk \u001b[38;5;241m=\u001b[39m {k: models[\u001b[38;5;124m'\u001b[39m\u001b[38;5;124mha\u001b[39m\u001b[38;5;124m'\u001b[39m]\u001b[38;5;241m.\u001b[39msolve_impulse_linear(ss[\u001b[38;5;124m'\u001b[39m\u001b[38;5;124mha\u001b[39m\u001b[38;5;124m'\u001b[39m], \n\u001b[1;32m      4\u001b[0m                                             unknowns\u001b[38;5;241m=\u001b[39m[\u001b[38;5;124m'\u001b[39m\u001b[38;5;124mY\u001b[39m\u001b[38;5;124m'\u001b[39m], \n\u001b[1;32m      5\u001b[0m                                             targets\u001b[38;5;241m=\u001b[39m[\u001b[38;5;124m'\u001b[39m\u001b[38;5;124masset_mkt\u001b[39m\u001b[38;5;124m'\u001b[39m],\n\u001b[1;32m      6\u001b[0m                                             inputs\u001b[38;5;241m=\u001b[39m{\u001b[38;5;124m'\u001b[39m\u001b[38;5;124mB\u001b[39m\u001b[38;5;124m'\u001b[39m: dB}, \n\u001b[1;32m      7\u001b[0m                                             outputs\u001b[38;5;241m=\u001b[39m[\u001b[38;5;124m'\u001b[39m\u001b[38;5;124mY\u001b[39m\u001b[38;5;124m'\u001b[39m],  \u001b[38;5;66;03m#change THIS\u001b[39;00m\n\u001b[1;32m      8\u001b[0m                                             Js\u001b[38;5;241m=\u001b[39mJs)[k] \u001b[38;5;28;01mfor\u001b[39;00m k \u001b[38;5;129;01min\u001b[39;00m variable_names}\n",
      "File \u001b[0;32m/opt/anaconda3/lib/python3.12/site-packages/sequence_jacobian/classes/impulse_dict.py:25\u001b[0m, in \u001b[0;36mImpulseDict.__getitem__\u001b[0;34m(self, k)\u001b[0m\n\u001b[1;32m     24\u001b[0m \u001b[38;5;28;01mdef\u001b[39;00m \u001b[38;5;21m__getitem__\u001b[39m(\u001b[38;5;28mself\u001b[39m, k):\n\u001b[0;32m---> 25\u001b[0m     \u001b[38;5;28;01mreturn\u001b[39;00m \u001b[38;5;28msuper\u001b[39m()\u001b[38;5;241m.\u001b[39m\u001b[38;5;21m__getitem__\u001b[39m(k, T\u001b[38;5;241m=\u001b[39m\u001b[38;5;28mself\u001b[39m\u001b[38;5;241m.\u001b[39mT)\n",
      "File \u001b[0;32m/opt/anaconda3/lib/python3.12/site-packages/sequence_jacobian/classes/result_dict.py:27\u001b[0m, in \u001b[0;36mResultDict.__getitem__\u001b[0;34m(self, k, **kwargs)\u001b[0m\n\u001b[1;32m     25\u001b[0m \u001b[38;5;28;01mdef\u001b[39;00m \u001b[38;5;21m__getitem__\u001b[39m(\u001b[38;5;28mself\u001b[39m, k, \u001b[38;5;241m*\u001b[39m\u001b[38;5;241m*\u001b[39mkwargs):\n\u001b[1;32m     26\u001b[0m     \u001b[38;5;28;01mif\u001b[39;00m \u001b[38;5;28misinstance\u001b[39m(k, \u001b[38;5;28mstr\u001b[39m):\n\u001b[0;32m---> 27\u001b[0m         \u001b[38;5;28;01mreturn\u001b[39;00m \u001b[38;5;28mself\u001b[39m\u001b[38;5;241m.\u001b[39mtoplevel[k]\n\u001b[1;32m     28\u001b[0m     \u001b[38;5;28;01melif\u001b[39;00m \u001b[38;5;28misinstance\u001b[39m(k, \u001b[38;5;28mtuple\u001b[39m):\n\u001b[1;32m     29\u001b[0m         \u001b[38;5;28;01mraise\u001b[39;00m \u001b[38;5;167;01mTypeError\u001b[39;00m(\u001b[38;5;124mf\u001b[39m\u001b[38;5;124m'\u001b[39m\u001b[38;5;124mKey \u001b[39m\u001b[38;5;132;01m{\u001b[39;00mk\u001b[38;5;132;01m}\u001b[39;00m\u001b[38;5;124m to \u001b[39m\u001b[38;5;132;01m{\u001b[39;00m\u001b[38;5;28mtype\u001b[39m(\u001b[38;5;28mself\u001b[39m)\u001b[38;5;241m.\u001b[39m\u001b[38;5;18m__name__\u001b[39m\u001b[38;5;132;01m}\u001b[39;00m\u001b[38;5;124m cannot be tuple\u001b[39m\u001b[38;5;124m'\u001b[39m)\n",
      "\u001b[0;31mKeyError\u001b[0m: 'C_T10'"
     ]
    }
   ],
   "source": [
    "variable_names = ['C_T10', 'C_T50', 'C_B10','C_T50']\n",
    "\n",
    "irfs_CTBk = {k: models['ha'].solve_impulse_linear(ss['ha'], \n",
    "                                            unknowns=['Y'], \n",
    "                                            targets=['asset_mkt'],\n",
    "                                            inputs={'B': dB}, \n",
    "                                            outputs=['Y'],  #change THIS\n",
    "                                            Js=Js)[k] for k in variable_names}"
   ]
  },
  {
   "cell_type": "markdown",
   "metadata": {},
   "source": [
    "### Figure 2(b)"
   ]
  },
  {
   "cell_type": "code",
   "execution_count": 288,
   "metadata": {},
   "outputs": [],
   "source": [
    "# EXTENSIONS' model\n",
    "# tax on the richest \n",
    "# re-placing block to fit extension\n",
    "common_blocks_richest = common_blocks.copy()\n",
    "common_blocks_richest[2] = fiscal_richest\n",
    "model_ha_richest = sj.combine(common_blocks_richest + [hh_ha])\n",
    "\n",
    "irf_B_richest = model_ha_richest.solve_impulse_linear(ss['ha'], unknowns=['Y'], targets=['asset_mkt'],\n",
    "                                                      inputs={'B': dB}, outputs=['Y'])['Y']"
   ]
  },
  {
   "cell_type": "code",
   "execution_count": 289,
   "metadata": {},
   "outputs": [],
   "source": [
    "# EXTENSIONS' model\n",
    "# taylor rule\n",
    "ss_taylor = ss['ha'].copy()\n",
    "ss_taylor['phi'], ss_taylor['rstar'] = 1.5, r\n",
    "model_ha_taylor = sj.combine(common_blocks + [hh_ha, taylor_rule])\n",
    "irf_B_taylor = model_ha_taylor.solve_impulse_linear(ss_taylor, unknowns=['Y', 'pi'], targets=['asset_mkt', 'nkpc_res'],\n",
    "                                               inputs={'B': dB}, outputs=['Y'], Js=Js)['Y']"
   ]
  },
  {
   "cell_type": "code",
   "execution_count": 290,
   "metadata": {},
   "outputs": [],
   "source": [
    "# EXTENSIONS' model\n",
    "# self financed deficits\n",
    "irf_B_ALW = models['ha'].solve_impulse_linear(ss['ha'], unknowns=['Y', 'B'], targets=['asset_mkt', 'tax_rate_res'],\n",
    "                                             inputs={'tax_rate_shock': dT_shock}, outputs=['Y'], Js=Js)['Y']\n"
   ]
  },
  {
   "cell_type": "code",
   "execution_count": 291,
   "metadata": {},
   "outputs": [
    {
     "name": "stderr",
     "output_type": "stream",
     "text": [
      "<>:9: SyntaxWarning: invalid escape sequence '\\%'\n",
      "<>:9: SyntaxWarning: invalid escape sequence '\\%'\n",
      "/var/folders/cr/71dt26rx1ljbqzzzxpwv5g6r0000gn/T/ipykernel_25756/1917097920.py:9: SyntaxWarning: invalid escape sequence '\\%'\n"
     ]
    },
    {
     "data": {
      "image/png": "[encoded data removed]",
      "text/plain": [
       "<Figure size 640x480 with 1 Axes>"
      ]
     },
     "metadata": {},
     "output_type": "display_data"
    }
   ],
   "source": [
    "plt.plot(irfs_B['ha'][:41], label='Baseline', color='black')\n",
    "plt.plot(irf_B_richest[:41], label='Taxes on richest', linestyle='-', color='#800080', marker='o', markersize=2)\n",
    "plt.plot(irf_B_taylor[:41], label='Taylor rule', linestyle='dashed', color='red')\n",
    "plt.plot(irf_B_ALW[:41], label='ALW (2024) rule', linestyle='dashdot', color='green')\n",
    "plt.axhline(y=0, linestyle='dotted', color='gray')\n",
    "\n",
    "plt.legend(frameon=False)\n",
    "plt.xlabel('Quarter')\n",
    "plt.ylabel('\\% change in output')\n",
    "plt.savefig('figures/figure2b_deficit_alternative_rules.pdf', bbox_inches='tight')"
   ]
  },
  {
   "cell_type": "markdown",
   "metadata": {},
   "source": [
    "# Personal tests"
   ]
  },
  {
   "cell_type": "code",
   "execution_count": 292,
   "metadata": {},
   "outputs": [
    {
     "name": "stdout",
     "output_type": "stream",
     "text": [
      "dict_keys(['ha', 'ta', 'ra'])\n",
      "dict_keys(['Y', 'mu', 'r_ante', 'B', 'G', 'tax_rate_shock', 'T_shock', 'T_rule_coeff', 'pi', 'kappa', 'beta_ave', 'vscale', 'frisch', 'eis', 'min_a', 'max_a', 'n_a', 'beta_hi', 'dbeta', 'omega', 'q', 'Tr_lumpsum', 'Tax_richest', 'zeta', 'r_post_bonds', 'qbond', 'N', 'wN', 'div', 'T', 'tax_rate', 'wN_aftertax', 'div_aftertax', 'tax_rate_res', 'T_res', 'constant_owed_res', 'p', 'r_post_equity', 'cap_cond', 'r', 'A', 'C', 'C_T10', 'C_B10', 'C_T50', 'C_B50', 'asset_mkt', 'goods_mkt', 'nkpc_res'])\n",
      "dict_keys(['e_grid', 'Pi', 'a_grid', 'beta', 'pi_pdf', 'y', 'a', 'c', 'Va', 'Dbeg', 'D', 'c_t10', 'c_b10', 'c_t50', 'c_b50'])\n",
      "dict_keys(['Y', 'mu', 'r_ante', 'B', 'G', 'tax_rate_shock', 'T_shock', 'T_rule_coeff', 'pi', 'kappa', 'beta_ave', 'vscale', 'frisch', 'eis', 'beta', 'lam', 'C_RA', 'A', 'r_post_bonds', 'qbond', 'N', 'wN', 'div', 'T', 'tax_rate', 'wN_aftertax', 'div_aftertax', 'tax_rate_res', 'T_res', 'constant_owed_res', 'p', 'r_post_equity', 'cap_cond', 'r', 'euler', 'budget_constraint', 'C_H2M', 'C', 'asset_mkt', 'goods_mkt', 'nkpc_res'])\n",
      "dict_keys(['Y', 'mu', 'r_ante', 'B', 'G', 'tax_rate_shock', 'T_shock', 'T_rule_coeff', 'pi', 'kappa', 'beta_ave', 'vscale', 'frisch', 'eis', 'beta', 'C', 'A', 'r_post_bonds', 'qbond', 'N', 'wN', 'div', 'T', 'tax_rate', 'wN_aftertax', 'div_aftertax', 'tax_rate_res', 'T_res', 'constant_owed_res', 'p', 'r_post_equity', 'cap_cond', 'r', 'euler', 'budget_constraint', 'asset_mkt', 'goods_mkt', 'nkpc_res'])\n"
     ]
    }
   ],
   "source": [
    "# What we're working with:\n",
    "print(ss.keys())\n",
    "# HA\n",
    "print(ss['ha'].keys())\n",
    "print(ss['ha'].internals['hh_ha'].keys())\n",
    "# TA (no internals)\n",
    "print(ss['ta'].keys())\n",
    "# RA (no internals)\n",
    "print(ss['ra'].keys())"
   ]
  },
  {
   "cell_type": "code",
   "execution_count": 293,
   "metadata": {},
   "outputs": [
    {
     "data": {
      "text/plain": [
       "0.8000005881724863"
      ]
     },
     "execution_count": 293,
     "metadata": {},
     "output_type": "execute_result"
    }
   ],
   "source": [
    "hh_distribution = ss['ha'].internals['hh_ha']['D']\n",
    "consumption_distribution = ss['ha'].internals['hh_ha']['c']\n",
    "ss['ha']['C']"
   ]
  },
  {
   "cell_type": "code",
   "execution_count": 294,
   "metadata": {},
   "outputs": [
    {
     "name": "stdout",
     "output_type": "stream",
     "text": [
      "dict_keys(['ha', 'ta', 'ra'])\n"
     ]
    }
   ],
   "source": [
    "print(irfs_B.keys())"
   ]
  },
  {
   "cell_type": "code",
   "execution_count": 295,
   "metadata": {},
   "outputs": [
    {
     "name": "stdout",
     "output_type": "stream",
     "text": [
      "49878.00398736464\n",
      "114001.8172257896\n"
     ]
    }
   ],
   "source": [
    "c_t10, c_b10, c_t50, c_b50 = group_c_not_agg(consumption_distribution, hh_distribution)\n",
    "print(np.sum(c_t10))\n",
    "print(np.sum(consumption_distribution))"
   ]
  },
  {
   "cell_type": "code",
   "execution_count": 296,
   "metadata": {},
   "outputs": [
    {
     "name": "stdout",
     "output_type": "stream",
     "text": [
      "0.264466084753584\n",
      "0.8000005881724863\n"
     ]
    }
   ],
   "source": [
    "print(np.sum(c_t10*hh_distribution))\n",
    "print(np.sum(consumption_distribution*hh_distribution))"
   ]
  }
 ],
 "metadata": {
  "kernelspec": {
   "display_name": "base",
   "language": "python",
   "name": "python3"
  },
  "language_info": {
   "codemirror_mode": {
    "name": "ipython",
    "version": 3
   },
   "file_extension": ".py",
   "mimetype": "text/x-python",
   "name": "python",
   "nbconvert_exporter": "python",
   "pygments_lexer": "ipython3",
   "version": "3.12.4"
  }
 },
 "nbformat": 4,
 "nbformat_minor": 2
}
