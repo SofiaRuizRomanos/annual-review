{
 "cells": [
  {
   "cell_type": "markdown",
   "metadata": {},
   "source": [
    "Test brouillon Clo"
   ]
  },
  {
   "cell_type": "markdown",
   "metadata": {},
   "source": [
    "The `solve_steady_state` method return a `SteadyStateDict` object. \n",
    "\n",
    "`ss`stores variables in 2 levels: top and internal:\n",
    "- top level = scalars, which are accessible for all blocks of the model \n",
    "- the internal level = block-specific multidimnesion variables"
   ]
  },
  {
   "cell_type": "markdown",
   "metadata": {},
   "source": [
    "## Main replication file"
   ]
  },
  {
   "cell_type": "code",
   "execution_count": 1,
   "metadata": {},
   "outputs": [],
   "source": [
    "import numpy as np\n",
    "import matplotlib.pyplot as plt\n",
    "import scipy\n",
    "import json\n",
    "\n",
    "#from .result_dict import ResultDict\n",
    "\n",
    "import sequence_jacobian as sj # sequence-space Jacobian toolkit\n",
    "\n",
    "from household import hh_ha, hh_ta, hh_ra"
   ]
  },
  {
   "cell_type": "code",
   "execution_count": 2,
   "metadata": {},
   "outputs": [
    {
     "name": "stdout",
     "output_type": "stream",
     "text": [
      "['ImpulseDict', 'JacobianDict', 'SteadyStateDict', '__builtins__', '__cached__', '__doc__', '__file__', '__loader__', '__name__', '__package__', '__path__', '__spec__', 'agrid', 'apply_function', 'blocks', 'classes', 'combine', 'create_model', 'drawdag', 'estimation', 'formatwarning_orig', 'grids', 'het', 'hetblocks', 'interpolate', 'interpolate_y', 'markov_rouwenhorst', 'markov_tauchen', 'misc', 'setmin', 'simple', 'solved', 'utilities', 'warnings']\n"
     ]
    }
   ],
   "source": [
    "print(dir(sj))"
   ]
  },
  {
   "cell_type": "code",
   "execution_count": 3,
   "metadata": {},
   "outputs": [],
   "source": [
    "plt.rcParams.update({'font.size': 10, 'font.family': 'serif', 'figure.figsize': (4, 3)})\n",
    "# plt.rcParams.update({'text.usetex': True, 'font.serif': 'Palatino'})"
   ]
  },
  {
   "cell_type": "code",
   "execution_count": 4,
   "metadata": {},
   "outputs": [],
   "source": [
    "@sj.simple\n",
    "def production(Y, mu):\n",
    "    \"\"\"Split aggregate income into pre-tax wage and dividends income\"\"\"\n",
    "    N = Y               # production technology (to first order, i.e. ignoring any Calvo or Rotemberg distortion)\n",
    "    wN = Y / mu\n",
    "    div = Y - wN\n",
    "    return N, wN, div"
   ]
  },
  {
   "cell_type": "code",
   "execution_count": 5,
   "metadata": {},
   "outputs": [],
   "source": [
    "@sj.simple\n",
    "def real_ST_bonds(r_ante):\n",
    "    \"\"\"Bond returns if bonds are short term and real (our default assumption)\"\"\"\n",
    "    r_post_bonds = r_ante(-1)\n",
    "    qbond = 1/(1 + r_ante)\n",
    "    return r_post_bonds, qbond\n",
    "\n",
    "@sj.simple\n",
    "def nom_ST_bonds(r_ante, pi):\n",
    "    \"\"\"Bond returns if bonds are short term and nominal\"\"\"\n",
    "    # real return adjusted downward by any excess of expected over actual inflation\n",
    "    pi_e = pi(1)\n",
    "    r_post_bonds = (1 + r_ante(-1)) * (1 + pi_e(-1))/(1 + pi) - 1\n",
    "    qbond = 1/(1 + r_ante)\n",
    "    return r_post_bonds, qbond\n",
    "\n",
    "@sj.solved(unknowns={'qbond': (0.001, 100.)}, targets=['q_res'], solver=\"brentq\")\n",
    "def real_LT_bonds(qbond, r_ante, delta):\n",
    "    \"\"\"Bond returns if bonds are long term and real\"\"\"\n",
    "    # equation for end-of-period price q of stream of future coupons (1,delta,delta^2,...): q_res=0\n",
    "    q_res = qbond - (1 + delta * qbond(+1)) / (1 + r_ante)\n",
    "\n",
    "    # ex-post return on bonds is coupon today plus delta times value of remaining coupon stream\n",
    "    # divided by yesterday's end-of-period price\n",
    "    r_post_bonds = (1 + delta * qbond) / qbond(-1) - 1\n",
    "    return r_post_bonds, q_res"
   ]
  },
  {
   "cell_type": "code",
   "execution_count": 6,
   "metadata": {},
   "outputs": [],
   "source": [
    "@sj.simple\n",
    "def fiscal(B, r_post_bonds, G, Y, wN, div, tax_rate_shock, T_shock, T_rule_coeff, qbond):\n",
    "    \"\"\"Calculate taxes and after-tax wage and dividend income\"\"\"\n",
    "    T = (1 + r_post_bonds) * B(-1) + G - B  # total tax burden consistent with B and G\n",
    "    tax_rate = T / Y                        # required tax rate\n",
    "    wN_aftertax = (1 - tax_rate) * wN       # after-tax wage income\n",
    "    div_aftertax = (1 - tax_rate) * div     # after-tax dividends\n",
    "\n",
    "    # ALW (2024) rule\n",
    "    tax_rate_res = tax_rate - tax_rate.ss - tax_rate_shock\n",
    "    \n",
    "    # Tax revenue rule (used for FTPL and alternative fiscal rule)\n",
    "    T_res = T - T.ss - T_rule_coeff * (B(-1) - B.ss) - T_shock\n",
    "    \n",
    "    # Default fiscal rule for monetary policy: constant amount owed tomorrow\n",
    "    constant_owed_res = B/qbond - B.ss/qbond.ss\n",
    "    return T, tax_rate, wN_aftertax, div_aftertax, tax_rate_res, T_res, constant_owed_res"
   ]
  },
  {
   "cell_type": "code",
   "execution_count": 7,
   "metadata": {},
   "outputs": [],
   "source": [
    "@sj.simple\n",
    "def fiscal_richest(B, r_post_bonds, G, Y, wN, div):\n",
    "    \"\"\"Variant of above where any taxes beyond steady state are raised only on the richest\"\"\"\n",
    "    Tax_total = (1 + r_post_bonds) * B(-1) + G - B  # total tax burden\n",
    "    T = Tax_total.ss                                # fix standard proportional taxes at steady state level\n",
    "    Tax_richest = Tax_total - T                     # remaining tax burden assessed on richest\n",
    "    tax_rate = T / Y\n",
    "    wN_aftertax = (1 - tax_rate) * wN\n",
    "    div_aftertax = (1 - tax_rate) * div\n",
    "    return T, tax_rate, wN_aftertax, div_aftertax, Tax_richest"
   ]
  },
  {
   "cell_type": "code",
   "execution_count": null,
   "metadata": {},
   "outputs": [],
   "source": [
    "# also add option to tax richest type at margin\n",
    "    y = y.reshape(-1, n_e)  # reshape to beta*e grid\n",
    "    y[:, -1] -= Tax_richest / pi_e[-1].sum()  # tax richest e type\n",
    "    y = y.ravel()  # flatten back\n",
    "\n",
    "@sj.simple\n",
    "def top_t10_b20(c,D,centiles):\n",
    "\n",
    "    Distrib_allstates = ss.internals['hh_ha']['D'].sum(axis=0)\n",
    "\n",
    "    Cumul_sum = np.cumsum(Distrib_allstates)\n",
    "    centiles = []\n",
    "    for i in range(0,101):\n",
    "        idx = np.abs(Cumul_sum - (i/100)).argmin()\n",
    "        print(idx)\n",
    "    centiles.append(ss.internals['hh_ha']['c'][idx])\n",
    "    c_10_20 = centiles[90]/centiles[20]\n",
    "\n",
    "    return c_10_20   "
   ]
  },
  {
   "cell_type": "code",
   "execution_count": 8,
   "metadata": {},
   "outputs": [],
   "source": [
    "@sj.solved(unknowns={'p': (0.001,50)}, targets=['cap_cond'])\n",
    "def capitalization(div_aftertax, r_ante, p):\n",
    "    \"\"\"Calculate end-of-period value p of firm and ex-post return on equity holdings\"\"\"\n",
    "    cap_cond = p - (div_aftertax(+1) + p(+1))/(1 + r_ante)\n",
    "    r_post_equity = (div_aftertax + p)/p(-1) - 1\n",
    "    return r_post_equity, cap_cond\n",
    "\n",
    "@sj.simple\n",
    "def ex_post_r(r_post_equity, r_post_bonds, B, p):\n",
    "    \"\"\"Calculate ex-post return on all assets, combining equity and bond returns\"\"\"\n",
    "    r = (p(-1) * r_post_equity + B(-1) * r_post_bonds) / (p(-1) + B(-1))\n",
    "    return r"
   ]
  },
  {
   "cell_type": "code",
   "execution_count": 9,
   "metadata": {},
   "outputs": [],
   "source": [
    "@sj.simple\n",
    "def nkpc(pi, kappa, N, Y, G, beta_ave, vscale, frisch, tax_rate, mu, eis):\n",
    "    \"\"\"New Keynesian Phillips Curve\"\"\"\n",
    "    wedge = vscale*N**(1/frisch) - (1-tax_rate) / mu * (Y-G)**(-1/eis) # using C = Y-G\n",
    "    nkpc_res = kappa * wedge + beta_ave * pi(+1) - pi\n",
    "    return nkpc_res"
   ]
  },
  {
   "cell_type": "code",
   "execution_count": 10,
   "metadata": {},
   "outputs": [],
   "source": [
    "@sj.simple\n",
    "def taylor_rule(rstar, pi, phi):\n",
    "    \"\"\"Taylor rule for monetary policy\"\"\"\n",
    "    i = rstar + phi * pi\n",
    "    r_ante = i - pi(+1)\n",
    "    return r_ante"
   ]
  },
  {
   "cell_type": "code",
   "execution_count": 11,
   "metadata": {},
   "outputs": [],
   "source": [
    "@sj.simple\n",
    "def mkt_clearing(A, Y, C, p, B, G):\n",
    "    \"\"\"Market clearing conditions\"\"\"\n",
    "    asset_mkt = A - p - B\n",
    "    goods_mkt = C + G - Y\n",
    "    return asset_mkt, goods_mkt"
   ]
  },
  {
   "cell_type": "code",
   "execution_count": 12,
   "metadata": {},
   "outputs": [],
   "source": [
    "common_blocks = [production, real_ST_bonds, fiscal, capitalization, ex_post_r, nkpc, mkt_clearing]\n",
    "\n",
    "models_hh = [hh_ha, hh_ta, hh_ra]\n",
    "model_names = ['ha', 'ta', 'ra']\n",
    "\n",
    "models = {name: sj.combine(common_blocks + [hh]) for hh, name in zip(models_hh, model_names)}"
   ]
  },
  {
   "cell_type": "code",
   "execution_count": 13,
   "metadata": {},
   "outputs": [
    {
     "data": {
      "text/plain": [
       "1.1142857142857143"
      ]
     },
     "execution_count": 13,
     "metadata": {},
     "output_type": "execute_result"
    }
   ],
   "source": [
    "Y = 1           # normalization\n",
    "r = 0.005       # 2% annual real interest rate\n",
    "A = 20          # 500% assets to annual GDP\n",
    "B = 4           # 100% debt to annual GDP\n",
    "G = 0.2         # 20% gov spending \n",
    "C = Y - G       # remaining 80% is consumption\n",
    "\n",
    "tax = G + r*B                   # implied steady-state tax rate\n",
    "j = A - B                       # firm equity to GDP\n",
    "div_post = r * j                # implied post-tax dividends to justify firm equity\n",
    "div = div_post / (1 - tax)      # implied pre-tax dividends\n",
    "w_post = (1 - tax) * (1 - div)  # implied post-tax wage\n",
    "mu = 1 / (1 - div)              # implied markup\n",
    "mu"
   ]
  },
  {
   "cell_type": "code",
   "execution_count": 14,
   "metadata": {},
   "outputs": [],
   "source": [
    "eis = 1                                      # elasticity of intertemporal substitution\n",
    "frisch = 1                                   # Frisch elasticity of labor supply (only needed for Phillips curve)\n",
    "vscale = w_post / C**(1/eis) / Y**(1/frisch) # implied parameter scaling wage disutility for zero steady-state pi"
   ]
  },
  {
   "cell_type": "code",
   "execution_count": 15,
   "metadata": {},
   "outputs": [],
   "source": [
    "common_params = dict(Y=Y, r_ante=r, A=A, B=B, G=G, C=C, mu=mu, eis=eis, frisch=frisch, vscale=vscale,\n",
    "            pi = 0,                # steady-state inflation\n",
    "            kappa = 0.01,          # quarterly NKPC slope\n",
    "            tax_rate_shock = 0,    # tax rate \"shock\" (only used with ALW rule)\n",
    "            T_shock = 0,           # Tax level shock (only used with FTPL)\n",
    "            zeta = 0,              # income risk cyclicality parameter (only used to make income risk countercyclical)\n",
    "            T_rule_coeff = 0,      # Coefficient in tax revenue rule on debt (only used with slow adjustment)\n",
    "            )"
   ]
  },
  {
   "cell_type": "code",
   "execution_count": 16,
   "metadata": {},
   "outputs": [],
   "source": [
    "ss = {}"
   ]
  },
  {
   "cell_type": "code",
   "execution_count": 17,
   "metadata": {},
   "outputs": [
    {
     "data": {
      "text/plain": [
       "(2.0236257114447653e-11, 5.881724645107056e-07, -2.220446049250313e-18)"
      ]
     },
     "execution_count": 17,
     "metadata": {},
     "output_type": "execute_result"
    }
   ],
   "source": [
    "with open('hh_params.json') as f:\n",
    "    ha_params = json.load(f)\n",
    "\n",
    "ss['ha'] = models['ha'].steady_state({**ha_params, **common_params})\n",
    "ss['ha']['asset_mkt'], ss['ha']['goods_mkt'], ss['ha']['nkpc_res']"
   ]
  },
  {
   "cell_type": "code",
   "execution_count": 18,
   "metadata": {},
   "outputs": [
    {
     "name": "stdout",
     "output_type": "stream",
     "text": [
      "{'ha': <SteadyStateDict: ['Y', 'mu', 'r_ante', 'B', 'G', 'tax_rate_shock', 'T_shock', 'T_rule_coeff', 'pi', 'kappa', 'beta_ave', 'vscale', 'frisch', 'eis', 'min_a', 'max_a', 'n_a', 'beta_hi', 'dbeta', 'omega', 'q', 'Tr_lumpsum', 'Tax_richest', 'zeta', 'r_post_bonds', 'qbond', 'N', 'wN', 'div', 'T', 'tax_rate', 'wN_aftertax', 'div_aftertax', 'tax_rate_res', 'T_res', 'constant_owed_res', 'p', 'r_post_equity', 'cap_cond', 'r', 'A', 'C', 'asset_mkt', 'goods_mkt', 'nkpc_res'], internals=['hh_ha']>}\n"
     ]
    }
   ],
   "source": [
    "print(ss)"
   ]
  },
  {
   "cell_type": "code",
   "execution_count": 19,
   "metadata": {},
   "outputs": [
    {
     "data": {
      "text/plain": [
       "(-9.912071163853398e-13,\n",
       " 0.0,\n",
       " -3.552713678800501e-15,\n",
       " 0.0,\n",
       " -2.220446049250313e-18)"
      ]
     },
     "execution_count": 19,
     "metadata": {},
     "output_type": "execute_result"
    }
   ],
   "source": [
    "beta = 1 / (1 + r)\n",
    "ra_params = dict(beta=beta, beta_ave=beta)\n",
    "ss['ra'] = models['ra'].steady_state({**ra_params, **common_params}, dissolve=['hh_ra'])\n",
    "ss['ra']['asset_mkt'], ss['ra']['goods_mkt'], ss['ra']['budget_constraint'], ss['ra']['euler'], ss['ra']['nkpc_res']"
   ]
  },
  {
   "cell_type": "code",
   "execution_count": 20,
   "metadata": {},
   "outputs": [
    {
     "data": {
      "text/plain": [
       "(-9.912071163853398e-13,\n",
       " 0.0,\n",
       " -3.552713678800501e-15,\n",
       " 0.0,\n",
       " -2.220446049250313e-18)"
      ]
     },
     "execution_count": 20,
     "metadata": {},
     "output_type": "execute_result"
    }
   ],
   "source": [
    "beta = 1 / (1 + r)\n",
    "lam = 0.2 - r / (1+r)\n",
    "C_RA = (C - lam * w_post) / (1 - lam)\n",
    "ta_params = dict(beta=beta, beta_ave=beta, lam=lam, C_RA=C_RA)\n",
    "ss['ta'] = models['ta'].steady_state({**ta_params, **common_params}, dissolve=['hh_ta'])\n",
    "ss['ra']['asset_mkt'], ss['ra']['goods_mkt'], ss['ra']['budget_constraint'], ss['ra']['euler'], ss['ra']['nkpc_res']"
   ]
  },
  {
   "cell_type": "code",
   "execution_count": 21,
   "metadata": {},
   "outputs": [
    {
     "data": {
      "text/plain": [
       "'hh_ha'"
      ]
     },
     "execution_count": 21,
     "metadata": {},
     "output_type": "execute_result"
    }
   ],
   "source": [
    "T = 400\n",
    "Js = {'hh_ha': hh_ha.jacobian(ss['ha'], inputs=['wN_aftertax', 'N', 'r'], outputs=['C', 'A','c','D'], T=T)}\n",
    "hh_ha.name # verify that 'hh_ha' is the name of the het-agent household block"
   ]
  },
  {
   "cell_type": "code",
   "execution_count": 21,
   "metadata": {},
   "outputs": [],
   "source": [
    "rho_B, rho = 0.975, 0.9\n",
    "\n",
    "dT_shock = -rho**np.arange(T)\n",
    "dB = np.empty_like(dT_shock)\n",
    "dB[0] = -dT_shock[0]\n",
    "for t in range(1, T):\n",
    "    dB[t] = rho_B * dB[t-1] - dT_shock[t]"
   ]
  },
  {
   "cell_type": "code",
   "execution_count": 22,
   "metadata": {},
   "outputs": [],
   "source": [
    "irfs_B = {k: models[k].solve_impulse_linear(ss[k], unknowns=['Y'], targets=['asset_mkt'],\n",
    "                                            inputs={'B': dB}, outputs=['Y'], Js=Js)['Y'] for k in model_names}"
   ]
  },
  {
   "cell_type": "code",
   "execution_count": 23,
   "metadata": {},
   "outputs": [
    {
     "name": "stderr",
     "output_type": "stream",
     "text": [
      "<>:6: SyntaxWarning: invalid escape sequence '\\%'\n",
      "<>:6: SyntaxWarning: invalid escape sequence '\\%'\n",
      "/var/folders/tk/zvlm5zxj4gzfjmrhd2466bv40000gn/T/ipykernel_3393/2220617584.py:6: SyntaxWarning: invalid escape sequence '\\%'\n"
     ]
    },
    {
     "data": {
      "image/png": "[encoded data removed]",
      "text/plain": [
       "<Figure size 400x300 with 1 Axes>"
      ]
     },
     "metadata": {},
     "output_type": "display_data"
    }
   ],
   "source": [
    "plt.plot(irfs_B['ha'][:41], label='Heterogeneous agents', color='black')\n",
    "plt.plot(irfs_B['ta'][:41], label='Two agents', linestyle='dashed', color='orange')\n",
    "plt.plot(irfs_B['ra'][:41], label='Representative agent', linestyle='dashdot', color='red')\n",
    "plt.legend(frameon=False)\n",
    "plt.xlabel('Quarter')\n",
    "plt.ylabel('\\% change in output')\n",
    "plt.savefig('figures/figure2a_deficit_by_model.pdf', bbox_inches='tight')"
   ]
  },
  {
   "cell_type": "code",
   "execution_count": 24,
   "metadata": {},
   "outputs": [
    {
     "name": "stdout",
     "output_type": "stream",
     "text": [
      "Micro outputs: ['D', 'Dbeg', 'Pi', 'Va', 'a', 'c', 'e_grid', 'a_grid', 'beta', 'pi_pdf', 'y']\n"
     ]
    }
   ],
   "source": [
    "print(f'Micro outputs: {hh_ha.internals}')\n",
    "# there is the consumption variable 'c' in the dictionnary"
   ]
  },
  {
   "cell_type": "markdown",
   "metadata": {},
   "source": [
    "Micro outputs:\n",
    "- `D`\n",
    "- `Dbeg`\n",
    "- `Pi`\n",
    "- `Va`\n",
    "- `a`\n",
    "- `c`\n",
    "- `e_grid`\n",
    "- `a_grid`\n",
    "- `beta`\n",
    "- `pi_pdf`\n",
    "- `y`"
   ]
  },
  {
   "cell_type": "code",
   "execution_count": 25,
   "metadata": {},
   "outputs": [],
   "source": [
    "partial_eq = hh_ha.steady_state({**ha_params, **common_params})"
   ]
  },
  {
   "cell_type": "code",
   "execution_count": 26,
   "metadata": {},
   "outputs": [
    {
     "data": {
      "text/plain": [
       "0.003722594280479629"
      ]
     },
     "execution_count": 26,
     "metadata": {},
     "output_type": "execute_result"
    }
   ],
   "source": [
    "partial_eq.internals['hh_ha']['c'].min() \n",
    "# minimum de consumption is 0.003722594\n"
   ]
  },
  {
   "cell_type": "code",
   "execution_count": 27,
   "metadata": {},
   "outputs": [],
   "source": [
    "global_eq =  hh_ha.steady_state({**ha_params, **common_params})\n",
    "#global_eq.outputs['hh_ha']['c'].min() "
   ]
  },
  {
   "cell_type": "code",
   "execution_count": 28,
   "metadata": {},
   "outputs": [
    {
     "name": "stdout",
     "output_type": "stream",
     "text": [
      "0.8000005881724646\n"
     ]
    }
   ],
   "source": [
    "print(ss['ha']['C'])"
   ]
  },
  {
   "cell_type": "code",
   "execution_count": 29,
   "metadata": {},
   "outputs": [
    {
     "data": {
      "text/plain": [
       "[<matplotlib.lines.Line2D at 0x13071bcb0>,\n",
       " <matplotlib.lines.Line2D at 0x1307437a0>,\n",
       " <matplotlib.lines.Line2D at 0x1307a0560>,\n",
       " <matplotlib.lines.Line2D at 0x1307a0710>,\n",
       " <matplotlib.lines.Line2D at 0x1307a0800>,\n",
       " <matplotlib.lines.Line2D at 0x1307a08f0>,\n",
       " <matplotlib.lines.Line2D at 0x1307a09e0>,\n",
       " <matplotlib.lines.Line2D at 0x1307a0ad0>,\n",
       " <matplotlib.lines.Line2D at 0x1307a0bc0>,\n",
       " <matplotlib.lines.Line2D at 0x1307a0cb0>,\n",
       " <matplotlib.lines.Line2D at 0x13071a360>,\n",
       " <matplotlib.lines.Line2D at 0x13075a120>,\n",
       " <matplotlib.lines.Line2D at 0x1307a0da0>,\n",
       " <matplotlib.lines.Line2D at 0x1307a0fe0>,\n",
       " <matplotlib.lines.Line2D at 0x130742630>,\n",
       " <matplotlib.lines.Line2D at 0x130741cd0>,\n",
       " <matplotlib.lines.Line2D at 0x1307a10d0>,\n",
       " <matplotlib.lines.Line2D at 0x1307a1280>,\n",
       " <matplotlib.lines.Line2D at 0x1307a1370>,\n",
       " <matplotlib.lines.Line2D at 0x1307a1460>,\n",
       " <matplotlib.lines.Line2D at 0x1307a1550>,\n",
       " <matplotlib.lines.Line2D at 0x1307a1640>,\n",
       " <matplotlib.lines.Line2D at 0x1307a1730>,\n",
       " <matplotlib.lines.Line2D at 0x1307a17f0>,\n",
       " <matplotlib.lines.Line2D at 0x1307a18e0>,\n",
       " <matplotlib.lines.Line2D at 0x1307a19d0>,\n",
       " <matplotlib.lines.Line2D at 0x1307a1ac0>,\n",
       " <matplotlib.lines.Line2D at 0x1307a1bb0>,\n",
       " <matplotlib.lines.Line2D at 0x1307a1ca0>,\n",
       " <matplotlib.lines.Line2D at 0x1307a1d90>,\n",
       " <matplotlib.lines.Line2D at 0x11af36a20>,\n",
       " <matplotlib.lines.Line2D at 0x1307a1e80>,\n",
       " <matplotlib.lines.Line2D at 0x1307a2030>,\n",
       " <matplotlib.lines.Line2D at 0x1307a2120>,\n",
       " <matplotlib.lines.Line2D at 0x1307a2210>,\n",
       " <matplotlib.lines.Line2D at 0x1307a2300>,\n",
       " <matplotlib.lines.Line2D at 0x1307a23f0>,\n",
       " <matplotlib.lines.Line2D at 0x1307a24e0>,\n",
       " <matplotlib.lines.Line2D at 0x1307a25d0>,\n",
       " <matplotlib.lines.Line2D at 0x1307a26c0>,\n",
       " <matplotlib.lines.Line2D at 0x1307a27b0>,\n",
       " <matplotlib.lines.Line2D at 0x1307a28a0>,\n",
       " <matplotlib.lines.Line2D at 0x1307a2990>,\n",
       " <matplotlib.lines.Line2D at 0x1307a2a80>,\n",
       " <matplotlib.lines.Line2D at 0x1307a2b70>,\n",
       " <matplotlib.lines.Line2D at 0x1307a2c60>,\n",
       " <matplotlib.lines.Line2D at 0x1307a2d50>,\n",
       " <matplotlib.lines.Line2D at 0x1307a2e40>,\n",
       " <matplotlib.lines.Line2D at 0x1307a2f00>,\n",
       " <matplotlib.lines.Line2D at 0x1307a2ff0>,\n",
       " <matplotlib.lines.Line2D at 0x1307a30e0>,\n",
       " <matplotlib.lines.Line2D at 0x1307a31d0>,\n",
       " <matplotlib.lines.Line2D at 0x1307a3290>,\n",
       " <matplotlib.lines.Line2D at 0x1307a3380>,\n",
       " <matplotlib.lines.Line2D at 0x1307a3470>,\n",
       " <matplotlib.lines.Line2D at 0x1307a3560>,\n",
       " <matplotlib.lines.Line2D at 0x1307a3650>,\n",
       " <matplotlib.lines.Line2D at 0x1307a3740>,\n",
       " <matplotlib.lines.Line2D at 0x1307a3830>,\n",
       " <matplotlib.lines.Line2D at 0x1307a38f0>,\n",
       " <matplotlib.lines.Line2D at 0x1307a39e0>,\n",
       " <matplotlib.lines.Line2D at 0x1307a3ad0>,\n",
       " <matplotlib.lines.Line2D at 0x1307a3bc0>,\n",
       " <matplotlib.lines.Line2D at 0x1307a3cb0>,\n",
       " <matplotlib.lines.Line2D at 0x1307a3da0>,\n",
       " <matplotlib.lines.Line2D at 0x1307a3e90>,\n",
       " <matplotlib.lines.Line2D at 0x1307a3f80>,\n",
       " <matplotlib.lines.Line2D at 0x130686720>,\n",
       " <matplotlib.lines.Line2D at 0x1307c0170>,\n",
       " <matplotlib.lines.Line2D at 0x1307c0260>,\n",
       " <matplotlib.lines.Line2D at 0x1307c0350>,\n",
       " <matplotlib.lines.Line2D at 0x1306ddac0>,\n",
       " <matplotlib.lines.Line2D at 0x1307c0440>,\n",
       " <matplotlib.lines.Line2D at 0x1307c05f0>,\n",
       " <matplotlib.lines.Line2D at 0x1307c06e0>,\n",
       " <matplotlib.lines.Line2D at 0x1307c07d0>,\n",
       " <matplotlib.lines.Line2D at 0x1307c08c0>,\n",
       " <matplotlib.lines.Line2D at 0x1307c09b0>,\n",
       " <matplotlib.lines.Line2D at 0x1307c0aa0>,\n",
       " <matplotlib.lines.Line2D at 0x1307c0b90>,\n",
       " <matplotlib.lines.Line2D at 0x1307c0c80>,\n",
       " <matplotlib.lines.Line2D at 0x1307c0d70>,\n",
       " <matplotlib.lines.Line2D at 0x1307c0e60>,\n",
       " <matplotlib.lines.Line2D at 0x1307c0f50>,\n",
       " <matplotlib.lines.Line2D at 0x1307c1040>,\n",
       " <matplotlib.lines.Line2D at 0x1307c1130>,\n",
       " <matplotlib.lines.Line2D at 0x1307c1220>,\n",
       " <matplotlib.lines.Line2D at 0x1307c1310>,\n",
       " <matplotlib.lines.Line2D at 0x1307c1400>,\n",
       " <matplotlib.lines.Line2D at 0x1307c14f0>,\n",
       " <matplotlib.lines.Line2D at 0x1307c15e0>,\n",
       " <matplotlib.lines.Line2D at 0x1307c16d0>,\n",
       " <matplotlib.lines.Line2D at 0x1307c17c0>,\n",
       " <matplotlib.lines.Line2D at 0x1307c18b0>,\n",
       " <matplotlib.lines.Line2D at 0x1307c19a0>,\n",
       " <matplotlib.lines.Line2D at 0x1307c1a90>,\n",
       " <matplotlib.lines.Line2D at 0x1307c1b80>,\n",
       " <matplotlib.lines.Line2D at 0x1307071d0>,\n",
       " <matplotlib.lines.Line2D at 0x1307072f0>,\n",
       " <matplotlib.lines.Line2D at 0x130706fc0>,\n",
       " <matplotlib.lines.Line2D at 0x1306ded50>,\n",
       " <matplotlib.lines.Line2D at 0x1307c1d30>,\n",
       " <matplotlib.lines.Line2D at 0x1307c1e20>,\n",
       " <matplotlib.lines.Line2D at 0x1307c1f10>,\n",
       " <matplotlib.lines.Line2D at 0x1307c2000>,\n",
       " <matplotlib.lines.Line2D at 0x1307c20f0>,\n",
       " <matplotlib.lines.Line2D at 0x1307c21e0>,\n",
       " <matplotlib.lines.Line2D at 0x1307c22d0>,\n",
       " <matplotlib.lines.Line2D at 0x1307c23c0>,\n",
       " <matplotlib.lines.Line2D at 0x1307c24b0>,\n",
       " <matplotlib.lines.Line2D at 0x1307c25a0>,\n",
       " <matplotlib.lines.Line2D at 0x1307c2690>,\n",
       " <matplotlib.lines.Line2D at 0x1307c2780>,\n",
       " <matplotlib.lines.Line2D at 0x1307c2870>,\n",
       " <matplotlib.lines.Line2D at 0x1307c2960>,\n",
       " <matplotlib.lines.Line2D at 0x1307c2a50>,\n",
       " <matplotlib.lines.Line2D at 0x1307c2b40>,\n",
       " <matplotlib.lines.Line2D at 0x1307c2c30>,\n",
       " <matplotlib.lines.Line2D at 0x1307c2d20>,\n",
       " <matplotlib.lines.Line2D at 0x1307c2e10>,\n",
       " <matplotlib.lines.Line2D at 0x1307c2f00>,\n",
       " <matplotlib.lines.Line2D at 0x1307c2ff0>,\n",
       " <matplotlib.lines.Line2D at 0x1307c30e0>,\n",
       " <matplotlib.lines.Line2D at 0x1307c31d0>,\n",
       " <matplotlib.lines.Line2D at 0x1307c32c0>,\n",
       " <matplotlib.lines.Line2D at 0x1307c33b0>,\n",
       " <matplotlib.lines.Line2D at 0x1307c34a0>,\n",
       " <matplotlib.lines.Line2D at 0x1307c3590>,\n",
       " <matplotlib.lines.Line2D at 0x1307c3680>,\n",
       " <matplotlib.lines.Line2D at 0x1307c3770>,\n",
       " <matplotlib.lines.Line2D at 0x1307c3860>,\n",
       " <matplotlib.lines.Line2D at 0x1307c3950>,\n",
       " <matplotlib.lines.Line2D at 0x1307c3a40>,\n",
       " <matplotlib.lines.Line2D at 0x1307c3b30>,\n",
       " <matplotlib.lines.Line2D at 0x1307c3c20>,\n",
       " <matplotlib.lines.Line2D at 0x1307c3d10>,\n",
       " <matplotlib.lines.Line2D at 0x1307c3e00>,\n",
       " <matplotlib.lines.Line2D at 0x1307c3ef0>,\n",
       " <matplotlib.lines.Line2D at 0x1307c3fe0>,\n",
       " <matplotlib.lines.Line2D at 0x1307dc110>,\n",
       " <matplotlib.lines.Line2D at 0x1307dc200>,\n",
       " <matplotlib.lines.Line2D at 0x1307dc2f0>,\n",
       " <matplotlib.lines.Line2D at 0x1307dc3e0>,\n",
       " <matplotlib.lines.Line2D at 0x1307dc4d0>,\n",
       " <matplotlib.lines.Line2D at 0x1307dc5c0>,\n",
       " <matplotlib.lines.Line2D at 0x1307dc6b0>,\n",
       " <matplotlib.lines.Line2D at 0x1307dc7a0>,\n",
       " <matplotlib.lines.Line2D at 0x1307dc890>,\n",
       " <matplotlib.lines.Line2D at 0x1307dc980>,\n",
       " <matplotlib.lines.Line2D at 0x1307dca70>,\n",
       " <matplotlib.lines.Line2D at 0x1307274a0>,\n",
       " <matplotlib.lines.Line2D at 0x1307dcb60>,\n",
       " <matplotlib.lines.Line2D at 0x1307dcd10>,\n",
       " <matplotlib.lines.Line2D at 0x1307dce00>,\n",
       " <matplotlib.lines.Line2D at 0x1307dcef0>,\n",
       " <matplotlib.lines.Line2D at 0x1307dcfe0>,\n",
       " <matplotlib.lines.Line2D at 0x1307dd0d0>,\n",
       " <matplotlib.lines.Line2D at 0x1307dd1c0>,\n",
       " <matplotlib.lines.Line2D at 0x1307dd2b0>,\n",
       " <matplotlib.lines.Line2D at 0x1307dd3a0>,\n",
       " <matplotlib.lines.Line2D at 0x1307dd490>,\n",
       " <matplotlib.lines.Line2D at 0x1307dd580>,\n",
       " <matplotlib.lines.Line2D at 0x1307dd670>,\n",
       " <matplotlib.lines.Line2D at 0x1307dd760>,\n",
       " <matplotlib.lines.Line2D at 0x1307dd820>,\n",
       " <matplotlib.lines.Line2D at 0x1307dd910>,\n",
       " <matplotlib.lines.Line2D at 0x1307dda00>,\n",
       " <matplotlib.lines.Line2D at 0x1307ddaf0>,\n",
       " <matplotlib.lines.Line2D at 0x1307ddbe0>,\n",
       " <matplotlib.lines.Line2D at 0x1307ddcd0>,\n",
       " <matplotlib.lines.Line2D at 0x1307dddc0>,\n",
       " <matplotlib.lines.Line2D at 0x1307ddeb0>,\n",
       " <matplotlib.lines.Line2D at 0x1307ddfa0>,\n",
       " <matplotlib.lines.Line2D at 0x1307de090>,\n",
       " <matplotlib.lines.Line2D at 0x1307de180>,\n",
       " <matplotlib.lines.Line2D at 0x1307de270>,\n",
       " <matplotlib.lines.Line2D at 0x1307de360>,\n",
       " <matplotlib.lines.Line2D at 0x1307de450>,\n",
       " <matplotlib.lines.Line2D at 0x1307de540>,\n",
       " <matplotlib.lines.Line2D at 0x1307de630>,\n",
       " <matplotlib.lines.Line2D at 0x1307de720>,\n",
       " <matplotlib.lines.Line2D at 0x1307de810>,\n",
       " <matplotlib.lines.Line2D at 0x1307de900>,\n",
       " <matplotlib.lines.Line2D at 0x1307de9f0>,\n",
       " <matplotlib.lines.Line2D at 0x1307deae0>,\n",
       " <matplotlib.lines.Line2D at 0x1307debd0>,\n",
       " <matplotlib.lines.Line2D at 0x1307decc0>,\n",
       " <matplotlib.lines.Line2D at 0x1307dedb0>,\n",
       " <matplotlib.lines.Line2D at 0x1307deea0>,\n",
       " <matplotlib.lines.Line2D at 0x1307def90>,\n",
       " <matplotlib.lines.Line2D at 0x1307df080>,\n",
       " <matplotlib.lines.Line2D at 0x1307df170>,\n",
       " <matplotlib.lines.Line2D at 0x1307df260>,\n",
       " <matplotlib.lines.Line2D at 0x1307df350>,\n",
       " <matplotlib.lines.Line2D at 0x1307df440>,\n",
       " <matplotlib.lines.Line2D at 0x1307df530>,\n",
       " <matplotlib.lines.Line2D at 0x1307df620>,\n",
       " <matplotlib.lines.Line2D at 0x1307df710>,\n",
       " <matplotlib.lines.Line2D at 0x1307df800>,\n",
       " <matplotlib.lines.Line2D at 0x1307df8f0>]"
      ]
     },
     "execution_count": 29,
     "metadata": {},
     "output_type": "execute_result"
    },
    {
     "data": {
      "image/png": "[encoded data removed]",
      "text/plain": [
       "<Figure size 400x300 with 1 Axes>"
      ]
     },
     "metadata": {},
     "output_type": "display_data"
    }
   ],
   "source": [
    "trunc = 275\n",
    "plt.plot(partial_eq.internals['hh_ha']['c'][:trunc])"
   ]
  },
  {
   "cell_type": "code",
   "execution_count": 30,
   "metadata": {},
   "outputs": [
    {
     "name": "stdout",
     "output_type": "stream",
     "text": [
      "[[3.72259428e-03 1.15343342e-02 1.74260891e-02 ... 1.77284595e+02\n",
      "  1.95940290e+02 2.16844918e+02]\n",
      " [8.60009640e-03 1.92159874e-02 2.61499403e-02 ... 1.77501766e+02\n",
      "  1.96157297e+02 2.17061757e+02]\n",
      " [1.77969770e-02 2.91833363e-02 3.94571307e-02 ... 1.77788184e+02\n",
      "  1.96443558e+02 2.17347853e+02]\n",
      " ...\n",
      " [8.49723765e-01 8.49826507e-01 8.49931591e-01 ... 2.00151801e+01\n",
      "  2.20534188e+01 2.43378132e+01]\n",
      " [1.28636041e+00 1.28645158e+00 1.28654482e+00 ... 2.04884479e+01\n",
      "  2.25273795e+01 2.48124537e+01]\n",
      " [2.18601461e+00 2.18610084e+00 2.18618904e+00 ... 2.15476527e+01\n",
      "  2.35898784e+01 2.58782987e+01]]\n",
      "(66, 200)\n"
     ]
    }
   ],
   "source": [
    "print(partial_eq.internals['hh_ha']['c']) # we have all beta-income states thus 66 rows \n",
    "print(partial_eq.internals['hh_ha']['c'].shape)\n",
    "# shape(66,200)\n",
    "c_ss = partial_eq.internals['hh_ha']['c']"
   ]
  },
  {
   "cell_type": "code",
   "execution_count": 31,
   "metadata": {},
   "outputs": [
    {
     "name": "stdout",
     "output_type": "stream",
     "text": [
      "[[9.56951919e-05 5.11270815e-06 2.51387065e-06 ... 1.30398110e-15\n",
      "  2.76500882e-16 4.62625885e-17]\n",
      " [2.83996384e-04 8.85267768e-06 5.05242332e-06 ... 3.15521539e-15\n",
      "  6.67643258e-16 1.10477996e-16]\n",
      " [6.15950775e-04 1.34268782e-05 8.14296581e-06 ... 5.71876573e-15\n",
      "  1.20756095e-15 1.97862989e-16]\n",
      " ...\n",
      " [0.00000000e+00 0.00000000e+00 0.00000000e+00 ... 4.65460085e-12\n",
      "  9.78486494e-13 2.56958980e-13]\n",
      " [0.00000000e+00 0.00000000e+00 0.00000000e+00 ... 6.45186932e-12\n",
      "  1.35710202e-12 3.83201661e-13]\n",
      " [0.00000000e+00 0.00000000e+00 0.00000000e+00 ... 9.01863442e-12\n",
      "  1.93625307e-12 5.84876683e-13]]\n",
      "(66, 200)\n"
     ]
    }
   ],
   "source": [
    "print(partial_eq.internals['hh_ha']['Dbeg']) # we have all beta-income states thus 66 rows \n",
    "print(partial_eq.internals['hh_ha']['Dbeg'].shape)\n",
    "# shape(66,200)\n",
    "D_ss = partial_eq.internals['hh_ha']['Dbeg']"
   ]
  },
  {
   "cell_type": "code",
   "execution_count": 32,
   "metadata": {},
   "outputs": [
    {
     "name": "stdout",
     "output_type": "stream",
     "text": [
      "[  60.29449502   60.63516624   60.95779717   61.27070123   61.57422571\n",
      "   61.86864419   62.15437224   62.435442     62.70777145   62.98004991\n",
      "   63.24888874   63.50939729   63.76855223   64.02765051   64.28560993\n",
      "   64.54329452   64.7986562    65.05236365   65.30812867   65.56373154\n",
      "   65.8196603    66.07654844   66.33454185   66.5943944    66.85564688\n",
      "   67.11737847   67.37973645   67.64360638   67.90940714   68.17446237\n",
      "   68.44119439   68.71029396   68.98146602   69.25500465   69.53053315\n",
      "   69.80906939   70.09133533   70.37739725   70.66635632   70.9586085\n",
      "   71.2547285    71.55261352   71.85274256   72.15668942   72.46278712\n",
      "   72.77326224   73.08774092   73.40637983   73.72914291   74.05618645\n",
      "   74.38819491   74.72575313   75.06911579   75.41807755   75.77303648\n",
      "   76.13447902   76.50223269   76.87638095   77.25803736   77.64686221\n",
      "   78.04267903   78.44648179   78.85842455   79.27854672   79.70717716\n",
      "   80.14482639   80.59185039   81.04918551   81.51759966   81.99744967\n",
      "   82.48935162   82.99333268   83.50946886   84.03885474   84.58242049\n",
      "   85.14046934   85.71336802   86.30066429   86.90316391   87.52106749\n",
      "   88.153656     88.80278402   89.46893975   90.15325236   90.85735482\n",
      "   91.581923     92.32809637   93.0969462    93.88917223   94.70615404\n",
      "   95.54885432   96.41834196   97.31577636   98.24202423   99.19869138\n",
      "  100.18723929  101.2082492   102.26303819  103.35334914  104.48000774\n",
      "  105.64484612  106.84907242  108.0948391   109.38422593  110.72023775\n",
      "  112.10508381  113.54190585  115.03225823  116.57886685  118.18378826\n",
      "  119.85047703  121.58248165  123.38333903  125.25567392  127.20316321\n",
      "  129.22789549  131.33539503  133.5306711   135.81808264  138.20310436\n",
      "  140.69118411  143.28836019  146.0004588   148.83377275  151.7928264\n",
      "  154.88707909  158.12452583  161.51273697  165.06202326  168.78193048\n",
      "  172.68160539  176.77225734  181.06573554  185.57424748  190.31323382\n",
      "  195.29657688  200.53831539  206.05708267  211.86902745  217.99671483\n",
      "  224.45823992  231.27737636  238.47803443  246.08855634  254.13475077\n",
      "  262.64931972  271.66402608  281.21785698  291.34836786  302.0978268\n",
      "  313.51506748  325.64809919  338.55374345  352.29289286  366.92840216\n",
      "  382.53425227  399.18996372  416.9813747   436.00217352  456.35773201\n",
      "  478.1618285   501.54003724  526.62913004  553.58328413  582.57077448\n",
      "  613.77721363  647.40809877  683.69061762  722.8765206   765.24687729\n",
      "  811.11262738  860.81923103  914.75089682  973.33516024 1037.04891763\n",
      " 1106.4237929  1182.05298323 1264.59842074 1354.80076404 1453.48811409\n",
      " 1561.58849139 1680.14251983 1810.31685258 1953.42144439 2110.92854266\n",
      " 2284.49437027 2475.98391238 2687.49928153 2921.41221419 3180.40134482\n",
      " 3467.49500468 3786.12041849 4140.16031649 4534.01815402 4972.69330041\n",
      " 5461.86802609 6008.00783755 6618.47772614 7301.67692941 8067.19583246]\n",
      "(200,)\n"
     ]
    }
   ],
   "source": [
    "\n",
    "#c_ss = partial_eq.internals['hh_ha']['c']\n",
    "print(partial_eq.internals['hh_ha']['c'].sum(axis=0))\n",
    "print(partial_eq.internals['hh_ha']['c'].sum(axis=0).shape)"
   ]
  },
  {
   "cell_type": "code",
   "execution_count": 33,
   "metadata": {},
   "outputs": [
    {
     "name": "stdout",
     "output_type": "stream",
     "text": [
      "(66,)\n"
     ]
    }
   ],
   "source": [
    "#print(partial_eq.internals['hh_ha']['e_grid'])\n",
    "print(partial_eq.internals['hh_ha']['e_grid'].shape) # productivity grid \n",
    "# shape(66,)\n",
    "# D = ss.internals['hh_ha']['D'].sum(axis=0) # distribution over asset grid alone"
   ]
  },
  {
   "cell_type": "code",
   "execution_count": 34,
   "metadata": {},
   "outputs": [
    {
     "name": "stdout",
     "output_type": "stream",
     "text": [
      "[3.72259428e-03 8.60009640e-03 1.77969770e-02 2.47033364e-02\n",
      " 3.24915031e-02 5.10041046e-02 5.70707036e-02 6.42911774e-02\n",
      " 8.10396639e-02 1.18101699e-01 1.27213428e-01 1.63932665e-01\n",
      " 2.15615363e-01 2.32250440e-01 3.38465982e-01 3.78724267e-01\n",
      " 4.26639721e-01 4.80617345e-01 5.37783591e-01 7.83729200e-01\n",
      " 8.44195187e-01 1.11034279e+00 1.43083521e+00 1.54122635e+00\n",
      " 2.24607856e+00 2.83120420e+00 3.18940262e+00 3.56876085e+00\n",
      " 5.60212468e+00 7.36829424e+00 1.02276612e+01 2.11650478e+01\n",
      " 4.88963980e+01 3.72259428e-03 8.60009640e-03 1.77969770e-02\n",
      " 2.47033364e-02 3.24915031e-02 5.10041046e-02 5.70707036e-02\n",
      " 6.42911774e-02 8.10396639e-02 1.18101699e-01 1.27213428e-01\n",
      " 1.63932665e-01 2.15615363e-01 2.32250440e-01 3.38465982e-01\n",
      " 3.78724267e-01 4.26639721e-01 4.80617345e-01 5.37783591e-01\n",
      " 7.83729200e-01 8.44195187e-01 1.11034279e+00 1.43083521e+00\n",
      " 1.54122635e+00 2.24607856e+00 2.83120420e+00 3.18940262e+00\n",
      " 3.56876085e+00 5.60212468e+00 7.36829424e+00 1.02276612e+01\n",
      " 2.11650478e+01 4.88963980e+01]\n",
      "(66,)\n",
      "228.33073118410147\n"
     ]
    }
   ],
   "source": [
    "y_ss =partial_eq.internals['hh_ha']['y']\n",
    "print(partial_eq.internals['hh_ha']['y'])\n",
    "print(partial_eq.internals['hh_ha']['y'].shape) # total income per person \n",
    "# shape(66,)\n",
    "print(partial_eq.internals['hh_ha']['y'].sum(axis=0))\n",
    "# total income at ss 228.33073118410147"
   ]
  },
  {
   "cell_type": "code",
   "execution_count": 35,
   "metadata": {},
   "outputs": [
    {
     "name": "stdout",
     "output_type": "stream",
     "text": [
      "[0.91090272 0.91090272 0.91090272 0.91090272 0.91090272 0.91090272\n",
      " 0.91090272 0.91090272 0.91090272 0.91090272 0.91090272 0.91090272\n",
      " 0.91090272 0.91090272 0.91090272 0.91090272 0.91090272 0.91090272\n",
      " 0.91090272 0.91090272 0.91090272 0.91090272 0.91090272 0.91090272\n",
      " 0.91090272 0.91090272 0.91090272 0.91090272 0.91090272 0.91090272\n",
      " 0.91090272 0.91090272 0.91090272 0.99876287 0.99876287 0.99876287\n",
      " 0.99876287 0.99876287 0.99876287 0.99876287 0.99876287 0.99876287\n",
      " 0.99876287 0.99876287 0.99876287 0.99876287 0.99876287 0.99876287\n",
      " 0.99876287 0.99876287 0.99876287 0.99876287 0.99876287 0.99876287\n",
      " 0.99876287 0.99876287 0.99876287 0.99876287 0.99876287 0.99876287\n",
      " 0.99876287 0.99876287 0.99876287 0.99876287 0.99876287 0.99876287]\n",
      "(66,)\n"
     ]
    }
   ],
   "source": [
    "print(partial_eq.internals['hh_ha']['beta'])\n",
    "print(partial_eq.internals['hh_ha']['beta'].shape) # beta grid \n",
    "# shape(66,)\n",
    "# de 0 à 32 obs -> 0.91, de 33 a 67 -> 0.98"
   ]
  },
  {
   "cell_type": "code",
   "execution_count": 36,
   "metadata": {},
   "outputs": [
    {
     "name": "stdout",
     "output_type": "stream",
     "text": [
      "(66,)\n",
      "1.0000000000000981\n"
     ]
    }
   ],
   "source": [
    "pi_pdf_ss = partial_eq.internals['hh_ha']['pi_pdf']\n",
    "print(partial_eq.internals['hh_ha']['pi_pdf'].shape) # stationary distribution over all joint (β,e)(β,e)-states.\n",
    "# shape(66,)\n",
    "# de 0 à 32 obs -> 0.91, de 33 a 67 -> 0.98\n",
    "print(partial_eq.internals['hh_ha']['pi_pdf'].sum(axis=0))"
   ]
  },
  {
   "cell_type": "code",
   "execution_count": 37,
   "metadata": {},
   "outputs": [
    {
     "name": "stdout",
     "output_type": "stream",
     "text": [
      "[[9.56951919e-05 5.11270815e-06 2.51387065e-06 ... 1.30398110e-15\n",
      "  2.76500882e-16 4.62625885e-17]\n",
      " [2.83996384e-04 8.85267768e-06 5.05242332e-06 ... 3.15521539e-15\n",
      "  6.67643258e-16 1.10477996e-16]\n",
      " [6.15950775e-04 1.34268782e-05 8.14296581e-06 ... 5.71876573e-15\n",
      "  1.20756095e-15 1.97862989e-16]\n",
      " ...\n",
      " [0.00000000e+00 0.00000000e+00 0.00000000e+00 ... 4.65460085e-12\n",
      "  9.78486494e-13 2.56958980e-13]\n",
      " [0.00000000e+00 0.00000000e+00 0.00000000e+00 ... 6.45186932e-12\n",
      "  1.35710202e-12 3.83201661e-13]\n",
      " [0.00000000e+00 0.00000000e+00 0.00000000e+00 ... 9.01863442e-12\n",
      "  1.93625307e-12 5.84876683e-13]]\n",
      "(66, 200)\n"
     ]
    }
   ],
   "source": [
    "#pi_pdf_ss = partial_eq.internals['hh_ha']['pi_pdf']\n",
    "print(partial_eq.internals['hh_ha']['Dbeg'])\n",
    "print(partial_eq.internals['hh_ha']['Dbeg'].shape)\n",
    "#shape (66,200)"
   ]
  },
  {
   "cell_type": "code",
   "execution_count": 38,
   "metadata": {},
   "outputs": [
    {
     "name": "stdout",
     "output_type": "stream",
     "text": [
      "0.8000005881724652\n"
     ]
    }
   ],
   "source": [
    "D_ss = partial_eq.internals['hh_ha']['D']\n",
    "test = D_ss*c_ss\n",
    "print(np.sum(test))\n"
   ]
  },
  {
   "cell_type": "code",
   "execution_count": 39,
   "metadata": {},
   "outputs": [
    {
     "data": {
      "text/plain": [
       "114001.81722578834"
      ]
     },
     "execution_count": 39,
     "metadata": {},
     "output_type": "execute_result"
    }
   ],
   "source": [
    "np.sum(c_ss)\n",
    "#np.sum(D_ss)"
   ]
  },
  {
   "cell_type": "code",
   "execution_count": 40,
   "metadata": {},
   "outputs": [
    {
     "name": "stdout",
     "output_type": "stream",
     "text": [
      "[[4.28054646e-01 1.39564528e-02 5.25960451e-04 ... 6.05531230e-08\n",
      "  4.26968584e-08 2.77430211e-08]\n",
      " [1.59147057e-04 4.30704726e-01 1.15611827e-02 ... 6.05531229e-08\n",
      "  4.26968584e-08 2.77430211e-08]\n",
      " [1.59147058e-04 2.44929323e-04 4.33370781e-01 ... 6.05531230e-08\n",
      "  4.26968585e-08 2.77430212e-08]\n",
      " ...\n",
      " [2.88355405e-08 4.43782595e-08 6.29377033e-08 ... 4.33286686e-01\n",
      "  2.44881795e-04 1.59116175e-04]\n",
      " [2.88355405e-08 4.43782595e-08 6.29377032e-08 ... 1.15589393e-02\n",
      "  4.30621148e-01 1.59116175e-04]\n",
      " [2.88355405e-08 4.43782595e-08 6.29377032e-08 ... 5.25858388e-04\n",
      "  1.39537445e-02 4.27971582e-01]]\n",
      "(66, 66)\n"
     ]
    }
   ],
   "source": [
    "#pi_pdf_ss = partial_eq.internals['hh_ha']['Pi']\n",
    "print(partial_eq.internals['hh_ha']['Pi'])\n",
    "print(partial_eq.internals['hh_ha']['Pi'].shape) # transition matrix \n",
    "#shape (66,66)"
   ]
  },
  {
   "cell_type": "code",
   "execution_count": 41,
   "metadata": {},
   "outputs": [
    {
     "name": "stdout",
     "output_type": "stream",
     "text": [
      "[[2.69973015e+02 8.71311670e+01 5.76721487e+01 ... 5.66885126e-03\n",
      "  5.12911358e-03 4.63464863e-03]\n",
      " [1.16859155e+02 5.23002009e+01 3.84322101e+01 ... 5.66191550e-03\n",
      "  5.12343927e-03 4.63001872e-03]\n",
      " [5.64702645e+01 3.44374607e+01 2.54706813e+01 ... 5.65279411e-03\n",
      "  5.11597331e-03 4.62392421e-03]\n",
      " ...\n",
      " [1.18273731e+00 1.18259432e+00 1.18244811e+00 ... 5.02118890e-02\n",
      "  4.55711657e-02 4.12937675e-02]\n",
      " [7.81274044e-01 7.81218678e-01 7.81162059e-01 ... 4.90520320e-02\n",
      "  4.46123794e-02 4.05038540e-02]\n",
      " [4.59740751e-01 4.59722617e-01 4.59704070e-01 ... 4.66408111e-02\n",
      "  4.26030174e-02 3.88356287e-02]]\n",
      "(66, 200)\n"
     ]
    }
   ],
   "source": [
    "#pi_pdf_ss = partial_eq.internals['hh_ha']['Va']\n",
    "print(partial_eq.internals['hh_ha']['Va'])\n",
    "print(partial_eq.internals['hh_ha']['Va'].shape) # transition matrix \n",
    "#shape (66,200)"
   ]
  },
  {
   "cell_type": "code",
   "execution_count": 42,
   "metadata": {},
   "outputs": [
    {
     "name": "stdout",
     "output_type": "stream",
     "text": [
      "[[0.00000000e+00 3.57461940e-03 9.32870066e-03 ... 3.09436094e+03\n",
      "  3.42854576e+03 3.80315880e+03]\n",
      " [0.00000000e+00 7.70468354e-04 5.48235155e-03 ... 3.09414865e+03\n",
      "  3.42833363e+03 3.80294684e+03]\n",
      " [0.00000000e+00 0.00000000e+00 1.37204180e-03 ... 3.09387143e+03\n",
      "  3.42805657e+03 3.80266994e+03]\n",
      " ...\n",
      " [9.37793745e+00 9.38922107e+00 9.40076182e+00 ... 3.26185429e+03\n",
      "  3.61265657e+03 4.00588985e+03]\n",
      " [1.98786874e+01 1.98899826e+01 1.99015352e+01 ... 3.27231841e+03\n",
      "  3.62312000e+03 4.01635259e+03]\n",
      " [4.67103834e+01 4.67216835e+01 4.67332412e+01 ... 3.29899056e+03\n",
      "  3.64978885e+03 4.04301810e+03]]\n",
      "(66, 200)\n",
      "[1.68036236e+02 1.68447065e+02 1.68893059e+02 1.69366396e+02\n",
      " 1.69867237e+02 1.70395832e+02 1.70952310e+02 1.71533201e+02\n",
      " 1.72143170e+02 1.72774131e+02 1.73430097e+02 1.74116605e+02\n",
      " 1.74827349e+02 1.75561728e+02 1.76321543e+02 1.77106678e+02\n",
      " 1.77919953e+02 1.78761503e+02 1.79628450e+02 1.80523876e+02\n",
      " 1.81448190e+02 1.82401689e+02 1.83385193e+02 1.84398951e+02\n",
      " 1.85444465e+02 1.86523736e+02 1.87637743e+02 1.88786767e+02\n",
      " 1.89971605e+02 1.91196196e+02 1.92459430e+02 1.93761982e+02\n",
      " 1.95105569e+02 1.96491375e+02 1.97921317e+02 1.99395978e+02\n",
      " 2.00916305e+02 2.02483970e+02 2.04101682e+02 2.05770933e+02\n",
      " 2.07493114e+02 2.09272379e+02 2.11110387e+02 2.13007794e+02\n",
      " 2.14968595e+02 2.16992991e+02 2.19083893e+02 2.21243789e+02\n",
      " 2.23475482e+02 2.25781702e+02 2.28164783e+02 2.30627295e+02\n",
      " 2.33172282e+02 2.35803397e+02 2.38523852e+02 2.41336934e+02\n",
      " 2.44246768e+02 2.47257408e+02 2.50372072e+02 2.53595639e+02\n",
      " 2.56933041e+02 2.60388268e+02 2.63966392e+02 2.67672856e+02\n",
      " 2.71513080e+02 2.75492588e+02 2.79617357e+02 2.83893103e+02\n",
      " 2.88326043e+02 2.92923159e+02 2.97691551e+02 3.02639301e+02\n",
      " 3.07774862e+02 3.13106114e+02 3.18641570e+02 3.24390866e+02\n",
      " 3.30364105e+02 3.36572768e+02 3.43027667e+02 3.49740854e+02\n",
      " 3.56725965e+02 3.63994771e+02 3.71561162e+02 3.79439190e+02\n",
      " 3.87643248e+02 3.96189593e+02 4.05094980e+02 4.14377252e+02\n",
      " 4.24055715e+02 4.34150153e+02 4.44682001e+02 4.55673905e+02\n",
      " 4.67149823e+02 4.79135501e+02 4.91657546e+02 5.04744409e+02\n",
      " 5.18427244e+02 5.32738415e+02 5.47711935e+02 5.63384959e+02\n",
      " 5.79796013e+02 5.96986789e+02 6.15000762e+02 6.33884394e+02\n",
      " 6.53686351e+02 6.74459448e+02 6.96259161e+02 7.19146414e+02\n",
      " 7.43185103e+02 7.68444244e+02 7.94996235e+02 8.22918527e+02\n",
      " 8.52294108e+02 8.83212838e+02 9.15769930e+02 9.50069094e+02\n",
      " 9.86218045e+02 1.02433304e+03 1.06453966e+03 1.10697170e+03\n",
      " 1.15177309e+03 1.19909808e+03 1.24911294e+03 1.30199623e+03\n",
      " 1.35794209e+03 1.41715472e+03 1.47985596e+03 1.54628569e+03\n",
      " 1.61670011e+03 1.69137688e+03 1.77061657e+03 1.85474212e+03\n",
      " 1.94410238e+03 2.03907478e+03 2.14006501e+03 2.24751457e+03\n",
      " 2.36190220e+03 2.48374284e+03 2.61359837e+03 2.75207287e+03\n",
      " 2.89982799e+03 3.05757775e+03 3.22609961e+03 3.40623612e+03\n",
      " 3.59890861e+03 3.80511508e+03 4.02594616e+03 4.26258593e+03\n",
      " 4.51633047e+03 4.78859276e+03 5.08091298e+03 5.39497941e+03\n",
      " 5.73263381e+03 6.09589277e+03 6.48696835e+03 6.90827949e+03\n",
      " 7.36248047e+03 7.85248568e+03 8.38149647e+03 8.95302911e+03\n",
      " 9.57095343e+03 1.02395290e+04 1.09634501e+04 1.17478889e+04\n",
      " 1.25985544e+04 1.35217513e+04 1.45244472e+04 1.56143496e+04\n",
      " 1.67999906e+04 1.80908216e+04 1.94973243e+04 2.10311320e+04\n",
      " 2.27051670e+04 2.45337964e+04 2.65330070e+04 2.87206051e+04\n",
      " 3.11164409e+04 3.37426645e+04 3.66240139e+04 3.97881447e+04\n",
      " 4.32660019e+04 4.70922452e+04 5.13057337e+04 5.59500762e+04\n",
      " 6.10742611e+04 6.67333744e+04 7.29894216e+04 7.99122683e+04\n",
      " 8.75807182e+04 9.60837491e+04 1.05521933e+05 1.16009067e+05\n",
      " 1.27674053e+05 1.40663061e+05 1.55142026e+05 1.71299528e+05\n",
      " 1.89350125e+05 2.09538213e+05 2.32142487e+05 2.57481135e+05]\n"
     ]
    }
   ],
   "source": [
    "a_ss = partial_eq.internals['hh_ha']['a']\n",
    "print(partial_eq.internals['hh_ha']['a'])\n",
    "print(partial_eq.internals['hh_ha']['a'].shape) # assets \n",
    "#shape (66,200)\n",
    "print(partial_eq.internals['hh_ha']['a'].sum(axis=0))"
   ]
  },
  {
   "cell_type": "code",
   "execution_count": 43,
   "metadata": {},
   "outputs": [
    {
     "name": "stdout",
     "output_type": "stream",
     "text": [
      "[0.00000000e+00 1.13297108e-02 2.29176074e-02 3.47710865e-02\n",
      " 4.68978000e-02 5.93056658e-02 7.20028783e-02 8.49979195e-02\n",
      " 9.82995709e-02 1.11916926e-01 1.25859401e-01 1.40136754e-01\n",
      " 1.54759090e-01 1.69736884e-01 1.85080993e-01 2.00802670e-01\n",
      " 2.16913585e-01 2.33425840e-01 2.50351988e-01 2.67705054e-01\n",
      " 2.85498554e-01 3.03746514e-01 3.22463497e-01 3.41664626e-01\n",
      " 3.61365605e-01 3.81582747e-01 4.02333003e-01 4.23633987e-01\n",
      " 4.45504011e-01 4.67962111e-01 4.91028084e-01 5.14722522e-01\n",
      " 5.39066847e-01 5.64083354e-01 5.89795247e-01 6.16226682e-01\n",
      " 6.43402817e-01 6.71349853e-01 7.00095089e-01 7.29666972e-01\n",
      " 7.60095152e-01 7.91410541e-01 8.23645379e-01 8.56833290e-01\n",
      " 8.91009359e-01 9.26210199e-01 9.62474032e-01 9.99840765e-01\n",
      " 1.03835208e+00 1.07805151e+00 1.11898457e+00 1.16119881e+00\n",
      " 1.20474395e+00 1.24967200e+00 1.29603734e+00 1.34389691e+00\n",
      " 1.39331026e+00 1.44433978e+00 1.49705078e+00 1.55151168e+00\n",
      " 1.60779419e+00 1.66597344e+00 1.72612823e+00 1.78834120e+00\n",
      " 1.85269902e+00 1.91929268e+00 1.98821765e+00 2.05957421e+00\n",
      " 2.13346768e+00 2.21000871e+00 2.28931360e+00 2.37150463e+00\n",
      " 2.45671039e+00 2.54506615e+00 2.63671429e+00 2.73180468e+00\n",
      " 2.83049513e+00 2.93295192e+00 3.03935022e+00 3.14987473e+00\n",
      " 3.26472018e+00 3.38409202e+00 3.50820701e+00 3.63729400e+00\n",
      " 3.77159462e+00 3.91136416e+00 4.05687238e+00 4.20840445e+00\n",
      " 4.36626197e+00 4.53076400e+00 4.70224822e+00 4.88107215e+00\n",
      " 5.06761447e+00 5.26227641e+00 5.46548328e+00 5.67768607e+00\n",
      " 5.89936322e+00 6.13102249e+00 6.37320297e+00 6.62647725e+00\n",
      " 6.89145376e+00 7.16877929e+00 7.45914171e+00 7.76327285e+00\n",
      " 8.08195172e+00 8.41600784e+00 8.76632497e+00 9.13384503e+00\n",
      " 9.51957243e+00 9.92457864e+00 1.03500073e+01 1.07970794e+01\n",
      " 1.12670996e+01 1.17614621e+01 1.22816578e+01 1.28292817e+01\n",
      " 1.34060411e+01 1.40137643e+01 1.46544100e+01 1.53300780e+01\n",
      " 1.60430204e+01 1.67956537e+01 1.75905724e+01 1.84305634e+01\n",
      " 1.93186219e+01 2.02579687e+01 2.12520693e+01 2.23046540e+01\n",
      " 2.34197407e+01 2.46016596e+01 2.58550799e+01 2.71850391e+01\n",
      " 2.85969755e+01 3.00967632e+01 3.16907509e+01 3.33858045e+01\n",
      " 3.51893530e+01 3.71094405e+01 3.91547816e+01 4.13348236e+01\n",
      " 4.36598145e+01 4.61408774e+01 4.87900936e+01 5.16205931e+01\n",
      " 5.46466550e+01 5.78838183e+01 6.13490044e+01 6.50606522e+01\n",
      " 6.90388679e+01 7.33055911e+01 7.78847779e+01 8.28026048e+01\n",
      " 8.80876951e+01 9.37713693e+01 9.98879243e+01 1.06474944e+02\n",
      " 1.13573642e+02 1.21229253e+02 1.29491451e+02 1.38414837e+02\n",
      " 1.48059468e+02 1.58491457e+02 1.69783635e+02 1.82016305e+02\n",
      " 1.95278071e+02 2.09666783e+02 2.25290586e+02 2.42269101e+02\n",
      " 2.60734756e+02 2.80834279e+02 3.02730382e+02 3.26603656e+02\n",
      " 3.52654714e+02 3.81106600e+02 4.12207526e+02 4.46233953e+02\n",
      " 4.83494092e+02 5.24331858e+02 5.69131373e+02 6.18322057e+02\n",
      " 6.72384436e+02 7.31856732e+02 7.97342376e+02 8.69518573e+02\n",
      " 9.49146072e+02 1.03708033e+03 1.13428426e+03 1.24184286e+03\n",
      " 1.36097994e+03 1.49307734e+03 1.63969692e+03 1.80260601e+03\n",
      " 1.98380646e+03 2.18556835e+03 2.41046869e+03 2.66143623e+03\n",
      " 2.94180314e+03 3.25536499e+03 3.60645008e+03 4.00000000e+03]\n",
      "(200,)\n",
      "45801.8304198577\n"
     ]
    }
   ],
   "source": [
    "#pi_pdf_ss = partial_eq.internals['hh_ha']['Pi']\n",
    "print(partial_eq.internals['hh_ha']['a_grid'])\n",
    "print(partial_eq.internals['hh_ha']['a_grid'].shape) # asset grid\n",
    "#shape (200,0)\n",
    "print(partial_eq.internals['hh_ha']['a_grid'].sum(axis=0))"
   ]
  },
  {
   "cell_type": "code",
   "execution_count": 44,
   "metadata": {},
   "outputs": [
    {
     "name": "stdout",
     "output_type": "stream",
     "text": [
      "0.00026325520422375607\n"
     ]
    }
   ],
   "source": [
    "somme_lignes = np.sum(D_ss[32, :]) + np.sum(D_ss[65, :])\n",
    "print(somme_lignes)"
   ]
  },
  {
   "cell_type": "code",
   "execution_count": 45,
   "metadata": {},
   "outputs": [
    {
     "name": "stdout",
     "output_type": "stream",
     "text": [
      "Somme des lignes blo : 0.028804935306714432\n",
      "Somme des lignes bhi : 0.02771357550484989\n",
      "Somme totale des lignes : 0.056518510811564324\n"
     ]
    }
   ],
   "source": [
    "somme_lignes_blo = np.sum(D_ss[24:33, :])  # Somme des lignes 32 et 33 (exclu)\n",
    "somme_lignes_bhi = np.sum(D_ss[57:66, :])  # Somme des lignes 66 et 67 (exclu)\n",
    "D_test_1 = (D_ss[24:33, :]) # 9 lines \n",
    "D_test_2 = (D_ss[57:66, :]) # 9 lines\n",
    "# Somme totale\n",
    "somme_totale = somme_lignes_blo + somme_lignes_bhi\n",
    "\n",
    "# Affichage des résultats\n",
    "print(\"Somme des lignes blo :\", somme_lignes_blo)\n",
    "print(\"Somme des lignes bhi :\", somme_lignes_bhi)\n",
    "print(\"Somme totale des lignes :\", somme_totale)"
   ]
  },
  {
   "cell_type": "code",
   "execution_count": 46,
   "metadata": {},
   "outputs": [
    {
     "name": "stdout",
     "output_type": "stream",
     "text": [
      "Bloc blo trouvé (33-x) : None\n",
      "Bloc bhi trouvé (65-x) : None\n",
      "Somme totale : None\n"
     ]
    }
   ],
   "source": [
    "import numpy as np\n",
    "\n",
    "def trouver_blocs(D_ss, seuil=0.1):\n",
    "    \"\"\"\n",
    "    Trouve les indices x pour lesquels la somme des blocs (33-x) et (65-x) est inférieure au seuil,\n",
    "    mais où l'extension des blocs dépasse le seuil.\n",
    "\n",
    "    Parameters:\n",
    "        D_ss (ndarray): Matrice de données (66 x 200).\n",
    "        seuil (float): Seuil (par exemple, 10 pour 10%).\n",
    "\n",
    "    Returns:\n",
    "        tuple: (x_blo, x_bhi, somme_totale)\n",
    "    \"\"\"\n",
    "    n_lignes, n_colonnes = D_ss.shape  # Dimensions de la matrice\n",
    "\n",
    "    # Initialisation des indices de départ pour les blocs (33 et 65)\n",
    "    n_blo, n_bhi = 33, 65\n",
    "\n",
    "    # Test progressif avec le même x pour blo et bhi\n",
    "    for x in range(1, n_blo):  # On teste x à partir de 1 jusqu'à 32\n",
    "        # Somme des blocs combinés (33-x) et (65-x)\n",
    "        test_1 = n_blo - x\n",
    "        test_2 = n_bhi - x\n",
    "        somme_lignes_blo = np.sum(D_ss[test_1:n_blo, :])  # Somme des lignes dans blo (33-x)\n",
    "        somme_lignes_bhi = np.sum(D_ss[test_2:n_bhi, :])  # Somme des lignes dans bhi (65-x)\n",
    "        \n",
    "        # Somme totale des deux blocs combinés\n",
    "        somme_totale = somme_lignes_blo + somme_lignes_bhi\n",
    "\n",
    "        # Vérification si la somme totale est inférieure au seuil\n",
    "        if somme_totale < seuil:\n",
    "            # Si la somme totale est inférieure au seuil, vérifier l'extension des blocs\n",
    "            somme_voisine = (\n",
    "                np.sum(D_ss[n_blo - x - 1:n_blo, :]) +  # Étendre blo à (33-x-1)\n",
    "                np.sum(D_ss[n_bhi - x - 1:n_bhi, :])    # Étendre bhi à (65-x-1)\n",
    "            )\n",
    "            # Si l'extension dépasse le seuil\n",
    "            if somme_voisine > seuil:\n",
    "                return n_blo - x, n_bhi - x, somme_totale\n",
    "\n",
    "    # Retourne None si aucune condition n'est remplie\n",
    "    return None, None, None\n",
    "\n",
    "# Exemple d'utilisation\n",
    "#D_ss = np.random.rand(66, 200) * 0.05  # Exemple de matrice avec des valeurs aléatoires\n",
    "x_blo, x_bhi, somme_totale = trouver_blocs(D_ss, seuil=10)\n",
    "\n",
    "# Affichage des résultats\n",
    "print(\"Bloc blo trouvé (33-x) :\", x_blo)\n",
    "print(\"Bloc bhi trouvé (65-x) :\", x_bhi)\n",
    "print(\"Somme totale :\", somme_totale)\n"
   ]
  },
  {
   "cell_type": "code",
   "execution_count": 47,
   "metadata": {},
   "outputs": [
    {
     "name": "stdout",
     "output_type": "stream",
     "text": [
      "all good\n",
      "Bloc blo trouvé (33-x) : 24\n",
      "Bloc bhi trouvé (65-x) : 57\n",
      "Somme totale juste avant de dépasser le seuil : 0.09919033381491701\n",
      "Dernière colonne ajoutée avant de dépasser le seuil : [199, 198, 197, 196, 195, 194, 193, 192, 191, 190, 189, 188, 187, 186, 185, 184, 183, 182, 181, 180, 179, 178, 177, 176, 175, 174, 173, 172, 171, 170, 169, 168, 167, 166, 165, 164, 163, 162, 161, 160, 159, 158, 157, 156, 155, 154, 153, 152, 151, 150, 149, 148, 147, 146, 145, 144]\n"
     ]
    }
   ],
   "source": [
    "import numpy as np\n",
    "\n",
    "def trouver_blocs_extension(D_ss, seuil=0.1):\n",
    "    \"\"\"\n",
    "    Trouve les indices x pour lesquels la somme des blocs (33-x) et (65-x) est inférieure au seuil,\n",
    "    puis affine le résultat en ajoutant progressivement les cellules les plus à droite pour atteindre la somme\n",
    "    la plus proche possible de 10%, sans la dépasser.\n",
    "\n",
    "    Parameters:\n",
    "        D_ss (ndarray): Matrice de données (66 x 200).\n",
    "        seuil (float): Seuil (par exemple, 0.1 pour 10%).\n",
    "\n",
    "    Returns:\n",
    "        tuple: (x_blo, x_bhi, somme_totale_approchee, colonnes_ajoutees)\n",
    "    \"\"\"\n",
    "    n_lignes, n_colonnes = D_ss.shape  # Dimensions de la matrice\n",
    "\n",
    "    # Initialisation des indices de départ pour les blocs (33 et 65)\n",
    "    n_blo, n_bhi = 33, 66\n",
    "    best_x_blo, best_x_bhi = None, None\n",
    "    best_somme_totale = None\n",
    "\n",
    "    # Test progressif avec le même x pour blo et bhi\n",
    "    for x in range(1, n_blo):  # On teste x à partir de 1 jusqu'à 32\n",
    "        # Somme des blocs combinés (33-x) et (65-x)\n",
    "        test_1 = n_blo - x\n",
    "        test_2 = n_bhi - x\n",
    "        somme_lignes_blo = np.sum(D_ss[test_1:n_blo, :])  # Somme des lignes dans blo (33-x)\n",
    "        somme_lignes_bhi = np.sum(D_ss[test_2:n_bhi, :])  # Somme des lignes dans bhi (65-x)\n",
    "        \n",
    "        # Somme totale des deux blocs combinés\n",
    "        somme_totale = somme_lignes_blo + somme_lignes_bhi\n",
    "        #print(somme_totale)\n",
    "\n",
    "        # Vérification si la somme totale est inférieure au seuil\n",
    "        if somme_totale < seuil:\n",
    "            test_voisin_1 = n_blo - x - 1\n",
    "            test_voisin_2 = n_bhi - x - 1\n",
    "            # Si la somme totale est inférieure au seuil, vérifier l'extension des blocs\n",
    "            somme_voisine = (    \n",
    "                np.sum(D_ss[test_voisin_1 :n_blo, :]) +  # Étendre blo à (33-x-1)\n",
    "                np.sum(D_ss[test_voisin_2:n_bhi, :])    # Étendre bhi à (65-x-1)\n",
    "            )\n",
    "            #print(\"all good\")\n",
    "            # Si l'extension dépasse le seuil\n",
    "            if somme_voisine > seuil:\n",
    "                # Sauvegarder la dernière combinaison valide\n",
    "                best_x_blo, best_x_bhi = test_1, test_2\n",
    "                best_somme_totale = somme_totale\n",
    "                print(\"all good\")\n",
    "\n",
    "    # Affinage du résultat en ajoutant progressivement les cellules à droite (de droite à gauche)\n",
    "    if best_x_blo is not None and best_x_bhi is not None:\n",
    "        somme_cumulee = best_somme_totale\n",
    "        colonnes_ajoutees = []\n",
    "        \n",
    "        for col in range(n_colonnes - 1, -1, -1):  # Parcours des colonnes de droite à gauche\n",
    "            # Ajouter les valeurs des cellules des lignes sélectionnées et de leurs lignes précédentes\n",
    "            somme_cumulee += np.sum(D_ss[best_x_blo:n_blo, col]) + np.sum(D_ss[best_x_bhi:n_bhi, col]) + np.sum(D_ss[best_x_blo - 1:n_blo - 1, col]) + np.sum(D_ss[best_x_bhi - 1:n_bhi - 1, col])\n",
    "\n",
    "            colonnes_ajoutees.append(col)\n",
    "\n",
    "            # Vérification que la somme ne dépasse pas le seuil de 10%\n",
    "            if somme_cumulee > seuil:\n",
    "                # Retourner la somme juste avant de dépasser le seuil\n",
    "                somme_avant_depassement = somme_cumulee - (np.sum(D_ss[best_x_blo:n_blo, colonnes_ajoutees[-1]]) + np.sum(D_ss[best_x_bhi:n_bhi, colonnes_ajoutees[-1]]) + np.sum(D_ss[best_x_blo - 1:n_blo - 1, colonnes_ajoutees[-1]]) + np.sum(D_ss[best_x_bhi - 1:n_bhi - 1, colonnes_ajoutees[-1]]))\n",
    "                return best_x_blo, best_x_bhi, somme_avant_depassement, colonnes_ajoutees\n",
    "\n",
    "    # Retourne None si aucune condition n'est remplie\n",
    "    return None, None, None, None\n",
    "\n",
    "# Exemple d'utilisation\n",
    "#D_ss = np.random.rand(66, 200) * 0.05  # Exemple de matrice avec des valeurs aléatoires\n",
    "x_blo, x_bhi, somme_totale_approchee, colonne_ajoutee = trouver_blocs_extension(D_ss, seuil=0.1)\n",
    "\n",
    "# Affichage des résultats\n",
    "print(\"Bloc blo trouvé (33-x) :\", x_blo)\n",
    "print(\"Bloc bhi trouvé (65-x) :\", x_bhi)\n",
    "print(\"Somme totale juste avant de dépasser le seuil :\", somme_totale_approchee)\n",
    "print(\"Dernière colonne ajoutée avant de dépasser le seuil :\", colonne_ajoutee)\n"
   ]
  },
  {
   "cell_type": "markdown",
   "metadata": {},
   "source": [
    "## Code Sofia "
   ]
  },
  {
   "cell_type": "code",
   "execution_count": 48,
   "metadata": {},
   "outputs": [],
   "source": [
    "T = 400"
   ]
  },
  {
   "cell_type": "code",
   "execution_count": 49,
   "metadata": {},
   "outputs": [],
   "source": [
    "def count_var_percentage (desired_percentage, hh_distribution, var_distribution, top = True):\n",
    "    if hh_distribution.shape != var_distribution.shape:\n",
    "        raise Exception(\"Both distributions do not have the same size.\")\n",
    "    \n",
    "    if top == False :\n",
    "        percentage = 1-desired_percentage\n",
    "    else:\n",
    "        percentage = desired_percentage\n",
    "\n",
    "    last_row = hh_distribution.shape[0]\n",
    "    last_column = hh_distribution.shape[1]\n",
    "    #print(last_row)\n",
    "    #print(last_column)\n",
    "\n",
    "    pre_sum = 0\n",
    "    element_percentage = 0\n",
    "    rest = 0\n",
    "    last_element = np.array([last_row-1, last_column-1])\n",
    "    condition_met = False\n",
    "    var_aggregated = 0\n",
    "    # Loop through matrix from bottom-right, left to right, then upwards\n",
    "    # fomula [start]\n",
    "\n",
    "    for r in range(last_row, -1, -1):  # Iterate over rows from bottom to top\n",
    "        # r = 66\n",
    "        for c in range(last_column, -1, -1):  # Iterate over columns from right to left\n",
    "            # c=199\n",
    "            element_percentage = pre_sum + hh_distribution[r-1,c-1]\n",
    "            if element_percentage == percentage:\n",
    "                var_aggregated += hh_distribution[r-1,c] * var_distribution[r-1,c-1]\n",
    "                last_element = np.array([r-1, c-1])\n",
    "                pre_sum = element_percentage\n",
    "                condition_met = True\n",
    "                break\n",
    "\n",
    "            elif element_percentage > percentage:\n",
    "                rest = percentage - pre_sum\n",
    "                var_aggregated += rest * var_distribution[r-1,c-1]\n",
    "                last_element = np.array([r-1, c-1])\n",
    "                condition_met = True\n",
    "                break\n",
    "\n",
    "            elif element_percentage < percentage:\n",
    "                pre_sum = element_percentage\n",
    "                var_aggregated += hh_distribution[r-1,c-1] * var_distribution[r-1,c-1]\n",
    "                \n",
    "                last_element = np.array([r-1, c-1])\n",
    "        if condition_met: break\n",
    "    return last_element, var_aggregated, rest"
   ]
  },
  {
   "cell_type": "code",
   "execution_count": 50,
   "metadata": {},
   "outputs": [
    {
     "name": "stdout",
     "output_type": "stream",
     "text": [
      "[ 51 166]\n",
      "0.13408686676726841\n",
      "0.8000005881724646\n",
      "4.903383977744591e-05\n"
     ]
    }
   ],
   "source": [
    "hh_distribution = ss['ha'].internals['hh_ha']['D']\n",
    "consumption_distribution = ss['ha'].internals['hh_ha']['c']\n",
    "\n",
    "# getting the 10 richest (only beta high)\n",
    "last_element_T10_bH, c_aggregated_T10_bH, rest = count_var_percentage (0.1, hh_distribution, consumption_distribution, top = T)\n",
    "print(last_element_T10_bH)\n",
    "print(c_aggregated_T10_bH)\n",
    "print(ss['ha']['C'])\n",
    "\n",
    "print(rest)"
   ]
  },
  {
   "cell_type": "code",
   "execution_count": 51,
   "metadata": {},
   "outputs": [
    {
     "name": "stdout",
     "output_type": "stream",
     "text": [
      "[23 10]\n",
      "[ 57 149]\n",
      "0.24693368678535943\n",
      "0.8000005881724646\n",
      "0.000595539832186083\n",
      "4.636642045408035e-05\n"
     ]
    }
   ],
   "source": [
    "# getting the 10 richest (both betas, decomposing by 5%)\n",
    "last_element_T5_bL, c_aggregated_T5_bL, rest_bL = count_var_percentage (0.05, hh_distribution[:33,:], consumption_distribution[:33,:], top = T)\n",
    "last_element_T5_bH, c_aggregated_T5_bH, rest_bH = count_var_percentage (0.05, hh_distribution[33:,:], consumption_distribution[33:,:], top = T)\n",
    "c_aggregated_T10 = c_aggregated_T5_bH + c_aggregated_T5_bL\n",
    "print(last_element_T5_bL) # OK \n",
    "print(34+last_element_T5_bH) # OK\n",
    "print(c_aggregated_T10) #0.2469\n",
    "print(ss['ha']['C']) # 0.80 # soit 30% de la consommation totale\n",
    "\n",
    "print(rest_bL) # 00000\n",
    "print(rest_bH) # 4,64e-05"
   ]
  },
  {
   "cell_type": "code",
   "execution_count": null,
   "metadata": {},
   "outputs": [],
   "source": [
    "#Js_myopic = {'hh_ha': sj.JacobianDict(jac_, inputs=['wN_aftertax', 'N', 'r'], outputs=['C', 'A'], name='hh')}"
   ]
  },
  {
   "cell_type": "code",
   "execution_count": 74,
   "metadata": {},
   "outputs": [],
   "source": [
    "irfs_B = {k: models[k].solve_impulse_linear(ss[k], \n",
    "                                            unknowns=['Y'], \n",
    "                                            targets=['asset_mkt'],\n",
    "                                            inputs={'B': dB}, \n",
    "                                            outputs=['Y', 'c','D'], \n",
    "                                            Js=Js)for k in model_names}"
   ]
  },
  {
   "cell_type": "code",
   "execution_count": 64,
   "metadata": {},
   "outputs": [],
   "source": [
    "irf = irfs_B['ha'] "
   ]
  },
  {
   "cell_type": "code",
   "execution_count": 77,
   "metadata": {},
   "outputs": [
    {
     "name": "stdout",
     "output_type": "stream",
     "text": [
      "None\n"
     ]
    },
    {
     "ename": "KeyError",
     "evalue": "\"'c' (consumption matrix) not found in internals of model ha.\"",
     "output_type": "error",
     "traceback": [
      "\u001b[0;31m---------------------------------------------------------------------------\u001b[0m",
      "\u001b[0;31mKeyError\u001b[0m                                  Traceback (most recent call last)",
      "Cell \u001b[0;32mIn[77], line 17\u001b[0m\n\u001b[1;32m     15\u001b[0m \u001b[38;5;66;03m# Validate the presence of 'c' and 'D'\u001b[39;00m\n\u001b[1;32m     16\u001b[0m \u001b[38;5;28;01mif\u001b[39;00m c_matrix \u001b[38;5;129;01mis\u001b[39;00m \u001b[38;5;28;01mNone\u001b[39;00m:\n\u001b[0;32m---> 17\u001b[0m     \u001b[38;5;28;01mraise\u001b[39;00m \u001b[38;5;167;01mKeyError\u001b[39;00m(\u001b[38;5;124mf\u001b[39m\u001b[38;5;124m\"\u001b[39m\u001b[38;5;124m'\u001b[39m\u001b[38;5;124mc\u001b[39m\u001b[38;5;124m'\u001b[39m\u001b[38;5;124m (consumption matrix) not found in internals of model \u001b[39m\u001b[38;5;132;01m{\u001b[39;00mmodel_type\u001b[38;5;132;01m}\u001b[39;00m\u001b[38;5;124m.\u001b[39m\u001b[38;5;124m\"\u001b[39m)\n\u001b[1;32m     18\u001b[0m \u001b[38;5;28;01mif\u001b[39;00m D_variable \u001b[38;5;129;01mis\u001b[39;00m \u001b[38;5;28;01mNone\u001b[39;00m:\n\u001b[1;32m     19\u001b[0m     \u001b[38;5;28;01mraise\u001b[39;00m \u001b[38;5;167;01mKeyError\u001b[39;00m(\u001b[38;5;124mf\u001b[39m\u001b[38;5;124m\"\u001b[39m\u001b[38;5;124m'\u001b[39m\u001b[38;5;124mD\u001b[39m\u001b[38;5;124m'\u001b[39m\u001b[38;5;124m variable not found in internals of model \u001b[39m\u001b[38;5;132;01m{\u001b[39;00mmodel_type\u001b[38;5;132;01m}\u001b[39;00m\u001b[38;5;124m.\u001b[39m\u001b[38;5;124m\"\u001b[39m)\n",
      "\u001b[0;31mKeyError\u001b[0m: \"'c' (consumption matrix) not found in internals of model ha.\""
     ]
    }
   ],
   "source": [
    "# Initialize the modified dictionary for storing updated IRFs\n",
    "irfs_B_modified = {}\n",
    "\n",
    "# Iterate through model types (ha, ra, ta) in the original IRF dictionary\n",
    "for model_type, irf in irfs_B.items():\n",
    "    # Ensure irf is of type sj.ImpulseDict\n",
    "    if not isinstance(irf, sj.ImpulseDict):\n",
    "        raise TypeError(f\"Expected sj.ImpulseDict, but got {type(irf).__name__}\")\n",
    "    \n",
    "    # Extract the 'c' and 'D' internals\n",
    "    c_matrix = irf.internals.get('c', None)\n",
    "    D_variable = irf.internals.get('D', None)\n",
    "    print(c_matrix)\n",
    "    \n",
    "    # Validate the presence of 'c' and 'D'\n",
    "    if c_matrix is None:\n",
    "        raise KeyError(f\"'c' (consumption matrix) not found in internals of model {model_type}.\")\n",
    "    if D_variable is None:\n",
    "        raise KeyError(f\"'D' variable not found in internals of model {model_type}.\")\n",
    "    \n",
    "    # Validate the shape of 'c' (should be 66x200 as per your description)\n",
    "    if c_matrix.shape != (66, 200):\n",
    "        raise ValueError(f\"Unexpected shape for 'c': {c_matrix.shape}. Expected (66, 200).\")\n",
    "    \n",
    "    # Apply `function_sofia` to compute a single value per period\n",
    "    # Assuming `function_sofia` is a function you have defined elsewhere\n",
    "    # and it takes both `c` and `D` as inputs\n",
    "    sofia_result = np.array([function_sofia(c_matrix[:, t], D_variable[t]) for t in range(c_matrix.shape[1])])\n",
    "    \n",
    "    # Add the new variable to the ImpulseDict\n",
    "    modified_irf = sj.ImpulseDict(irf.toplevel.copy(), irf.internals.copy(), T=irf.T)\n",
    "    modified_irf.toplevel['sofia_result'] = sofia_result\n",
    "    \n",
    "    # Add the modified IRF to the new dictionary\n",
    "    irfs_B_modified[model_type] = modified_irf\n",
    "\n",
    "# Now, irfs_B_modified contains the updated IRFs with the new variable `sofia_result`.\n"
   ]
  },
  {
   "cell_type": "code",
   "execution_count": 73,
   "metadata": {},
   "outputs": [
    {
     "ename": "IndexError",
     "evalue": "only integers, slices (`:`), ellipsis (`...`), numpy.newaxis (`None`) and integer or boolean arrays are valid indices",
     "output_type": "error",
     "traceback": [
      "\u001b[0;31m---------------------------------------------------------------------------\u001b[0m",
      "\u001b[0;31mIndexError\u001b[0m                                Traceback (most recent call last)",
      "Cell \u001b[0;32mIn[73], line 7\u001b[0m\n\u001b[1;32m      4\u001b[0m \u001b[38;5;66;03m# Iterate through model types (ha, ra, ta) in the original IRF dictionary\u001b[39;00m\n\u001b[1;32m      5\u001b[0m \u001b[38;5;28;01mfor\u001b[39;00m model_type, irf \u001b[38;5;129;01min\u001b[39;00m irfs_B\u001b[38;5;241m.\u001b[39mitems():\n\u001b[1;32m      6\u001b[0m     \u001b[38;5;66;03m# Access the impulse response for Y\u001b[39;00m\n\u001b[0;32m----> 7\u001b[0m     irf_Y \u001b[38;5;241m=\u001b[39m irf[\u001b[38;5;124m'\u001b[39m\u001b[38;5;124mY\u001b[39m\u001b[38;5;124m'\u001b[39m]\n\u001b[1;32m      9\u001b[0m     \u001b[38;5;66;03m# Ensure irf is of type ImpulseDict\u001b[39;00m\n\u001b[1;32m     10\u001b[0m     \u001b[38;5;28;01mif\u001b[39;00m \u001b[38;5;129;01mnot\u001b[39;00m \u001b[38;5;28misinstance\u001b[39m(irf, sj\u001b[38;5;241m.\u001b[39mImpulseDict):\n",
      "\u001b[0;31mIndexError\u001b[0m: only integers, slices (`:`), ellipsis (`...`), numpy.newaxis (`None`) and integer or boolean arrays are valid indices"
     ]
    }
   ],
   "source": [
    "\n",
    "\n",
    "# Initialize the new dictionary to store modified IRFs\n",
    "irfs_B_modified = {}\n",
    "\n",
    "# Iterate through model types (ha, ra, ta) in the original IRF dictionary\n",
    "for model_type, irf in irfs_B.items():\n",
    "    # Access the impulse response for Y\n",
    "    irf_Y = irf['Y']\n",
    "    \n",
    "    # Ensure irf is of type ImpulseDict\n",
    "    if not isinstance(irf, sj.ImpulseDict):\n",
    "        raise TypeError(f\"Expected sj.ImpulseDict, but got {type(irf).__name__}\")\n",
    "    \n",
    "    # Extract an internal variable (e.g., \"internal_variable\") using the `internals` attribute\n",
    "    internal_var = irf.internals.get('internal_variable', np.zeros_like(irf_Y))\n",
    "    \n",
    "    # Create a new variable combining the original IRF and the internal variable\n",
    "    # For example, we add them, but you can define any transformation\n",
    "    new_variable = irf_Y + 0.5 * internal_var\n",
    "    \n",
    "    # Add the new variable to the ImpulseDict\n",
    "    # Using the `sj.ImpulseDict` methods to ensure consistency\n",
    "    modified_irf = sj.ImpulseDict(irf.toplevel.copy(), irf.internals.copy(), T=irf.T)\n",
    "    modified_irf.toplevel['new_variable'] = new_variable\n",
    "    \n",
    "    # Add the modified IRF to the new dictionary\n",
    "    irfs_B_modified[model_type] = modified_irf\n",
    "\n",
    "# Now, irfs_B_modified contains the updated IRFs with the new variable included.\n"
   ]
  },
  {
   "cell_type": "code",
   "execution_count": 65,
   "metadata": {},
   "outputs": [
    {
     "ename": "AttributeError",
     "evalue": "'numpy.ndarray' object has no attribute 'internals'",
     "output_type": "error",
     "traceback": [
      "\u001b[0;31m---------------------------------------------------------------------------\u001b[0m",
      "\u001b[0;31mAttributeError\u001b[0m                            Traceback (most recent call last)",
      "Cell \u001b[0;32mIn[65], line 1\u001b[0m\n\u001b[0;32m----> 1\u001b[0m block1 \u001b[38;5;241m=\u001b[39m irf\u001b[38;5;241m.\u001b[39minternals\u001b[38;5;241m.\u001b[39mget(\u001b[38;5;124m\"\u001b[39m\u001b[38;5;124mblock1\u001b[39m\u001b[38;5;124m\"\u001b[39m, {})\n",
      "\u001b[0;31mAttributeError\u001b[0m: 'numpy.ndarray' object has no attribute 'internals'"
     ]
    }
   ],
   "source": [
    "block1 = irf.internals.get(\"block1\", {})"
   ]
  },
  {
   "cell_type": "code",
   "execution_count": 53,
   "metadata": {},
   "outputs": [
    {
     "ename": "KeyError",
     "evalue": "'c'",
     "output_type": "error",
     "traceback": [
      "\u001b[0;31m---------------------------------------------------------------------------\u001b[0m",
      "\u001b[0;31mKeyError\u001b[0m                                  Traceback (most recent call last)",
      "Cell \u001b[0;32mIn[53], line 1\u001b[0m\n\u001b[0;32m----> 1\u001b[0m irfs_B \u001b[38;5;241m=\u001b[39m {k: models[k]\u001b[38;5;241m.\u001b[39msolve_impulse_linear(ss[k], \n\u001b[1;32m      2\u001b[0m                                             unknowns\u001b[38;5;241m=\u001b[39m[\u001b[38;5;124m'\u001b[39m\u001b[38;5;124mY\u001b[39m\u001b[38;5;124m'\u001b[39m], \n\u001b[1;32m      3\u001b[0m                                             targets\u001b[38;5;241m=\u001b[39m[\u001b[38;5;124m'\u001b[39m\u001b[38;5;124masset_mkt\u001b[39m\u001b[38;5;124m'\u001b[39m],\n\u001b[1;32m      4\u001b[0m                                             inputs\u001b[38;5;241m=\u001b[39m{\u001b[38;5;124m'\u001b[39m\u001b[38;5;124mB\u001b[39m\u001b[38;5;124m'\u001b[39m: dB}, \n\u001b[1;32m      5\u001b[0m                                             outputs\u001b[38;5;241m=\u001b[39m[\u001b[38;5;124m'\u001b[39m\u001b[38;5;124mc\u001b[39m\u001b[38;5;124m'\u001b[39m], \n\u001b[1;32m      6\u001b[0m                                             Js\u001b[38;5;241m=\u001b[39mJs)[\u001b[38;5;124m'\u001b[39m\u001b[38;5;124mc\u001b[39m\u001b[38;5;124m'\u001b[39m] \u001b[38;5;28;01mfor\u001b[39;00m k \u001b[38;5;129;01min\u001b[39;00m model_names}\n",
      "File \u001b[0;32m/opt/anaconda3/lib/python3.12/site-packages/sequence_jacobian/classes/impulse_dict.py:25\u001b[0m, in \u001b[0;36mImpulseDict.__getitem__\u001b[0;34m(self, k)\u001b[0m\n\u001b[1;32m     24\u001b[0m \u001b[38;5;28;01mdef\u001b[39;00m \u001b[38;5;21m__getitem__\u001b[39m(\u001b[38;5;28mself\u001b[39m, k):\n\u001b[0;32m---> 25\u001b[0m     \u001b[38;5;28;01mreturn\u001b[39;00m \u001b[38;5;28msuper\u001b[39m()\u001b[38;5;241m.\u001b[39m\u001b[38;5;21m__getitem__\u001b[39m(k, T\u001b[38;5;241m=\u001b[39m\u001b[38;5;28mself\u001b[39m\u001b[38;5;241m.\u001b[39mT)\n",
      "File \u001b[0;32m/opt/anaconda3/lib/python3.12/site-packages/sequence_jacobian/classes/result_dict.py:27\u001b[0m, in \u001b[0;36mResultDict.__getitem__\u001b[0;34m(self, k, **kwargs)\u001b[0m\n\u001b[1;32m     25\u001b[0m \u001b[38;5;28;01mdef\u001b[39;00m \u001b[38;5;21m__getitem__\u001b[39m(\u001b[38;5;28mself\u001b[39m, k, \u001b[38;5;241m*\u001b[39m\u001b[38;5;241m*\u001b[39mkwargs):\n\u001b[1;32m     26\u001b[0m     \u001b[38;5;28;01mif\u001b[39;00m \u001b[38;5;28misinstance\u001b[39m(k, \u001b[38;5;28mstr\u001b[39m):\n\u001b[0;32m---> 27\u001b[0m         \u001b[38;5;28;01mreturn\u001b[39;00m \u001b[38;5;28mself\u001b[39m\u001b[38;5;241m.\u001b[39mtoplevel[k]\n\u001b[1;32m     28\u001b[0m     \u001b[38;5;28;01melif\u001b[39;00m \u001b[38;5;28misinstance\u001b[39m(k, \u001b[38;5;28mtuple\u001b[39m):\n\u001b[1;32m     29\u001b[0m         \u001b[38;5;28;01mraise\u001b[39;00m \u001b[38;5;167;01mTypeError\u001b[39;00m(\u001b[38;5;124mf\u001b[39m\u001b[38;5;124m'\u001b[39m\u001b[38;5;124mKey \u001b[39m\u001b[38;5;132;01m{\u001b[39;00mk\u001b[38;5;132;01m}\u001b[39;00m\u001b[38;5;124m to \u001b[39m\u001b[38;5;132;01m{\u001b[39;00m\u001b[38;5;28mtype\u001b[39m(\u001b[38;5;28mself\u001b[39m)\u001b[38;5;241m.\u001b[39m\u001b[38;5;18m__name__\u001b[39m\u001b[38;5;132;01m}\u001b[39;00m\u001b[38;5;124m cannot be tuple\u001b[39m\u001b[38;5;124m'\u001b[39m)\n",
      "\u001b[0;31mKeyError\u001b[0m: 'c'"
     ]
    }
   ],
   "source": [
    "irfs_B = {k: models[k].solve_impulse_linear(ss[k], \n",
    "                                            unknowns=['Y'], \n",
    "                                            targets=['asset_mkt'],\n",
    "                                            inputs={'B': dB}, \n",
    "                                            outputs=['c'], \n",
    "                                            Js=Js)['c'] for k in model_names}"
   ]
  },
  {
   "cell_type": "code",
   "execution_count": 123,
   "metadata": {},
   "outputs": [],
   "source": [
    "irfs_B_y = {k: models[k].solve_impulse_linear(ss[k], \n",
    "                                            unknowns=['Y'], \n",
    "                                            targets=['asset_mkt'],\n",
    "                                            inputs={'B': dB}, \n",
    "                                            outputs=['Y'], \n",
    "                                            Js=Js)['Y'] for k in model_names}"
   ]
  },
  {
   "cell_type": "code",
   "execution_count": null,
   "metadata": {},
   "outputs": [
    {
     "name": "stderr",
     "output_type": "stream",
     "text": [
      "<>:6: SyntaxWarning: invalid escape sequence '\\%'\n",
      "<>:6: SyntaxWarning: invalid escape sequence '\\%'\n",
      "/var/folders/tk/zvlm5zxj4gzfjmrhd2466bv40000gn/T/ipykernel_4691/884564705.py:6: SyntaxWarning: invalid escape sequence '\\%'\n"
     ]
    },
    {
     "data": {
      "text/plain": [
       "Text(0, 0.5, '\\\\% change in output')"
      ]
     },
     "execution_count": 126,
     "metadata": {},
     "output_type": "execute_result"
    },
    {
     "data": {
      "image/png": "[encoded data removed]",
      "text/plain": [
       "<Figure size 400x300 with 1 Axes>"
      ]
     },
     "metadata": {},
     "output_type": "display_data"
    }
   ],
   "source": [
    "plt.plot(irfs_B['ha'][:41], label='Heterogeneous agents', color='black')\n",
    "plt.plot(irfs_B['ta'][:41], label='Two agents', linestyle='dashed', color='orange')\n",
    "plt.plot(irfs_B['ra'][:41], label='Representative agent', linestyle='dashdot', color='red')\n",
    "plt.legend(frameon=False)\n",
    "plt.xlabel('Quarter')\n",
    "plt.ylabel('\\% change in asset')\n",
    "#plt.savefig('figures/figure2a_deficit_by_model.pdf', bbox_inches='tight')"
   ]
  },
  {
   "cell_type": "code",
   "execution_count": null,
   "metadata": {},
   "outputs": [],
   "source": [
    "def top_consumption(c, D):\n",
    "    if D.shape != c.shape:\n",
    "        raise Exception(\"Both distributions do not have the same size.\")\n",
    "    \n",
    "    fct_output = []\n",
    "    for percentage in [0.05, 0.25]:\n",
    "            \n",
    "            beta_sums = []\n",
    "            for beta_state in [1, 2]:\n",
    "                if beta_state == 1: # s'assurer de bhi et blo\n",
    "                    D_beta = D[:33,:]\n",
    "                    c_beta = c[:33,:]\n",
    "                else:\n",
    "                    D_beta = D[33:,:]\n",
    "                    c_beta = c[33:,:]\n",
    "\n",
    "                last_row = D_beta.shape[0]\n",
    "                last_column = D_beta.shape[1]\n",
    "                pre_sum = 0\n",
    "                element_percentage = 0\n",
    "                rest = 0\n",
    "                last_element = np.array([last_row-1, last_column-1])\n",
    "                condition_met = False\n",
    "                var_aggregated = 0\n",
    "\n",
    "                for row in range(last_row, -1, -1):  # Iterate over rows from bottom to top\n",
    "                    for col in range(last_column, -1, -1):  # Iterate over columns from right to left\n",
    "                        element_percentage = pre_sum + D_beta[row-1,col-1]\n",
    "\n",
    "                        if element_percentage == percentage: \n",
    "                            # if at this cell we meet the exact mass percentage we are looking for\n",
    "                            var_aggregated += D_beta[row-1,col-1] * c_beta[row-1,col-1]\n",
    "                            last_element = np.array([row-1,col-1])\n",
    "                            pre_sum = element_percentage\n",
    "                            condition_met = True\n",
    "                            beta_sums.append(var_aggregated)\n",
    "                            break\n",
    "\n",
    "                        elif element_percentage > percentage:\n",
    "                            # if at this cell we meet more than the exact mass percentage we are looking for\n",
    "                            rest = percentage - pre_sum\n",
    "                            var_aggregated += rest * c_beta[row-1,col-1]\n",
    "                            last_element = np.array([row-1,col-1])\n",
    "                            condition_met = True\n",
    "                            beta_sums.append(var_aggregated)\n",
    "                            break\n",
    "\n",
    "                        elif element_percentage < percentage:\n",
    "                            # if at this cell we meet less than the mass percentage we are looking for\n",
    "                            # sum and continue\n",
    "                            pre_sum = element_percentage\n",
    "                            var_aggregated += D_beta[row-1,col-1] * c_beta[row-1,col-1]\n",
    "                            last_element = np.array([row-1,col-1])\n",
    "\n",
    "                    if condition_met: break\n",
    "            beta_sum_total = sum(beta_sums)\n",
    "            fct_output.append(beta_sum_total)\n",
    "\n",
    "    print(fct_output)\n",
    "    c_t10 = fct_output[0]\n",
    "    c_t50 = fct_output[1]\n",
    "\n",
    "    return c_t10, c_t50"
   ]
  },
  {
   "cell_type": "code",
   "execution_count": 39,
   "metadata": {},
   "outputs": [],
   "source": [
    "def top_consumption(c, D):\n",
    "    if D.shape != c.shape:\n",
    "        raise Exception(\"Both distributions do not have the same size.\")\n",
    "    \n",
    "    for percentage in [0.05, 0.25]:\n",
    "            \n",
    "            last_case = []\n",
    "            for beta_state in [1, 2]:\n",
    "                if beta_state == 1: # s'assurer de bhi et blo\n",
    "                    D_beta = D[:33,:]\n",
    "                    c_beta = c[:33,:]\n",
    "                else:\n",
    "                    D_beta = D[33:,:]\n",
    "                    c_beta = c[33:,:]\n",
    "\n",
    "                last_row = D_beta.shape[0]\n",
    "                last_column = D_beta.shape[1]\n",
    "                pre_sum = 0\n",
    "                element_percentage = 0\n",
    "                rest = 0\n",
    "                last_element = np.array([last_row-1, last_column-1])\n",
    "                condition_met = False\n",
    "                var_aggregated = 0\n",
    "\n",
    "                for row in range(last_row, -1, -1):  # Iterate over rows from bottom to top\n",
    "                    for col in range(last_column, -1, -1):  # Iterate over columns from right to left\n",
    "                        element_percentage = pre_sum + D_beta[row-1,col-1]\n",
    "\n",
    "                        if element_percentage == percentage: \n",
    "                            # if at this cell we meet the exact mass percentage we are looking for\n",
    "                            var_aggregated += D_beta[row-1,col-1] * c_beta[row-1,col-1]\n",
    "                            last_element = np.array([row-1,col-1])\n",
    "                            temp = last_element \n",
    "                            last_element=[]\n",
    "                            pre_sum = element_percentage\n",
    "                            condition_met = True\n",
    "                            last_case.append(temp)\n",
    "                            break\n",
    "\n",
    "                        elif element_percentage > percentage:\n",
    "                            # if at this cell we meet more than the exact mass percentage we are looking for\n",
    "                            rest = percentage - pre_sum\n",
    "                            var_aggregated += rest * c_beta[row-1,col-1]\n",
    "                            last_element = np.array([row-1,col-1])\n",
    "                            condition_met = True\n",
    "                            last_case.append(last_element)\n",
    "                            break\n",
    "\n",
    "                        elif element_percentage < percentage:\n",
    "                            # if at this cell we meet less than the mass percentage we are looking for\n",
    "                            # sum and continue\n",
    "                            pre_sum = element_percentage\n",
    "                            var_aggregated += D_beta[row-1,col-1] * c_beta[row-1,col-1]\n",
    "                            last_element = np.array([row-1,col-1])\n",
    "\n",
    "                    if condition_met: break\n",
    "            #beta_sum_total = sum(beta_sums)\n",
    "            #fc.append(beta_sum_total)\n",
    "    last_case[1][0] +=33\n",
    "\n",
    "    return last_case"
   ]
  },
  {
   "cell_type": "code",
   "execution_count": 31,
   "metadata": {},
   "outputs": [],
   "source": [
    "hh_distribution = ss['ha'].internals['hh_ha']['D']\n",
    "consumption_distribution = ss['ha'].internals['hh_ha']['c']"
   ]
  },
  {
   "cell_type": "code",
   "execution_count": null,
   "metadata": {},
   "outputs": [
    {
     "name": "stdout",
     "output_type": "stream",
     "text": [
      "[array([16,  0]), array([ 49, 104])]\n"
     ]
    }
   ],
   "source": [
    "last_ele = top_consumption(consumption_distribution, hh_distribution)\n",
    "print(last_ele)"
   ]
  },
  {
   "cell_type": "code",
   "execution_count": 75,
   "metadata": {},
   "outputs": [
    {
     "name": "stdout",
     "output_type": "stream",
     "text": [
      "[[0. 0. 0. ... 0. 0. 0.]\n",
      " [0. 0. 0. ... 0. 0. 0.]\n",
      " [0. 0. 0. ... 0. 0. 0.]\n",
      " ...\n",
      " [0. 0. 0. ... 0. 0. 0.]\n",
      " [0. 0. 0. ... 0. 0. 0.]\n",
      " [0. 0. 0. ... 0. 0. 0.]]\n"
     ]
    }
   ],
   "source": [
    "ct_10_0= np.zeros(consumption_distribution.shape)\n",
    "print(ct_10_0)"
   ]
  },
  {
   "cell_type": "code",
   "execution_count": null,
   "metadata": {},
   "outputs": [
    {
     "name": "stdout",
     "output_type": "stream",
     "text": [
      "Start Row 2: 49, Start Col 2: 104\n",
      "End Row 2: 66, End Col 2: 200\n"
     ]
    }
   ],
   "source": [
    "#start_row, start_col = last_ele[0]\n",
    "#print(start_row)\n",
    "#print(start_col)\n",
    "\n",
    "#end_row = 34\n",
    "#end_col = 200\n",
    "#ct_10_0[start_row:end_row, start_col:end_col] = 1\n",
    "D = hh_distribution\n",
    "\n",
    "import numpy as np\n",
    "\n",
    "def update_matrix(D, ct_10, last_ele):\n",
    "    \"\"\"\n",
    "    Met à jour la matrice `ct_10_0` en fonction des deux blocs beta_state = 1 et beta_state = 2.\n",
    "    \n",
    "    Arguments :\n",
    "        D : np.array\n",
    "            Matrice source de dimensions (66, 200).\n",
    "        ct_10_0 : np.array\n",
    "            Matrice cible à modifier.\n",
    "        last_ele : list of np.array\n",
    "            Liste contenant deux tableaux NumPy pour les coordonnées de départ.\n",
    "    \"\"\"\n",
    "\n",
    "    D_beta_lo = D[:33, :]  # Lignes 0 à 32 incluses\n",
    "    start_row, start_col = last_ele[0]\n",
    "    end_row = D_beta_lo.shape[0]  \n",
    "    end_col = D_beta_lo.shape[1]  \n",
    "\n",
    "    ct_10[start_row:end_row, start_col:end_col] = 1\n",
    "\n",
    "    D_beta_hi = D[33:, :]  # Lignes 33 à 65 incluses\n",
    "    start_row_2, start_col_2 = last_ele[1] \n",
    "\n",
    "    end_row_2 = 33 + D_beta_hi.shape[0]  \n",
    "    end_col_2 = D_beta_hi.shape[1]    \n",
    "    print(f\"Start Row 2: {start_row_2}, Start Col 2: {start_col_2}\")\n",
    "    print(f\"End Row 2: {end_row_2}, End Col 2: {end_col_2}\")\n",
    "\n",
    "    ct_10[start_row_2:end_row_2, start_col_2:end_col_2] = 1\n",
    "\n",
    "    return ct_10\n",
    "\n",
    "ct_10_new = update_matrix(D, ct_10_0, last_ele)\n",
    "\n",
    "\n"
   ]
  },
  {
   "cell_type": "code",
   "execution_count": 83,
   "metadata": {},
   "outputs": [],
   "source": [
    "def update_matrix(D, ct_10_0, last_ele):\n",
    "    \"\"\"\n",
    "    Updates the matrix `ct_10_0` with 1s in the regions defined by last_ele coordinates.\n",
    "    \n",
    "    Arguments :\n",
    "        D : np.array\n",
    "            Matrix of shape (66, 200).\n",
    "        ct_10_0 : np.array\n",
    "            Matrix to update.\n",
    "        last_ele : list of np.array\n",
    "            List containing two arrays with starting coordinates for each section.\n",
    "    \"\"\"\n",
    "    # First block (beta_state = 1)\n",
    "    D_beta_lo = D[:33, :]  # Rows 0 to 32\n",
    "    start_row_1, start_col_1 = last_ele[0]\n",
    "    end_row_1 = D_beta_lo.shape[0]  # 33\n",
    "    end_col_1 = D_beta_lo.shape[1]  # 200\n",
    "\n",
    "    # Check coordinates and indices for first block\n",
    "    print(f\"First Block: start_row_1={start_row_1}, start_col_1={start_col_1}, end_row_1={end_row_1}, end_col_1={end_col_1}\")\n",
    "    \n",
    "    # Update the first block in ct_10_0\n",
    "    ct_10_0[start_row_1:end_row_1, start_col_1:end_col_1] = 1\n",
    "\n",
    "    # Second block (beta_state = 2)\n",
    "    D_beta_hi = D[33:, :]  # Rows 33 to 65\n",
    "    start_row_2, start_col_2 = last_ele[1]\n",
    "    end_row_2 = D.shape[0]  # 66 (total rows of D)\n",
    "    end_col_2 = D_beta_hi.shape[1]  # 200\n",
    "\n",
    "    # Check coordinates and indices for second block\n",
    "    print(f\"Second Block: start_row_2={start_row_2}, start_col_2={start_col_2}, end_row_2={end_row_2}, end_col_2={end_col_2}\")\n",
    "    \n",
    "    # Update the second block in ct_10_0\n",
    "    ct_10_0[start_row_2:end_row_2, start_col_2:end_col_2] = 1\n",
    "\n",
    "    return ct_10_0"
   ]
  }
 ],
 "metadata": {
  "kernelspec": {
   "display_name": "base",
   "language": "python",
   "name": "python3"
  },
  "language_info": {
   "codemirror_mode": {
    "name": "ipython",
    "version": 3
   },
   "file_extension": ".py",
   "mimetype": "text/x-python",
   "name": "python",
   "nbconvert_exporter": "python",
   "pygments_lexer": "ipython3",
   "version": "3.12.4"
  }
 },
 "nbformat": 4,
 "nbformat_minor": 2
}
