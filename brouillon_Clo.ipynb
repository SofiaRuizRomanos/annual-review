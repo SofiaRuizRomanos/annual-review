{
 "cells": [
  {
   "cell_type": "markdown",
   "metadata": {},
   "source": [
    "Test brouillon Clo"
   ]
  },
  {
   "cell_type": "markdown",
   "metadata": {},
   "source": [
    "The `solve_steady_state` method return a `SteadyStateDict` object. \n",
    "\n",
    "`ss`stores variables in 2 levels: top and internal:\n",
    "- top level = scalars, which are accessible for all blocks of the model \n",
    "- the internal level = block-specific multidimnesion variables"
   ]
  },
  {
   "cell_type": "markdown",
   "metadata": {},
   "source": [
    "## Main replication file"
   ]
  },
  {
   "cell_type": "code",
   "execution_count": 86,
   "metadata": {},
   "outputs": [],
   "source": [
    "import numpy as np\n",
    "import matplotlib.pyplot as plt\n",
    "import scipy\n",
    "import json\n",
    "\n",
    "import sequence_jacobian as sj # sequence-space Jacobian toolkit\n",
    "\n",
    "from household import hh_ha, hh_ta, hh_ra"
   ]
  },
  {
   "cell_type": "code",
   "execution_count": 87,
   "metadata": {},
   "outputs": [],
   "source": [
    "plt.rcParams.update({'font.size': 10, 'font.family': 'serif', 'figure.figsize': (4, 3)})\n",
    "# plt.rcParams.update({'text.usetex': True, 'font.serif': 'Palatino'})"
   ]
  },
  {
   "cell_type": "code",
   "execution_count": 88,
   "metadata": {},
   "outputs": [],
   "source": [
    "@sj.simple\n",
    "def production(Y, mu):\n",
    "    \"\"\"Split aggregate income into pre-tax wage and dividends income\"\"\"\n",
    "    N = Y               # production technology (to first order, i.e. ignoring any Calvo or Rotemberg distortion)\n",
    "    wN = Y / mu\n",
    "    div = Y - wN\n",
    "    return N, wN, div"
   ]
  },
  {
   "cell_type": "code",
   "execution_count": 89,
   "metadata": {},
   "outputs": [],
   "source": [
    "@sj.simple\n",
    "def real_ST_bonds(r_ante):\n",
    "    \"\"\"Bond returns if bonds are short term and real (our default assumption)\"\"\"\n",
    "    r_post_bonds = r_ante(-1)\n",
    "    qbond = 1/(1 + r_ante)\n",
    "    return r_post_bonds, qbond\n",
    "\n",
    "@sj.simple\n",
    "def nom_ST_bonds(r_ante, pi):\n",
    "    \"\"\"Bond returns if bonds are short term and nominal\"\"\"\n",
    "    # real return adjusted downward by any excess of expected over actual inflation\n",
    "    pi_e = pi(1)\n",
    "    r_post_bonds = (1 + r_ante(-1)) * (1 + pi_e(-1))/(1 + pi) - 1\n",
    "    qbond = 1/(1 + r_ante)\n",
    "    return r_post_bonds, qbond\n",
    "\n",
    "@sj.solved(unknowns={'qbond': (0.001, 100.)}, targets=['q_res'], solver=\"brentq\")\n",
    "def real_LT_bonds(qbond, r_ante, delta):\n",
    "    \"\"\"Bond returns if bonds are long term and real\"\"\"\n",
    "    # equation for end-of-period price q of stream of future coupons (1,delta,delta^2,...): q_res=0\n",
    "    q_res = qbond - (1 + delta * qbond(+1)) / (1 + r_ante)\n",
    "\n",
    "    # ex-post return on bonds is coupon today plus delta times value of remaining coupon stream\n",
    "    # divided by yesterday's end-of-period price\n",
    "    r_post_bonds = (1 + delta * qbond) / qbond(-1) - 1\n",
    "    return r_post_bonds, q_res"
   ]
  },
  {
   "cell_type": "code",
   "execution_count": 90,
   "metadata": {},
   "outputs": [],
   "source": [
    "@sj.simple\n",
    "def fiscal(B, r_post_bonds, G, Y, wN, div, tax_rate_shock, T_shock, T_rule_coeff, qbond):\n",
    "    \"\"\"Calculate taxes and after-tax wage and dividend income\"\"\"\n",
    "    T = (1 + r_post_bonds) * B(-1) + G - B  # total tax burden consistent with B and G\n",
    "    tax_rate = T / Y                        # required tax rate\n",
    "    wN_aftertax = (1 - tax_rate) * wN       # after-tax wage income\n",
    "    div_aftertax = (1 - tax_rate) * div     # after-tax dividends\n",
    "\n",
    "    # ALW (2024) rule\n",
    "    tax_rate_res = tax_rate - tax_rate.ss - tax_rate_shock\n",
    "    \n",
    "    # Tax revenue rule (used for FTPL and alternative fiscal rule)\n",
    "    T_res = T - T.ss - T_rule_coeff * (B(-1) - B.ss) - T_shock\n",
    "    \n",
    "    # Default fiscal rule for monetary policy: constant amount owed tomorrow\n",
    "    constant_owed_res = B/qbond - B.ss/qbond.ss\n",
    "    return T, tax_rate, wN_aftertax, div_aftertax, tax_rate_res, T_res, constant_owed_res"
   ]
  },
  {
   "cell_type": "code",
   "execution_count": 91,
   "metadata": {},
   "outputs": [],
   "source": [
    "@sj.simple\n",
    "def fiscal_richest(B, r_post_bonds, G, Y, wN, div):\n",
    "    \"\"\"Variant of above where any taxes beyond steady state are raised only on the richest\"\"\"\n",
    "    Tax_total = (1 + r_post_bonds) * B(-1) + G - B  # total tax burden\n",
    "    T = Tax_total.ss                                # fix standard proportional taxes at steady state level\n",
    "    Tax_richest = Tax_total - T                     # remaining tax burden assessed on richest\n",
    "    tax_rate = T / Y\n",
    "    wN_aftertax = (1 - tax_rate) * wN\n",
    "    div_aftertax = (1 - tax_rate) * div\n",
    "    return T, tax_rate, wN_aftertax, div_aftertax, Tax_richest"
   ]
  },
  {
   "cell_type": "code",
   "execution_count": 92,
   "metadata": {},
   "outputs": [],
   "source": [
    "@sj.solved(unknowns={'p': (0.001,50)}, targets=['cap_cond'])\n",
    "def capitalization(div_aftertax, r_ante, p):\n",
    "    \"\"\"Calculate end-of-period value p of firm and ex-post return on equity holdings\"\"\"\n",
    "    cap_cond = p - (div_aftertax(+1) + p(+1))/(1 + r_ante)\n",
    "    r_post_equity = (div_aftertax + p)/p(-1) - 1\n",
    "    return r_post_equity, cap_cond\n",
    "\n",
    "@sj.simple\n",
    "def ex_post_r(r_post_equity, r_post_bonds, B, p):\n",
    "    \"\"\"Calculate ex-post return on all assets, combining equity and bond returns\"\"\"\n",
    "    r = (p(-1) * r_post_equity + B(-1) * r_post_bonds) / (p(-1) + B(-1))\n",
    "    return r"
   ]
  },
  {
   "cell_type": "code",
   "execution_count": 93,
   "metadata": {},
   "outputs": [],
   "source": [
    "@sj.simple\n",
    "def nkpc(pi, kappa, N, Y, G, beta_ave, vscale, frisch, tax_rate, mu, eis):\n",
    "    \"\"\"New Keynesian Phillips Curve\"\"\"\n",
    "    wedge = vscale*N**(1/frisch) - (1-tax_rate) / mu * (Y-G)**(-1/eis) # using C = Y-G\n",
    "    nkpc_res = kappa * wedge + beta_ave * pi(+1) - pi\n",
    "    return nkpc_res"
   ]
  },
  {
   "cell_type": "code",
   "execution_count": 94,
   "metadata": {},
   "outputs": [],
   "source": [
    "@sj.simple\n",
    "def taylor_rule(rstar, pi, phi):\n",
    "    \"\"\"Taylor rule for monetary policy\"\"\"\n",
    "    i = rstar + phi * pi\n",
    "    r_ante = i - pi(+1)\n",
    "    return r_ante"
   ]
  },
  {
   "cell_type": "code",
   "execution_count": 95,
   "metadata": {},
   "outputs": [],
   "source": [
    "@sj.simple\n",
    "def mkt_clearing(A, Y, C, p, B, G):\n",
    "    \"\"\"Market clearing conditions\"\"\"\n",
    "    asset_mkt = A - p - B\n",
    "    goods_mkt = C + G - Y\n",
    "    return asset_mkt, goods_mkt"
   ]
  },
  {
   "cell_type": "code",
   "execution_count": 96,
   "metadata": {},
   "outputs": [],
   "source": [
    "common_blocks = [production, real_ST_bonds, fiscal, capitalization, ex_post_r, nkpc, mkt_clearing]\n",
    "\n",
    "models_hh = [hh_ha, hh_ta, hh_ra]\n",
    "model_names = ['ha', 'ta', 'ra']\n",
    "\n",
    "models = {name: sj.combine(common_blocks + [hh]) for hh, name in zip(models_hh, model_names)}"
   ]
  },
  {
   "cell_type": "code",
   "execution_count": 97,
   "metadata": {},
   "outputs": [
    {
     "data": {
      "text/plain": [
       "1.1142857142857143"
      ]
     },
     "execution_count": 97,
     "metadata": {},
     "output_type": "execute_result"
    }
   ],
   "source": [
    "Y = 1           # normalization\n",
    "r = 0.005       # 2% annual real interest rate\n",
    "A = 20          # 500% assets to annual GDP\n",
    "B = 4           # 100% debt to annual GDP\n",
    "G = 0.2         # 20% gov spending \n",
    "C = Y - G       # remaining 80% is consumption\n",
    "\n",
    "tax = G + r*B                   # implied steady-state tax rate\n",
    "j = A - B                       # firm equity to GDP\n",
    "div_post = r * j                # implied post-tax dividends to justify firm equity\n",
    "div = div_post / (1 - tax)      # implied pre-tax dividends\n",
    "w_post = (1 - tax) * (1 - div)  # implied post-tax wage\n",
    "mu = 1 / (1 - div)              # implied markup\n",
    "mu"
   ]
  },
  {
   "cell_type": "code",
   "execution_count": 98,
   "metadata": {},
   "outputs": [],
   "source": [
    "eis = 1                                      # elasticity of intertemporal substitution\n",
    "frisch = 1                                   # Frisch elasticity of labor supply (only needed for Phillips curve)\n",
    "vscale = w_post / C**(1/eis) / Y**(1/frisch) # implied parameter scaling wage disutility for zero steady-state pi"
   ]
  },
  {
   "cell_type": "code",
   "execution_count": 99,
   "metadata": {},
   "outputs": [],
   "source": [
    "common_params = dict(Y=Y, r_ante=r, A=A, B=B, G=G, C=C, mu=mu, eis=eis, frisch=frisch, vscale=vscale,\n",
    "            pi = 0,                # steady-state inflation\n",
    "            kappa = 0.01,          # quarterly NKPC slope\n",
    "            tax_rate_shock = 0,    # tax rate \"shock\" (only used with ALW rule)\n",
    "            T_shock = 0,           # Tax level shock (only used with FTPL)\n",
    "            zeta = 0,              # income risk cyclicality parameter (only used to make income risk countercyclical)\n",
    "            T_rule_coeff = 0,      # Coefficient in tax revenue rule on debt (only used with slow adjustment)\n",
    "            )"
   ]
  },
  {
   "cell_type": "code",
   "execution_count": 100,
   "metadata": {},
   "outputs": [],
   "source": [
    "ss = {}"
   ]
  },
  {
   "cell_type": "code",
   "execution_count": 101,
   "metadata": {},
   "outputs": [
    {
     "data": {
      "text/plain": [
       "(2.0236257114447653e-11, 5.881724645107056e-07, -2.220446049250313e-18)"
      ]
     },
     "execution_count": 101,
     "metadata": {},
     "output_type": "execute_result"
    }
   ],
   "source": [
    "with open('hh_params.json') as f:\n",
    "    ha_params = json.load(f)\n",
    "\n",
    "ss['ha'] = models['ha'].steady_state({**ha_params, **common_params})\n",
    "ss['ha']['asset_mkt'], ss['ha']['goods_mkt'], ss['ha']['nkpc_res']"
   ]
  },
  {
   "cell_type": "code",
   "execution_count": 102,
   "metadata": {},
   "outputs": [
    {
     "name": "stdout",
     "output_type": "stream",
     "text": [
      "{'ha': <SteadyStateDict: ['Y', 'mu', 'r_ante', 'B', 'G', 'tax_rate_shock', 'T_shock', 'T_rule_coeff', 'pi', 'kappa', 'beta_ave', 'vscale', 'frisch', 'eis', 'min_a', 'max_a', 'n_a', 'beta_hi', 'dbeta', 'omega', 'q', 'Tr_lumpsum', 'Tax_richest', 'zeta', 'r_post_bonds', 'qbond', 'N', 'wN', 'div', 'T', 'tax_rate', 'wN_aftertax', 'div_aftertax', 'tax_rate_res', 'T_res', 'constant_owed_res', 'p', 'r_post_equity', 'cap_cond', 'r', 'A', 'C', 'asset_mkt', 'goods_mkt', 'nkpc_res'], internals=['hh_ha']>}\n"
     ]
    }
   ],
   "source": [
    "print(ss)"
   ]
  },
  {
   "cell_type": "code",
   "execution_count": 103,
   "metadata": {},
   "outputs": [
    {
     "name": "stdout",
     "output_type": "stream",
     "text": [
      "Micro outputs: ['D', 'Dbeg', 'Pi', 'Va', 'a', 'c', 'e_grid', 'a_grid', 'beta', 'pi_pdf', 'y']\n"
     ]
    }
   ],
   "source": [
    "print(f'Micro outputs: {hh_ha.internals}')\n",
    "# there is the consumption variable 'c' in the dictionnary"
   ]
  },
  {
   "cell_type": "markdown",
   "metadata": {},
   "source": [
    "Micro outputs:\n",
    "- `D`\n",
    "- `Dbeg`\n",
    "- `Pi`\n",
    "- `Va`\n",
    "- `a`\n",
    "- `c`\n",
    "- `e_grid`\n",
    "- `a_grid`\n",
    "- `beta`\n",
    "- `pi_pdf`\n",
    "- `y`"
   ]
  },
  {
   "cell_type": "code",
   "execution_count": 104,
   "metadata": {},
   "outputs": [],
   "source": [
    "partial_eq = hh_ha.steady_state({**ha_params, **common_params})"
   ]
  },
  {
   "cell_type": "code",
   "execution_count": 105,
   "metadata": {},
   "outputs": [
    {
     "data": {
      "text/plain": [
       "0.003722594280479629"
      ]
     },
     "execution_count": 105,
     "metadata": {},
     "output_type": "execute_result"
    }
   ],
   "source": [
    "partial_eq.internals['hh_ha']['c'].min() \n",
    "# minimum de consumption is 0.003722594\n"
   ]
  },
  {
   "cell_type": "code",
   "execution_count": 106,
   "metadata": {},
   "outputs": [],
   "source": [
    "global_eq =  hh_ha.steady_state({**ha_params, **common_params})\n",
    "#global_eq.outputs['hh_ha']['c'].min() "
   ]
  },
  {
   "cell_type": "code",
   "execution_count": 107,
   "metadata": {},
   "outputs": [
    {
     "name": "stdout",
     "output_type": "stream",
     "text": [
      "0.8000005881724646\n"
     ]
    }
   ],
   "source": [
    "print(ss['ha']['C'])"
   ]
  },
  {
   "cell_type": "code",
   "execution_count": 108,
   "metadata": {},
   "outputs": [
    {
     "data": {
      "text/plain": [
       "[<matplotlib.lines.Line2D at 0x13a238560>,\n",
       " <matplotlib.lines.Line2D at 0x12c631e80>,\n",
       " <matplotlib.lines.Line2D at 0x13a2384d0>,\n",
       " <matplotlib.lines.Line2D at 0x13a239010>,\n",
       " <matplotlib.lines.Line2D at 0x13a239070>,\n",
       " <matplotlib.lines.Line2D at 0x13a238b60>,\n",
       " <matplotlib.lines.Line2D at 0x13a23a3f0>,\n",
       " <matplotlib.lines.Line2D at 0x13a239970>,\n",
       " <matplotlib.lines.Line2D at 0x13a23a600>,\n",
       " <matplotlib.lines.Line2D at 0x13a239c70>,\n",
       " <matplotlib.lines.Line2D at 0x13a23bf20>,\n",
       " <matplotlib.lines.Line2D at 0x13a23b140>,\n",
       " <matplotlib.lines.Line2D at 0x13a239af0>,\n",
       " <matplotlib.lines.Line2D at 0x13a23b560>,\n",
       " <matplotlib.lines.Line2D at 0x13a23b920>,\n",
       " <matplotlib.lines.Line2D at 0x13a239b80>,\n",
       " <matplotlib.lines.Line2D at 0x13a238200>,\n",
       " <matplotlib.lines.Line2D at 0x13a23a9c0>,\n",
       " <matplotlib.lines.Line2D at 0x13a23aba0>,\n",
       " <matplotlib.lines.Line2D at 0x13a23a210>,\n",
       " <matplotlib.lines.Line2D at 0x13a2380e0>,\n",
       " <matplotlib.lines.Line2D at 0x13a23af60>,\n",
       " <matplotlib.lines.Line2D at 0x12c488e00>,\n",
       " <matplotlib.lines.Line2D at 0x13e256de0>,\n",
       " <matplotlib.lines.Line2D at 0x12c655c10>,\n",
       " <matplotlib.lines.Line2D at 0x13e256cf0>,\n",
       " <matplotlib.lines.Line2D at 0x13e256f90>,\n",
       " <matplotlib.lines.Line2D at 0x1393a86e0>,\n",
       " <matplotlib.lines.Line2D at 0x1393abfb0>,\n",
       " <matplotlib.lines.Line2D at 0x1393a9220>,\n",
       " <matplotlib.lines.Line2D at 0x1393aaba0>,\n",
       " <matplotlib.lines.Line2D at 0x1393a8e60>,\n",
       " <matplotlib.lines.Line2D at 0x1393abc20>,\n",
       " <matplotlib.lines.Line2D at 0x1393ab860>,\n",
       " <matplotlib.lines.Line2D at 0x13f830a10>,\n",
       " <matplotlib.lines.Line2D at 0x13f830e30>,\n",
       " <matplotlib.lines.Line2D at 0x13f8303e0>,\n",
       " <matplotlib.lines.Line2D at 0x10f2bebd0>,\n",
       " <matplotlib.lines.Line2D at 0x13f965f40>,\n",
       " <matplotlib.lines.Line2D at 0x13f97faa0>,\n",
       " <matplotlib.lines.Line2D at 0x139440fe0>,\n",
       " <matplotlib.lines.Line2D at 0x139441d90>,\n",
       " <matplotlib.lines.Line2D at 0x139442d20>,\n",
       " <matplotlib.lines.Line2D at 0x130a82ed0>,\n",
       " <matplotlib.lines.Line2D at 0x130a832f0>,\n",
       " <matplotlib.lines.Line2D at 0x13f830dd0>,\n",
       " <matplotlib.lines.Line2D at 0x13ec13e60>,\n",
       " <matplotlib.lines.Line2D at 0x13ec129f0>,\n",
       " <matplotlib.lines.Line2D at 0x13ec10350>,\n",
       " <matplotlib.lines.Line2D at 0x13ec12c60>,\n",
       " <matplotlib.lines.Line2D at 0x13ec12db0>,\n",
       " <matplotlib.lines.Line2D at 0x13ec10fe0>,\n",
       " <matplotlib.lines.Line2D at 0x13fa21040>,\n",
       " <matplotlib.lines.Line2D at 0x13fa228a0>,\n",
       " <matplotlib.lines.Line2D at 0x13fa22570>,\n",
       " <matplotlib.lines.Line2D at 0x13fa23e00>,\n",
       " <matplotlib.lines.Line2D at 0x13fa23c20>,\n",
       " <matplotlib.lines.Line2D at 0x13fa23680>,\n",
       " <matplotlib.lines.Line2D at 0x13fa21c70>,\n",
       " <matplotlib.lines.Line2D at 0x13fa200e0>,\n",
       " <matplotlib.lines.Line2D at 0x13fa23500>,\n",
       " <matplotlib.lines.Line2D at 0x13a218ce0>,\n",
       " <matplotlib.lines.Line2D at 0x13a21a5d0>,\n",
       " <matplotlib.lines.Line2D at 0x13a2197c0>,\n",
       " <matplotlib.lines.Line2D at 0x13a21a840>,\n",
       " <matplotlib.lines.Line2D at 0x13a21a900>,\n",
       " <matplotlib.lines.Line2D at 0x13a21bb00>,\n",
       " <matplotlib.lines.Line2D at 0x13a21b2c0>,\n",
       " <matplotlib.lines.Line2D at 0x13a21af60>,\n",
       " <matplotlib.lines.Line2D at 0x12ca08200>,\n",
       " <matplotlib.lines.Line2D at 0x12ca083b0>,\n",
       " <matplotlib.lines.Line2D at 0x1396789e0>,\n",
       " <matplotlib.lines.Line2D at 0x13967a1b0>,\n",
       " <matplotlib.lines.Line2D at 0x1392b7dd0>,\n",
       " <matplotlib.lines.Line2D at 0x13967b890>,\n",
       " <matplotlib.lines.Line2D at 0x139679e50>,\n",
       " <matplotlib.lines.Line2D at 0x12c655790>,\n",
       " <matplotlib.lines.Line2D at 0x13967a510>,\n",
       " <matplotlib.lines.Line2D at 0x13967a720>,\n",
       " <matplotlib.lines.Line2D at 0x13967a270>,\n",
       " <matplotlib.lines.Line2D at 0x13967a390>,\n",
       " <matplotlib.lines.Line2D at 0x13967a450>,\n",
       " <matplotlib.lines.Line2D at 0x139678bf0>,\n",
       " <matplotlib.lines.Line2D at 0x13967bdd0>,\n",
       " <matplotlib.lines.Line2D at 0x139679e20>,\n",
       " <matplotlib.lines.Line2D at 0x13967a5a0>,\n",
       " <matplotlib.lines.Line2D at 0x13f868050>,\n",
       " <matplotlib.lines.Line2D at 0x1396797c0>,\n",
       " <matplotlib.lines.Line2D at 0x139678230>,\n",
       " <matplotlib.lines.Line2D at 0x139679dc0>,\n",
       " <matplotlib.lines.Line2D at 0x13967a3f0>,\n",
       " <matplotlib.lines.Line2D at 0x13967a600>,\n",
       " <matplotlib.lines.Line2D at 0x139679eb0>,\n",
       " <matplotlib.lines.Line2D at 0x13f9a3f20>,\n",
       " <matplotlib.lines.Line2D at 0x13f9a1220>,\n",
       " <matplotlib.lines.Line2D at 0x13f9a3e90>,\n",
       " <matplotlib.lines.Line2D at 0x13f9a0da0>,\n",
       " <matplotlib.lines.Line2D at 0x13f9a0260>,\n",
       " <matplotlib.lines.Line2D at 0x13f9a17c0>,\n",
       " <matplotlib.lines.Line2D at 0x13a23a720>,\n",
       " <matplotlib.lines.Line2D at 0x13f9a12e0>,\n",
       " <matplotlib.lines.Line2D at 0x13f9a2f00>,\n",
       " <matplotlib.lines.Line2D at 0x13f9a2ea0>,\n",
       " <matplotlib.lines.Line2D at 0x13f9a0110>,\n",
       " <matplotlib.lines.Line2D at 0x13f9a27b0>,\n",
       " <matplotlib.lines.Line2D at 0x13f9a3950>,\n",
       " <matplotlib.lines.Line2D at 0x13f9a30e0>,\n",
       " <matplotlib.lines.Line2D at 0x13f9a3f50>,\n",
       " <matplotlib.lines.Line2D at 0x13f9a1910>,\n",
       " <matplotlib.lines.Line2D at 0x13f9a2810>,\n",
       " <matplotlib.lines.Line2D at 0x13f9a3a40>,\n",
       " <matplotlib.lines.Line2D at 0x13f9a32c0>,\n",
       " <matplotlib.lines.Line2D at 0x13f9a3080>,\n",
       " <matplotlib.lines.Line2D at 0x13f9a28a0>,\n",
       " <matplotlib.lines.Line2D at 0x13f9a0a40>,\n",
       " <matplotlib.lines.Line2D at 0x13f9a3bc0>,\n",
       " <matplotlib.lines.Line2D at 0x13f9a3da0>,\n",
       " <matplotlib.lines.Line2D at 0x13f9a2390>,\n",
       " <matplotlib.lines.Line2D at 0x13f9a08f0>,\n",
       " <matplotlib.lines.Line2D at 0x13f9a1100>,\n",
       " <matplotlib.lines.Line2D at 0x13f9a2e40>,\n",
       " <matplotlib.lines.Line2D at 0x13f9a36e0>,\n",
       " <matplotlib.lines.Line2D at 0x13f9a28d0>,\n",
       " <matplotlib.lines.Line2D at 0x13f9a3fe0>,\n",
       " <matplotlib.lines.Line2D at 0x13f7fae10>,\n",
       " <matplotlib.lines.Line2D at 0x13f9a3200>,\n",
       " <matplotlib.lines.Line2D at 0x13f9a0530>,\n",
       " <matplotlib.lines.Line2D at 0x13f9a1370>,\n",
       " <matplotlib.lines.Line2D at 0x13f9a2150>,\n",
       " <matplotlib.lines.Line2D at 0x13f9a0440>,\n",
       " <matplotlib.lines.Line2D at 0x13f9a2420>,\n",
       " <matplotlib.lines.Line2D at 0x13f9a3e30>,\n",
       " <matplotlib.lines.Line2D at 0x13f9a0f50>,\n",
       " <matplotlib.lines.Line2D at 0x13f9a1df0>,\n",
       " <matplotlib.lines.Line2D at 0x13f9a0140>,\n",
       " <matplotlib.lines.Line2D at 0x13f9a0740>,\n",
       " <matplotlib.lines.Line2D at 0x13f9a0680>,\n",
       " <matplotlib.lines.Line2D at 0x13f9a2cc0>,\n",
       " <matplotlib.lines.Line2D at 0x13f9a2540>,\n",
       " <matplotlib.lines.Line2D at 0x13f9a2870>,\n",
       " <matplotlib.lines.Line2D at 0x13f9a1430>,\n",
       " <matplotlib.lines.Line2D at 0x13f9a21e0>,\n",
       " <matplotlib.lines.Line2D at 0x13f9a1d90>,\n",
       " <matplotlib.lines.Line2D at 0x13f9a11c0>,\n",
       " <matplotlib.lines.Line2D at 0x13f9a3830>,\n",
       " <matplotlib.lines.Line2D at 0x13f9a0080>,\n",
       " <matplotlib.lines.Line2D at 0x13f9a3500>,\n",
       " <matplotlib.lines.Line2D at 0x13f9a1460>,\n",
       " <matplotlib.lines.Line2D at 0x13f9a2180>,\n",
       " <matplotlib.lines.Line2D at 0x13f9a2570>,\n",
       " <matplotlib.lines.Line2D at 0x13f9a2f90>,\n",
       " <matplotlib.lines.Line2D at 0x13f9a09b0>,\n",
       " <matplotlib.lines.Line2D at 0x13f9a3290>,\n",
       " <matplotlib.lines.Line2D at 0x139677bc0>,\n",
       " <matplotlib.lines.Line2D at 0x139677b60>,\n",
       " <matplotlib.lines.Line2D at 0x139677560>,\n",
       " <matplotlib.lines.Line2D at 0x1396755e0>,\n",
       " <matplotlib.lines.Line2D at 0x139676420>,\n",
       " <matplotlib.lines.Line2D at 0x139675d30>,\n",
       " <matplotlib.lines.Line2D at 0x139675e80>,\n",
       " <matplotlib.lines.Line2D at 0x139677500>,\n",
       " <matplotlib.lines.Line2D at 0x1396757f0>,\n",
       " <matplotlib.lines.Line2D at 0x1396751f0>,\n",
       " <matplotlib.lines.Line2D at 0x139675a60>,\n",
       " <matplotlib.lines.Line2D at 0x139674e00>,\n",
       " <matplotlib.lines.Line2D at 0x13f99e390>,\n",
       " <matplotlib.lines.Line2D at 0x13f99e6c0>,\n",
       " <matplotlib.lines.Line2D at 0x13f99f6b0>,\n",
       " <matplotlib.lines.Line2D at 0x13f99f1d0>,\n",
       " <matplotlib.lines.Line2D at 0x13f99c140>,\n",
       " <matplotlib.lines.Line2D at 0x13f99fd10>,\n",
       " <matplotlib.lines.Line2D at 0x13f99d4c0>,\n",
       " <matplotlib.lines.Line2D at 0x13f99cfe0>,\n",
       " <matplotlib.lines.Line2D at 0x13f99d460>,\n",
       " <matplotlib.lines.Line2D at 0x13f99e480>,\n",
       " <matplotlib.lines.Line2D at 0x13f99ce00>,\n",
       " <matplotlib.lines.Line2D at 0x13f99fb00>,\n",
       " <matplotlib.lines.Line2D at 0x13f99f500>,\n",
       " <matplotlib.lines.Line2D at 0x13f99fec0>,\n",
       " <matplotlib.lines.Line2D at 0x13f99e810>,\n",
       " <matplotlib.lines.Line2D at 0x13f99ee70>,\n",
       " <matplotlib.lines.Line2D at 0x13f99c170>,\n",
       " <matplotlib.lines.Line2D at 0x13f99d5e0>,\n",
       " <matplotlib.lines.Line2D at 0x13f99e000>,\n",
       " <matplotlib.lines.Line2D at 0x13f99d160>,\n",
       " <matplotlib.lines.Line2D at 0x13f99ef00>,\n",
       " <matplotlib.lines.Line2D at 0x13f99c8f0>,\n",
       " <matplotlib.lines.Line2D at 0x13f9a55b0>,\n",
       " <matplotlib.lines.Line2D at 0x13f9a4590>,\n",
       " <matplotlib.lines.Line2D at 0x13f99d850>,\n",
       " <matplotlib.lines.Line2D at 0x13f99f5c0>,\n",
       " <matplotlib.lines.Line2D at 0x13f99da30>,\n",
       " <matplotlib.lines.Line2D at 0x13f99f5f0>,\n",
       " <matplotlib.lines.Line2D at 0x13f99fe60>,\n",
       " <matplotlib.lines.Line2D at 0x13f99ed80>,\n",
       " <matplotlib.lines.Line2D at 0x13f99cb00>,\n",
       " <matplotlib.lines.Line2D at 0x13f99e450>,\n",
       " <matplotlib.lines.Line2D at 0x13f99d340>,\n",
       " <matplotlib.lines.Line2D at 0x13f99cfb0>,\n",
       " <matplotlib.lines.Line2D at 0x13f99dc40>]"
      ]
     },
     "execution_count": 108,
     "metadata": {},
     "output_type": "execute_result"
    },
    {
     "data": {
      "image/png": "[encoded data removed]",
      "text/plain": [
       "<Figure size 400x300 with 1 Axes>"
      ]
     },
     "metadata": {},
     "output_type": "display_data"
    }
   ],
   "source": [
    "trunc = 275\n",
    "plt.plot(partial_eq.internals['hh_ha']['c'][:trunc])"
   ]
  },
  {
   "cell_type": "code",
   "execution_count": 109,
   "metadata": {},
   "outputs": [
    {
     "name": "stdout",
     "output_type": "stream",
     "text": [
      "[[3.72259428e-03 1.15343342e-02 1.74260891e-02 ... 1.77284595e+02\n",
      "  1.95940290e+02 2.16844918e+02]\n",
      " [8.60009640e-03 1.92159874e-02 2.61499403e-02 ... 1.77501766e+02\n",
      "  1.96157297e+02 2.17061757e+02]\n",
      " [1.77969770e-02 2.91833363e-02 3.94571307e-02 ... 1.77788184e+02\n",
      "  1.96443558e+02 2.17347853e+02]\n",
      " ...\n",
      " [8.49723765e-01 8.49826507e-01 8.49931591e-01 ... 2.00151801e+01\n",
      "  2.20534188e+01 2.43378132e+01]\n",
      " [1.28636041e+00 1.28645158e+00 1.28654482e+00 ... 2.04884479e+01\n",
      "  2.25273795e+01 2.48124537e+01]\n",
      " [2.18601461e+00 2.18610084e+00 2.18618904e+00 ... 2.15476527e+01\n",
      "  2.35898784e+01 2.58782987e+01]]\n",
      "(66, 200)\n"
     ]
    }
   ],
   "source": [
    "print(partial_eq.internals['hh_ha']['c']) # we have all beta-income states thus 66 rows \n",
    "print(partial_eq.internals['hh_ha']['c'].shape)\n",
    "# shape(66,200)\n",
    "c_ss = partial_eq.internals['hh_ha']['c']"
   ]
  },
  {
   "cell_type": "code",
   "execution_count": 110,
   "metadata": {},
   "outputs": [
    {
     "name": "stdout",
     "output_type": "stream",
     "text": [
      "[[9.56951919e-05 5.11270815e-06 2.51387065e-06 ... 1.30398110e-15\n",
      "  2.76500882e-16 4.62625885e-17]\n",
      " [2.83996384e-04 8.85267768e-06 5.05242332e-06 ... 3.15521539e-15\n",
      "  6.67643258e-16 1.10477996e-16]\n",
      " [6.15950775e-04 1.34268782e-05 8.14296581e-06 ... 5.71876573e-15\n",
      "  1.20756095e-15 1.97862989e-16]\n",
      " ...\n",
      " [0.00000000e+00 0.00000000e+00 0.00000000e+00 ... 4.65460085e-12\n",
      "  9.78486494e-13 2.56958980e-13]\n",
      " [0.00000000e+00 0.00000000e+00 0.00000000e+00 ... 6.45186932e-12\n",
      "  1.35710202e-12 3.83201661e-13]\n",
      " [0.00000000e+00 0.00000000e+00 0.00000000e+00 ... 9.01863442e-12\n",
      "  1.93625307e-12 5.84876683e-13]]\n",
      "(66, 200)\n"
     ]
    }
   ],
   "source": [
    "print(partial_eq.internals['hh_ha']['Dbeg']) # we have all beta-income states thus 66 rows \n",
    "print(partial_eq.internals['hh_ha']['Dbeg'].shape)\n",
    "# shape(66,200)\n",
    "D_ss = partial_eq.internals['hh_ha']['Dbeg']"
   ]
  },
  {
   "cell_type": "code",
   "execution_count": 111,
   "metadata": {},
   "outputs": [
    {
     "name": "stdout",
     "output_type": "stream",
     "text": [
      "[  60.29449502   60.63516624   60.95779717   61.27070123   61.57422571\n",
      "   61.86864419   62.15437224   62.435442     62.70777145   62.98004991\n",
      "   63.24888874   63.50939729   63.76855223   64.02765051   64.28560993\n",
      "   64.54329452   64.7986562    65.05236365   65.30812867   65.56373154\n",
      "   65.8196603    66.07654844   66.33454185   66.5943944    66.85564688\n",
      "   67.11737847   67.37973645   67.64360638   67.90940714   68.17446237\n",
      "   68.44119439   68.71029396   68.98146602   69.25500465   69.53053315\n",
      "   69.80906939   70.09133533   70.37739725   70.66635632   70.9586085\n",
      "   71.2547285    71.55261352   71.85274256   72.15668942   72.46278712\n",
      "   72.77326224   73.08774092   73.40637983   73.72914291   74.05618645\n",
      "   74.38819491   74.72575313   75.06911579   75.41807755   75.77303648\n",
      "   76.13447902   76.50223269   76.87638095   77.25803736   77.64686221\n",
      "   78.04267903   78.44648179   78.85842455   79.27854672   79.70717716\n",
      "   80.14482639   80.59185039   81.04918551   81.51759966   81.99744967\n",
      "   82.48935162   82.99333268   83.50946886   84.03885474   84.58242049\n",
      "   85.14046934   85.71336802   86.30066429   86.90316391   87.52106749\n",
      "   88.153656     88.80278402   89.46893975   90.15325236   90.85735482\n",
      "   91.581923     92.32809637   93.0969462    93.88917223   94.70615404\n",
      "   95.54885432   96.41834196   97.31577636   98.24202423   99.19869138\n",
      "  100.18723929  101.2082492   102.26303819  103.35334914  104.48000774\n",
      "  105.64484612  106.84907242  108.0948391   109.38422593  110.72023775\n",
      "  112.10508381  113.54190585  115.03225823  116.57886685  118.18378826\n",
      "  119.85047703  121.58248165  123.38333903  125.25567392  127.20316321\n",
      "  129.22789549  131.33539503  133.5306711   135.81808264  138.20310436\n",
      "  140.69118411  143.28836019  146.0004588   148.83377275  151.7928264\n",
      "  154.88707909  158.12452583  161.51273697  165.06202326  168.78193048\n",
      "  172.68160539  176.77225734  181.06573554  185.57424748  190.31323382\n",
      "  195.29657688  200.53831539  206.05708267  211.86902745  217.99671483\n",
      "  224.45823992  231.27737636  238.47803443  246.08855634  254.13475077\n",
      "  262.64931972  271.66402608  281.21785698  291.34836786  302.0978268\n",
      "  313.51506748  325.64809919  338.55374345  352.29289286  366.92840216\n",
      "  382.53425227  399.18996372  416.9813747   436.00217352  456.35773201\n",
      "  478.1618285   501.54003724  526.62913004  553.58328413  582.57077448\n",
      "  613.77721363  647.40809877  683.69061762  722.8765206   765.24687729\n",
      "  811.11262738  860.81923103  914.75089682  973.33516024 1037.04891763\n",
      " 1106.4237929  1182.05298323 1264.59842074 1354.80076404 1453.48811409\n",
      " 1561.58849139 1680.14251983 1810.31685258 1953.42144439 2110.92854266\n",
      " 2284.49437027 2475.98391238 2687.49928153 2921.41221419 3180.40134482\n",
      " 3467.49500468 3786.12041849 4140.16031649 4534.01815402 4972.69330041\n",
      " 5461.86802609 6008.00783755 6618.47772614 7301.67692941 8067.19583246]\n",
      "(200,)\n"
     ]
    }
   ],
   "source": [
    "\n",
    "#c_ss = partial_eq.internals['hh_ha']['c']\n",
    "print(partial_eq.internals['hh_ha']['c'].sum(axis=0))\n",
    "print(partial_eq.internals['hh_ha']['c'].sum(axis=0).shape)"
   ]
  },
  {
   "cell_type": "code",
   "execution_count": 112,
   "metadata": {},
   "outputs": [
    {
     "name": "stdout",
     "output_type": "stream",
     "text": [
      "(66,)\n"
     ]
    }
   ],
   "source": [
    "#print(partial_eq.internals['hh_ha']['e_grid'])\n",
    "print(partial_eq.internals['hh_ha']['e_grid'].shape) # productivity grid \n",
    "# shape(66,)\n",
    "# D = ss.internals['hh_ha']['D'].sum(axis=0) # distribution over asset grid alone"
   ]
  },
  {
   "cell_type": "code",
   "execution_count": 113,
   "metadata": {},
   "outputs": [
    {
     "name": "stdout",
     "output_type": "stream",
     "text": [
      "[3.72259428e-03 8.60009640e-03 1.77969770e-02 2.47033364e-02\n",
      " 3.24915031e-02 5.10041046e-02 5.70707036e-02 6.42911774e-02\n",
      " 8.10396639e-02 1.18101699e-01 1.27213428e-01 1.63932665e-01\n",
      " 2.15615363e-01 2.32250440e-01 3.38465982e-01 3.78724267e-01\n",
      " 4.26639721e-01 4.80617345e-01 5.37783591e-01 7.83729200e-01\n",
      " 8.44195187e-01 1.11034279e+00 1.43083521e+00 1.54122635e+00\n",
      " 2.24607856e+00 2.83120420e+00 3.18940262e+00 3.56876085e+00\n",
      " 5.60212468e+00 7.36829424e+00 1.02276612e+01 2.11650478e+01\n",
      " 4.88963980e+01 3.72259428e-03 8.60009640e-03 1.77969770e-02\n",
      " 2.47033364e-02 3.24915031e-02 5.10041046e-02 5.70707036e-02\n",
      " 6.42911774e-02 8.10396639e-02 1.18101699e-01 1.27213428e-01\n",
      " 1.63932665e-01 2.15615363e-01 2.32250440e-01 3.38465982e-01\n",
      " 3.78724267e-01 4.26639721e-01 4.80617345e-01 5.37783591e-01\n",
      " 7.83729200e-01 8.44195187e-01 1.11034279e+00 1.43083521e+00\n",
      " 1.54122635e+00 2.24607856e+00 2.83120420e+00 3.18940262e+00\n",
      " 3.56876085e+00 5.60212468e+00 7.36829424e+00 1.02276612e+01\n",
      " 2.11650478e+01 4.88963980e+01]\n",
      "(66,)\n",
      "228.33073118410147\n"
     ]
    }
   ],
   "source": [
    "y_ss =partial_eq.internals['hh_ha']['y']\n",
    "print(partial_eq.internals['hh_ha']['y'])\n",
    "print(partial_eq.internals['hh_ha']['y'].shape) # total income per person \n",
    "# shape(66,)\n",
    "print(partial_eq.internals['hh_ha']['y'].sum(axis=0))\n",
    "# total income at ss 228.33073118410147"
   ]
  },
  {
   "cell_type": "code",
   "execution_count": 114,
   "metadata": {},
   "outputs": [
    {
     "name": "stdout",
     "output_type": "stream",
     "text": [
      "[0.91090272 0.91090272 0.91090272 0.91090272 0.91090272 0.91090272\n",
      " 0.91090272 0.91090272 0.91090272 0.91090272 0.91090272 0.91090272\n",
      " 0.91090272 0.91090272 0.91090272 0.91090272 0.91090272 0.91090272\n",
      " 0.91090272 0.91090272 0.91090272 0.91090272 0.91090272 0.91090272\n",
      " 0.91090272 0.91090272 0.91090272 0.91090272 0.91090272 0.91090272\n",
      " 0.91090272 0.91090272 0.91090272 0.99876287 0.99876287 0.99876287\n",
      " 0.99876287 0.99876287 0.99876287 0.99876287 0.99876287 0.99876287\n",
      " 0.99876287 0.99876287 0.99876287 0.99876287 0.99876287 0.99876287\n",
      " 0.99876287 0.99876287 0.99876287 0.99876287 0.99876287 0.99876287\n",
      " 0.99876287 0.99876287 0.99876287 0.99876287 0.99876287 0.99876287\n",
      " 0.99876287 0.99876287 0.99876287 0.99876287 0.99876287 0.99876287]\n",
      "(66,)\n"
     ]
    }
   ],
   "source": [
    "print(partial_eq.internals['hh_ha']['beta'])\n",
    "print(partial_eq.internals['hh_ha']['beta'].shape) # beta grid \n",
    "# shape(66,)\n",
    "# de 0 à 32 obs -> 0.91, de 33 a 67 -> 0.98"
   ]
  },
  {
   "cell_type": "code",
   "execution_count": 115,
   "metadata": {},
   "outputs": [
    {
     "name": "stdout",
     "output_type": "stream",
     "text": [
      "(66,)\n",
      "1.0000000000000981\n"
     ]
    }
   ],
   "source": [
    "pi_pdf_ss = partial_eq.internals['hh_ha']['pi_pdf']\n",
    "print(partial_eq.internals['hh_ha']['pi_pdf'].shape) # stationary distribution over all joint (β,e)(β,e)-states.\n",
    "# shape(66,)\n",
    "# de 0 à 32 obs -> 0.91, de 33 a 67 -> 0.98\n",
    "print(partial_eq.internals['hh_ha']['pi_pdf'].sum(axis=0))"
   ]
  },
  {
   "cell_type": "code",
   "execution_count": 116,
   "metadata": {},
   "outputs": [
    {
     "name": "stdout",
     "output_type": "stream",
     "text": [
      "[[9.56951919e-05 5.11270815e-06 2.51387065e-06 ... 1.30398110e-15\n",
      "  2.76500882e-16 4.62625885e-17]\n",
      " [2.83996384e-04 8.85267768e-06 5.05242332e-06 ... 3.15521539e-15\n",
      "  6.67643258e-16 1.10477996e-16]\n",
      " [6.15950775e-04 1.34268782e-05 8.14296581e-06 ... 5.71876573e-15\n",
      "  1.20756095e-15 1.97862989e-16]\n",
      " ...\n",
      " [0.00000000e+00 0.00000000e+00 0.00000000e+00 ... 4.65460085e-12\n",
      "  9.78486494e-13 2.56958980e-13]\n",
      " [0.00000000e+00 0.00000000e+00 0.00000000e+00 ... 6.45186932e-12\n",
      "  1.35710202e-12 3.83201661e-13]\n",
      " [0.00000000e+00 0.00000000e+00 0.00000000e+00 ... 9.01863442e-12\n",
      "  1.93625307e-12 5.84876683e-13]]\n",
      "(66, 200)\n"
     ]
    }
   ],
   "source": [
    "#pi_pdf_ss = partial_eq.internals['hh_ha']['pi_pdf']\n",
    "print(partial_eq.internals['hh_ha']['Dbeg'])\n",
    "print(partial_eq.internals['hh_ha']['Dbeg'].shape)\n",
    "#shape (66,200)"
   ]
  },
  {
   "cell_type": "code",
   "execution_count": 162,
   "metadata": {},
   "outputs": [
    {
     "name": "stdout",
     "output_type": "stream",
     "text": [
      "20.000000000021224\n"
     ]
    }
   ],
   "source": [
    "D_ss = partial_eq.internals['hh_ha']['D']\n",
    "test = D_ss*a_ss\n",
    "print(np.sum(test))\n"
   ]
  },
  {
   "cell_type": "code",
   "execution_count": 118,
   "metadata": {},
   "outputs": [
    {
     "data": {
      "text/plain": [
       "114001.81722578834"
      ]
     },
     "execution_count": 118,
     "metadata": {},
     "output_type": "execute_result"
    }
   ],
   "source": [
    "np.sum(c_ss)\n",
    "#np.sum(D_ss)"
   ]
  },
  {
   "cell_type": "code",
   "execution_count": 119,
   "metadata": {},
   "outputs": [
    {
     "name": "stdout",
     "output_type": "stream",
     "text": [
      "[[4.28054646e-01 1.39564528e-02 5.25960451e-04 ... 6.05531230e-08\n",
      "  4.26968584e-08 2.77430211e-08]\n",
      " [1.59147057e-04 4.30704726e-01 1.15611827e-02 ... 6.05531229e-08\n",
      "  4.26968584e-08 2.77430211e-08]\n",
      " [1.59147058e-04 2.44929323e-04 4.33370781e-01 ... 6.05531230e-08\n",
      "  4.26968585e-08 2.77430212e-08]\n",
      " ...\n",
      " [2.88355405e-08 4.43782595e-08 6.29377033e-08 ... 4.33286686e-01\n",
      "  2.44881795e-04 1.59116175e-04]\n",
      " [2.88355405e-08 4.43782595e-08 6.29377032e-08 ... 1.15589393e-02\n",
      "  4.30621148e-01 1.59116175e-04]\n",
      " [2.88355405e-08 4.43782595e-08 6.29377032e-08 ... 5.25858388e-04\n",
      "  1.39537445e-02 4.27971582e-01]]\n",
      "(66, 66)\n"
     ]
    }
   ],
   "source": [
    "#pi_pdf_ss = partial_eq.internals['hh_ha']['Pi']\n",
    "print(partial_eq.internals['hh_ha']['Pi'])\n",
    "print(partial_eq.internals['hh_ha']['Pi'].shape) # transition matrix \n",
    "#shape (66,66)"
   ]
  },
  {
   "cell_type": "code",
   "execution_count": 120,
   "metadata": {},
   "outputs": [
    {
     "name": "stdout",
     "output_type": "stream",
     "text": [
      "[[2.69973015e+02 8.71311670e+01 5.76721487e+01 ... 5.66885126e-03\n",
      "  5.12911358e-03 4.63464863e-03]\n",
      " [1.16859155e+02 5.23002009e+01 3.84322101e+01 ... 5.66191550e-03\n",
      "  5.12343927e-03 4.63001872e-03]\n",
      " [5.64702645e+01 3.44374607e+01 2.54706813e+01 ... 5.65279411e-03\n",
      "  5.11597331e-03 4.62392421e-03]\n",
      " ...\n",
      " [1.18273731e+00 1.18259432e+00 1.18244811e+00 ... 5.02118890e-02\n",
      "  4.55711657e-02 4.12937675e-02]\n",
      " [7.81274044e-01 7.81218678e-01 7.81162059e-01 ... 4.90520320e-02\n",
      "  4.46123794e-02 4.05038540e-02]\n",
      " [4.59740751e-01 4.59722617e-01 4.59704070e-01 ... 4.66408111e-02\n",
      "  4.26030174e-02 3.88356287e-02]]\n",
      "(66, 200)\n"
     ]
    }
   ],
   "source": [
    "#pi_pdf_ss = partial_eq.internals['hh_ha']['Va']\n",
    "print(partial_eq.internals['hh_ha']['Va'])\n",
    "print(partial_eq.internals['hh_ha']['Va'].shape) # transition matrix \n",
    "#shape (66,200)"
   ]
  },
  {
   "cell_type": "code",
   "execution_count": 121,
   "metadata": {},
   "outputs": [
    {
     "name": "stdout",
     "output_type": "stream",
     "text": [
      "[[0.00000000e+00 3.57461940e-03 9.32870066e-03 ... 3.09436094e+03\n",
      "  3.42854576e+03 3.80315880e+03]\n",
      " [0.00000000e+00 7.70468354e-04 5.48235155e-03 ... 3.09414865e+03\n",
      "  3.42833363e+03 3.80294684e+03]\n",
      " [0.00000000e+00 0.00000000e+00 1.37204180e-03 ... 3.09387143e+03\n",
      "  3.42805657e+03 3.80266994e+03]\n",
      " ...\n",
      " [9.37793745e+00 9.38922107e+00 9.40076182e+00 ... 3.26185429e+03\n",
      "  3.61265657e+03 4.00588985e+03]\n",
      " [1.98786874e+01 1.98899826e+01 1.99015352e+01 ... 3.27231841e+03\n",
      "  3.62312000e+03 4.01635259e+03]\n",
      " [4.67103834e+01 4.67216835e+01 4.67332412e+01 ... 3.29899056e+03\n",
      "  3.64978885e+03 4.04301810e+03]]\n",
      "(66, 200)\n",
      "[1.68036236e+02 1.68447065e+02 1.68893059e+02 1.69366396e+02\n",
      " 1.69867237e+02 1.70395832e+02 1.70952310e+02 1.71533201e+02\n",
      " 1.72143170e+02 1.72774131e+02 1.73430097e+02 1.74116605e+02\n",
      " 1.74827349e+02 1.75561728e+02 1.76321543e+02 1.77106678e+02\n",
      " 1.77919953e+02 1.78761503e+02 1.79628450e+02 1.80523876e+02\n",
      " 1.81448190e+02 1.82401689e+02 1.83385193e+02 1.84398951e+02\n",
      " 1.85444465e+02 1.86523736e+02 1.87637743e+02 1.88786767e+02\n",
      " 1.89971605e+02 1.91196196e+02 1.92459430e+02 1.93761982e+02\n",
      " 1.95105569e+02 1.96491375e+02 1.97921317e+02 1.99395978e+02\n",
      " 2.00916305e+02 2.02483970e+02 2.04101682e+02 2.05770933e+02\n",
      " 2.07493114e+02 2.09272379e+02 2.11110387e+02 2.13007794e+02\n",
      " 2.14968595e+02 2.16992991e+02 2.19083893e+02 2.21243789e+02\n",
      " 2.23475482e+02 2.25781702e+02 2.28164783e+02 2.30627295e+02\n",
      " 2.33172282e+02 2.35803397e+02 2.38523852e+02 2.41336934e+02\n",
      " 2.44246768e+02 2.47257408e+02 2.50372072e+02 2.53595639e+02\n",
      " 2.56933041e+02 2.60388268e+02 2.63966392e+02 2.67672856e+02\n",
      " 2.71513080e+02 2.75492588e+02 2.79617357e+02 2.83893103e+02\n",
      " 2.88326043e+02 2.92923159e+02 2.97691551e+02 3.02639301e+02\n",
      " 3.07774862e+02 3.13106114e+02 3.18641570e+02 3.24390866e+02\n",
      " 3.30364105e+02 3.36572768e+02 3.43027667e+02 3.49740854e+02\n",
      " 3.56725965e+02 3.63994771e+02 3.71561162e+02 3.79439190e+02\n",
      " 3.87643248e+02 3.96189593e+02 4.05094980e+02 4.14377252e+02\n",
      " 4.24055715e+02 4.34150153e+02 4.44682001e+02 4.55673905e+02\n",
      " 4.67149823e+02 4.79135501e+02 4.91657546e+02 5.04744409e+02\n",
      " 5.18427244e+02 5.32738415e+02 5.47711935e+02 5.63384959e+02\n",
      " 5.79796013e+02 5.96986789e+02 6.15000762e+02 6.33884394e+02\n",
      " 6.53686351e+02 6.74459448e+02 6.96259161e+02 7.19146414e+02\n",
      " 7.43185103e+02 7.68444244e+02 7.94996235e+02 8.22918527e+02\n",
      " 8.52294108e+02 8.83212838e+02 9.15769930e+02 9.50069094e+02\n",
      " 9.86218045e+02 1.02433304e+03 1.06453966e+03 1.10697170e+03\n",
      " 1.15177309e+03 1.19909808e+03 1.24911294e+03 1.30199623e+03\n",
      " 1.35794209e+03 1.41715472e+03 1.47985596e+03 1.54628569e+03\n",
      " 1.61670011e+03 1.69137688e+03 1.77061657e+03 1.85474212e+03\n",
      " 1.94410238e+03 2.03907478e+03 2.14006501e+03 2.24751457e+03\n",
      " 2.36190220e+03 2.48374284e+03 2.61359837e+03 2.75207287e+03\n",
      " 2.89982799e+03 3.05757775e+03 3.22609961e+03 3.40623612e+03\n",
      " 3.59890861e+03 3.80511508e+03 4.02594616e+03 4.26258593e+03\n",
      " 4.51633047e+03 4.78859276e+03 5.08091298e+03 5.39497941e+03\n",
      " 5.73263381e+03 6.09589277e+03 6.48696835e+03 6.90827949e+03\n",
      " 7.36248047e+03 7.85248568e+03 8.38149647e+03 8.95302911e+03\n",
      " 9.57095343e+03 1.02395290e+04 1.09634501e+04 1.17478889e+04\n",
      " 1.25985544e+04 1.35217513e+04 1.45244472e+04 1.56143496e+04\n",
      " 1.67999906e+04 1.80908216e+04 1.94973243e+04 2.10311320e+04\n",
      " 2.27051670e+04 2.45337964e+04 2.65330070e+04 2.87206051e+04\n",
      " 3.11164409e+04 3.37426645e+04 3.66240139e+04 3.97881447e+04\n",
      " 4.32660019e+04 4.70922452e+04 5.13057337e+04 5.59500762e+04\n",
      " 6.10742611e+04 6.67333744e+04 7.29894216e+04 7.99122683e+04\n",
      " 8.75807182e+04 9.60837491e+04 1.05521933e+05 1.16009067e+05\n",
      " 1.27674053e+05 1.40663061e+05 1.55142026e+05 1.71299528e+05\n",
      " 1.89350125e+05 2.09538213e+05 2.32142487e+05 2.57481135e+05]\n"
     ]
    }
   ],
   "source": [
    "a_ss = partial_eq.internals['hh_ha']['a']\n",
    "print(partial_eq.internals['hh_ha']['a'])\n",
    "print(partial_eq.internals['hh_ha']['a'].shape) # assets \n",
    "#shape (66,200)\n",
    "print(partial_eq.internals['hh_ha']['a'].sum(axis=0))"
   ]
  },
  {
   "cell_type": "code",
   "execution_count": 122,
   "metadata": {},
   "outputs": [
    {
     "name": "stdout",
     "output_type": "stream",
     "text": [
      "[0.00000000e+00 1.13297108e-02 2.29176074e-02 3.47710865e-02\n",
      " 4.68978000e-02 5.93056658e-02 7.20028783e-02 8.49979195e-02\n",
      " 9.82995709e-02 1.11916926e-01 1.25859401e-01 1.40136754e-01\n",
      " 1.54759090e-01 1.69736884e-01 1.85080993e-01 2.00802670e-01\n",
      " 2.16913585e-01 2.33425840e-01 2.50351988e-01 2.67705054e-01\n",
      " 2.85498554e-01 3.03746514e-01 3.22463497e-01 3.41664626e-01\n",
      " 3.61365605e-01 3.81582747e-01 4.02333003e-01 4.23633987e-01\n",
      " 4.45504011e-01 4.67962111e-01 4.91028084e-01 5.14722522e-01\n",
      " 5.39066847e-01 5.64083354e-01 5.89795247e-01 6.16226682e-01\n",
      " 6.43402817e-01 6.71349853e-01 7.00095089e-01 7.29666972e-01\n",
      " 7.60095152e-01 7.91410541e-01 8.23645379e-01 8.56833290e-01\n",
      " 8.91009359e-01 9.26210199e-01 9.62474032e-01 9.99840765e-01\n",
      " 1.03835208e+00 1.07805151e+00 1.11898457e+00 1.16119881e+00\n",
      " 1.20474395e+00 1.24967200e+00 1.29603734e+00 1.34389691e+00\n",
      " 1.39331026e+00 1.44433978e+00 1.49705078e+00 1.55151168e+00\n",
      " 1.60779419e+00 1.66597344e+00 1.72612823e+00 1.78834120e+00\n",
      " 1.85269902e+00 1.91929268e+00 1.98821765e+00 2.05957421e+00\n",
      " 2.13346768e+00 2.21000871e+00 2.28931360e+00 2.37150463e+00\n",
      " 2.45671039e+00 2.54506615e+00 2.63671429e+00 2.73180468e+00\n",
      " 2.83049513e+00 2.93295192e+00 3.03935022e+00 3.14987473e+00\n",
      " 3.26472018e+00 3.38409202e+00 3.50820701e+00 3.63729400e+00\n",
      " 3.77159462e+00 3.91136416e+00 4.05687238e+00 4.20840445e+00\n",
      " 4.36626197e+00 4.53076400e+00 4.70224822e+00 4.88107215e+00\n",
      " 5.06761447e+00 5.26227641e+00 5.46548328e+00 5.67768607e+00\n",
      " 5.89936322e+00 6.13102249e+00 6.37320297e+00 6.62647725e+00\n",
      " 6.89145376e+00 7.16877929e+00 7.45914171e+00 7.76327285e+00\n",
      " 8.08195172e+00 8.41600784e+00 8.76632497e+00 9.13384503e+00\n",
      " 9.51957243e+00 9.92457864e+00 1.03500073e+01 1.07970794e+01\n",
      " 1.12670996e+01 1.17614621e+01 1.22816578e+01 1.28292817e+01\n",
      " 1.34060411e+01 1.40137643e+01 1.46544100e+01 1.53300780e+01\n",
      " 1.60430204e+01 1.67956537e+01 1.75905724e+01 1.84305634e+01\n",
      " 1.93186219e+01 2.02579687e+01 2.12520693e+01 2.23046540e+01\n",
      " 2.34197407e+01 2.46016596e+01 2.58550799e+01 2.71850391e+01\n",
      " 2.85969755e+01 3.00967632e+01 3.16907509e+01 3.33858045e+01\n",
      " 3.51893530e+01 3.71094405e+01 3.91547816e+01 4.13348236e+01\n",
      " 4.36598145e+01 4.61408774e+01 4.87900936e+01 5.16205931e+01\n",
      " 5.46466550e+01 5.78838183e+01 6.13490044e+01 6.50606522e+01\n",
      " 6.90388679e+01 7.33055911e+01 7.78847779e+01 8.28026048e+01\n",
      " 8.80876951e+01 9.37713693e+01 9.98879243e+01 1.06474944e+02\n",
      " 1.13573642e+02 1.21229253e+02 1.29491451e+02 1.38414837e+02\n",
      " 1.48059468e+02 1.58491457e+02 1.69783635e+02 1.82016305e+02\n",
      " 1.95278071e+02 2.09666783e+02 2.25290586e+02 2.42269101e+02\n",
      " 2.60734756e+02 2.80834279e+02 3.02730382e+02 3.26603656e+02\n",
      " 3.52654714e+02 3.81106600e+02 4.12207526e+02 4.46233953e+02\n",
      " 4.83494092e+02 5.24331858e+02 5.69131373e+02 6.18322057e+02\n",
      " 6.72384436e+02 7.31856732e+02 7.97342376e+02 8.69518573e+02\n",
      " 9.49146072e+02 1.03708033e+03 1.13428426e+03 1.24184286e+03\n",
      " 1.36097994e+03 1.49307734e+03 1.63969692e+03 1.80260601e+03\n",
      " 1.98380646e+03 2.18556835e+03 2.41046869e+03 2.66143623e+03\n",
      " 2.94180314e+03 3.25536499e+03 3.60645008e+03 4.00000000e+03]\n",
      "(200,)\n",
      "45801.8304198577\n"
     ]
    }
   ],
   "source": [
    "#pi_pdf_ss = partial_eq.internals['hh_ha']['Pi']\n",
    "print(partial_eq.internals['hh_ha']['a_grid'])\n",
    "print(partial_eq.internals['hh_ha']['a_grid'].shape) # asset grid\n",
    "#shape (200,0)\n",
    "print(partial_eq.internals['hh_ha']['a_grid'].sum(axis=0))"
   ]
  },
  {
   "cell_type": "code",
   "execution_count": 163,
   "metadata": {},
   "outputs": [
    {
     "name": "stdout",
     "output_type": "stream",
     "text": [
      "0.00026325520422375607\n"
     ]
    }
   ],
   "source": [
    "somme_lignes = np.sum(D_ss[32, :]) + np.sum(D_ss[65, :])\n",
    "print(somme_lignes)"
   ]
  },
  {
   "cell_type": "code",
   "execution_count": 173,
   "metadata": {},
   "outputs": [
    {
     "name": "stdout",
     "output_type": "stream",
     "text": [
      "[[6.90614343e-04 2.11918146e-05 1.04376871e-05 ... 1.29139386e-14\n",
      "  2.73627745e-15 5.14121296e-16]\n",
      " [2.25732901e-03 8.76583808e-05 3.44103733e-05 ... 2.65247753e-14\n",
      "  5.56861444e-15 9.98165317e-16]\n",
      " [2.12864589e-04 1.77422946e-05 1.10576690e-05 ... 1.95989582e-12\n",
      "  4.18568928e-13 9.13181172e-14]\n",
      " ...\n",
      " [1.17838267e-05 4.65868685e-07 3.12108207e-07 ... 5.34555920e-14\n",
      "  1.13603051e-14 2.39436182e-15]\n",
      " [4.40154697e-06 3.15359652e-07 1.99048172e-07 ... 6.47488415e-14\n",
      "  1.38286123e-14 3.10310236e-15]\n",
      " [2.00851741e-06 1.87684977e-07 1.13536119e-07 ... 6.79051970e-14\n",
      "  1.46528998e-14 3.53690087e-15]]\n",
      "[[4.06728563e-06 2.69385749e-07 2.08422510e-07 ... 1.01881845e-12\n",
      "  2.19318307e-13 4.99781621e-14]\n",
      " [1.24132067e-05 6.17235288e-07 4.30635644e-07 ... 2.09769121e-12\n",
      "  4.50974431e-13 9.70165607e-14]\n",
      " [2.41568913e-06 6.00027715e-07 9.47459338e-07 ... 1.60250070e-10\n",
      "  3.34870045e-11 9.13705349e-12]\n",
      " ...\n",
      " [1.51080090e-07 2.75704089e-08 2.45407104e-08 ... 4.35236810e-12\n",
      "  9.16058401e-13 2.38935261e-13]\n",
      " [6.09019694e-08 1.10581829e-08 1.63671862e-08 ... 5.49968876e-12\n",
      "  1.15373402e-12 3.20993159e-13]\n",
      " [2.13134554e-08 8.65284546e-09 1.07588810e-08 ... 6.31943749e-12\n",
      "  1.34184049e-12 3.94037190e-13]]\n",
      "Somme des lignes blo : 0.028804935306714432\n",
      "Somme des lignes bhi : 0.02771357550484989\n",
      "Somme totale des lignes : 0.056518510811564324\n"
     ]
    }
   ],
   "source": [
    "somme_lignes_blo = np.sum(D_ss[24:33, :])  # Somme des lignes 32 et 33 (exclu)\n",
    "somme_lignes_bhi = np.sum(D_ss[57:66, :])  # Somme des lignes 66 et 67 (exclu)\n",
    "print(D_ss[24:33, :])\n",
    "print(D_ss[57:66, :])\n",
    "# Somme totale\n",
    "somme_totale = somme_lignes_blo + somme_lignes_bhi\n",
    "\n",
    "# Affichage des résultats\n",
    "print(\"Somme des lignes blo :\", somme_lignes_blo)\n",
    "print(\"Somme des lignes bhi :\", somme_lignes_bhi)\n",
    "print(\"Somme totale des lignes :\", somme_totale)"
   ]
  },
  {
   "cell_type": "code",
   "execution_count": 132,
   "metadata": {},
   "outputs": [
    {
     "name": "stdout",
     "output_type": "stream",
     "text": [
      "Bloc blo trouvé (33-x) : 32\n",
      "Bloc bhi trouvé (65-x) : 64\n",
      "Somme totale : 9.454214682123046\n"
     ]
    }
   ],
   "source": [
    "import numpy as np\n",
    "\n",
    "def trouver_blocs(D_ss, seuil=0.1):\n",
    "    \"\"\"\n",
    "    Trouve les indices x pour lesquels la somme des blocs (33-x) et (65-x) est inférieure au seuil,\n",
    "    mais où l'extension des blocs dépasse le seuil.\n",
    "\n",
    "    Parameters:\n",
    "        D_ss (ndarray): Matrice de données (66 x 200).\n",
    "        seuil (float): Seuil (par exemple, 10 pour 10%).\n",
    "\n",
    "    Returns:\n",
    "        tuple: (x_blo, x_bhi, somme_totale)\n",
    "    \"\"\"\n",
    "    n_lignes, n_colonnes = D_ss.shape  # Dimensions de la matrice\n",
    "\n",
    "    # Initialisation des indices de départ pour les blocs (33 et 65)\n",
    "    n_blo, n_bhi = 33, 65\n",
    "\n",
    "    # Test progressif avec le même x pour blo et bhi\n",
    "    for x in range(1, n_blo):  # On teste x à partir de 1 jusqu'à 32\n",
    "        # Somme des blocs combinés (33-x) et (65-x)\n",
    "        test_1 = n_blo - x\n",
    "        test_2 = n_bhi - x\n",
    "        somme_lignes_blo = np.sum(D_ss[test_1:n_blo, :])  # Somme des lignes dans blo (33-x)\n",
    "        somme_lignes_bhi = np.sum(D_ss[test_2:n_bhi, :])  # Somme des lignes dans bhi (65-x)\n",
    "        \n",
    "        # Somme totale des deux blocs combinés\n",
    "        somme_totale = somme_lignes_blo + somme_lignes_bhi\n",
    "\n",
    "        # Vérification si la somme totale est inférieure au seuil\n",
    "        if somme_totale < seuil:\n",
    "            # Si la somme totale est inférieure au seuil, vérifier l'extension des blocs\n",
    "            somme_voisine = (\n",
    "                np.sum(D_ss[n_blo - x - 1:n_blo, :]) +  # Étendre blo à (33-x-1)\n",
    "                np.sum(D_ss[n_bhi - x - 1:n_bhi, :])    # Étendre bhi à (65-x-1)\n",
    "            )\n",
    "            # Si l'extension dépasse le seuil\n",
    "            if somme_voisine > seuil:\n",
    "                return n_blo - x, n_bhi - x, somme_totale\n",
    "\n",
    "    # Retourne None si aucune condition n'est remplie\n",
    "    return None, None, None\n",
    "\n",
    "# Exemple d'utilisation\n",
    "#D_ss = np.random.rand(66, 200) * 0.05  # Exemple de matrice avec des valeurs aléatoires\n",
    "x_blo, x_bhi, somme_totale = trouver_blocs(D_ss, seuil=10)\n",
    "\n",
    "# Affichage des résultats\n",
    "print(\"Bloc blo trouvé (33-x) :\", x_blo)\n",
    "print(\"Bloc bhi trouvé (65-x) :\", x_bhi)\n",
    "print(\"Somme totale :\", somme_totale)\n"
   ]
  },
  {
   "cell_type": "code",
   "execution_count": 147,
   "metadata": {},
   "outputs": [
    {
     "name": "stdout",
     "output_type": "stream",
     "text": [
      "9.454214682123046\n",
      "19.501705378759144\n",
      "29.425532486466444\n",
      "39.04279302384987\n",
      "48.99040410831384\n",
      "59.11024219244914\n",
      "69.38733344678722\n",
      "79.82245690345263\n",
      "90.42836072948967\n",
      "100.38621686149929\n",
      "110.22044722034155\n",
      "120.39335127930286\n",
      "130.52835276153613\n",
      "140.28896235087447\n",
      "150.24816604802007\n",
      "159.62059498928892\n",
      "169.5045866552983\n",
      "179.7129817390343\n",
      "189.75746566331156\n",
      "199.2686633816535\n",
      "209.06613125994767\n",
      "219.58094513093488\n",
      "229.91361933505146\n",
      "239.86487812388881\n",
      "249.92439491737642\n",
      "260.2073671087953\n",
      "270.10600803237026\n",
      "279.34232443579486\n",
      "289.4737172618992\n",
      "299.4619409589541\n",
      "308.99212599900335\n",
      "318.69119766515166\n",
      "Bloc blo trouvé (33-x) : None\n",
      "Bloc bhi trouvé (65-x) : None\n",
      "Somme totale juste avant de dépasser le seuil : None\n",
      "Dernière colonne ajoutée avant de dépasser le seuil : None\n"
     ]
    }
   ],
   "source": [
    "import numpy as np\n",
    "\n",
    "def trouver_blocs_extension(D_ss, seuil=0.1):\n",
    "    \"\"\"\n",
    "    Trouve les indices x pour lesquels la somme des blocs (33-x) et (65-x) est inférieure au seuil,\n",
    "    puis affine le résultat en ajoutant progressivement les cellules les plus à droite pour atteindre la somme\n",
    "    la plus proche possible de 10%, sans la dépasser.\n",
    "\n",
    "    Parameters:\n",
    "        D_ss (ndarray): Matrice de données (66 x 200).\n",
    "        seuil (float): Seuil (par exemple, 0.1 pour 10%).\n",
    "\n",
    "    Returns:\n",
    "        tuple: (x_blo, x_bhi, somme_totale_approchee, colonnes_ajoutees)\n",
    "    \"\"\"\n",
    "    n_lignes, n_colonnes = D_ss.shape  # Dimensions de la matrice\n",
    "\n",
    "    # Initialisation des indices de départ pour les blocs (33 et 65)\n",
    "    n_blo, n_bhi = 33, 65\n",
    "    best_x_blo, best_x_bhi = None, None\n",
    "    best_somme_totale = None\n",
    "\n",
    "    # Test progressif avec le même x pour blo et bhi\n",
    "    for x in range(1, n_blo):  # On teste x à partir de 1 jusqu'à 32\n",
    "        # Somme des blocs combinés (33-x) et (65-x)\n",
    "        test_1 = n_blo - x\n",
    "        test_2 = n_bhi - x\n",
    "        somme_lignes_blo = np.sum(D_ss[test_1:n_blo, :])  # Somme des lignes dans blo (33-x)\n",
    "        somme_lignes_bhi = np.sum(D_ss[test_2:n_bhi, :])  # Somme des lignes dans bhi (65-x)\n",
    "        \n",
    "        # Somme totale des deux blocs combinés\n",
    "        somme_totale = somme_lignes_blo + somme_lignes_bhi\n",
    "        print(somme_totale)\n",
    "\n",
    "        # Vérification si la somme totale est inférieure au seuil\n",
    "        if somme_totale < seuil:\n",
    "            test_voisin_1 = n_blo - x - 1\n",
    "            test_voisin_2 = n_bhi - x - 1\n",
    "            # Si la somme totale est inférieure au seuil, vérifier l'extension des blocs\n",
    "            somme_voisine = (    \n",
    "                np.sum(D_ss[test_voisin_1 :n_blo, :]) +  # Étendre blo à (33-x-1)\n",
    "                np.sum(D_ss[test_voisin_2:n_bhi, :])    # Étendre bhi à (65-x-1)\n",
    "            )\n",
    "            print(\"all good\")\n",
    "            # Si l'extension dépasse le seuil\n",
    "            if somme_voisine > seuil:\n",
    "                # Sauvegarder la dernière combinaison valide\n",
    "                best_x_blo, best_x_bhi = test_1, test_2\n",
    "                best_somme_totale = somme_totale\n",
    "                print(\"all good\")\n",
    "\n",
    "    # Affinage du résultat en ajoutant progressivement les cellules à droite (de droite à gauche)\n",
    "    if best_x_blo is not None and best_x_bhi is not None:\n",
    "        somme_cumulee = best_somme_totale\n",
    "        colonnes_ajoutees = []\n",
    "        \n",
    "        for col in range(n_colonnes - 1, -1, -1):  # Parcours des colonnes de droite à gauche\n",
    "            # Ajouter les valeurs des cellules des lignes sélectionnées et de leurs lignes précédentes\n",
    "            somme_cumulee += np.sum(D_ss[best_x_blo:n_blo, col]) + np.sum(D_ss[best_x_bhi:n_bhi, col]) + np.sum(D_ss[best_x_blo - 1:n_blo - 1, col]) + np.sum(D_ss[best_x_bhi - 1:n_bhi - 1, col])\n",
    "\n",
    "            colonnes_ajoutees.append(col)\n",
    "\n",
    "            # Vérification que la somme ne dépasse pas le seuil de 10%\n",
    "            if somme_cumulee > seuil:\n",
    "                # Retourner la somme juste avant de dépasser le seuil\n",
    "                somme_avant_depassement = somme_cumulee - (np.sum(D_ss[best_x_blo:n_blo, colonnes_ajoutees[-1]]) + np.sum(D_ss[best_x_bhi:n_bhi, colonnes_ajoutees[-1]]) + np.sum(D_ss[best_x_blo - 1:n_blo - 1, colonnes_ajoutees[-1]]) + np.sum(D_ss[best_x_bhi - 1:n_bhi - 1, colonnes_ajoutees[-1]]))\n",
    "                return best_x_blo, best_x_bhi, somme_avant_depassement, colonnes_ajoutees\n",
    "\n",
    "    # Retourne None si aucune condition n'est remplie\n",
    "    return None, None, None, None\n",
    "\n",
    "# Exemple d'utilisation\n",
    "#D_ss = np.random.rand(66, 200) * 0.05  # Exemple de matrice avec des valeurs aléatoires\n",
    "x_blo, x_bhi, somme_totale_approchee, colonne_ajoutee = trouver_blocs_extension(D_ss, seuil=0.1)\n",
    "\n",
    "# Affichage des résultats\n",
    "print(\"Bloc blo trouvé (33-x) :\", x_blo)\n",
    "print(\"Bloc bhi trouvé (65-x) :\", x_bhi)\n",
    "print(\"Somme totale juste avant de dépasser le seuil :\", somme_totale_approchee)\n",
    "print(\"Dernière colonne ajoutée avant de dépasser le seuil :\", colonne_ajoutee)\n"
   ]
  }
 ],
 "metadata": {
  "kernelspec": {
   "display_name": "base",
   "language": "python",
   "name": "python3"
  },
  "language_info": {
   "codemirror_mode": {
    "name": "ipython",
    "version": 3
   },
   "file_extension": ".py",
   "mimetype": "text/x-python",
   "name": "python",
   "nbconvert_exporter": "python",
   "pygments_lexer": "ipython3",
   "version": "3.12.4"
  }
 },
 "nbformat": 4,
 "nbformat_minor": 2
}
