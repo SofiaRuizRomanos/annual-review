{
 "cells": [
  {
   "cell_type": "markdown",
   "metadata": {},
   "source": [
    "## Introduction to understanding our code replication"
   ]
  },
  {
   "cell_type": "markdown",
   "metadata": {},
   "source": [
    "The repository is a fork of the [original repository by Auclert](https://github.com/shade-econ/annual-review). It contains the original code files and images (which are in pdf format), our draft files, a copy of the original files for an analysis of the code and our original code which includes the extension and produces all png images in the repository. \n",
    "\n",
    "Please run first clean_code and then this notebook. [`clean_code.ipynb`](clean_code.ipynb) might take a while to compute, at least above ten minutes. \n",
    "\n",
    "### **Task 1: replicating figure 2a and 2b**\n",
    "\n",
    "The lines of code that create the structure of the economy and that create figure 2 in `clean_code.ipynb` are the same as the available code from Auclert et al. This is because the code had significant departures and added levels of complexity than the models we have seen in class (such as the specific transition matrix used or the added beta heterogeneity), and replicating it exactly would have been very complicated. We also focused first on ensuring we could produce the extension (task 2) which took all of the time dedicated to this project.\n",
    "\n",
    "It therefore seemed important to us to show that we analyzed and understood the original code instead of just copying and pasting it. To this end, we highlight the existence of the file [`code_analysis.ipynb`](code_analysis.ipynb), where we analyzed the code provided by the authors (as shown in the many comments and texting filling up on missing information that might have puzzled us originally). \n",
    "\n",
    "### **Task 2: showcasing the evolution of inequalities**\n",
    "\n",
    "The file `clean_code.ipynb` reproduces the code original code and features our main additions. The function `group_c_not_agg` of the household block calculates the cells in which a certain bottom or top percentage of the mass of households is located, and produces disaggregated matrices with the consumption of these cells. The matrices are then automatically aggregated by the toolbox at the steady state and at every period following the shock of figure 2.  \n",
    "\n",
    "This is done for the top and bottom 10% and 50% richest. The richest people are defined as the highest level of earnings, and the highest accumulated assets for a certain level of income. Because of the added patient/impatient level of complexity in this model, we make a decision to calculate the mass percentages such that every desired percentage is filled with half low beta, half high beta households' consumptions.\n",
    "\n",
    "The section `Plots and tests` of the file produces the IRF plots, which plot directly all combinations of ratios. In this notebook below we include all plots in order and minimal interpretation. "
   ]
  },
  {
   "cell_type": "markdown",
   "metadata": {},
   "source": [
    "## Critiques of our work\n",
    "\n",
    "* **Tax the richest**: We did not have time to check how close the richest in tax the richest (in the Auclert et al. code) were in terms of index to our richest (top 10%), or to try to show and analyze the graph of the ratio of the evolution of some bottom consumption group and the richest who receive the tax cut. \n",
    "\n",
    "* We observe unsual results in the dynamics of the consumption of the top 50 and bottom 10 income groups that we do not quite know how to explain. This could be a code error or a display of how complex the heterogeneity of this model is.\n",
    "\n",
    "* Choice of consumption evolution as a measure of inequalities: this value might or might not represent shifts in inequalities, because it simultaneaously captures not only differences in purchasing power (and tehrefoire wealth), which are the inequalities we care about, but behavior related to saving incentives. \n",
    "\n",
    "* Failure to pick the correct inequality meaure instrument: the graphs showing the dynamics in consumption of each of the groups were crucial to understand the ratios, and therefore maybe a better measure of inequalities. Additionally, we should have compared groups of similar size."
   ]
  },
  {
   "cell_type": "markdown",
   "metadata": {},
   "source": [
    "## Extension figures"
   ]
  },
  {
   "cell_type": "markdown",
   "metadata": {},
   "source": [
    "\n",
    "### Figure 3: Baseline HA tax cut IRF\n",
    "3.a) Consumption of different groups following a tax cut in baseline HA"
   ]
  },
  {
   "cell_type": "markdown",
   "metadata": {},
   "source": [
    "![3.a)consumption_evolution_baseline](figures/figure3a_consumption_evolution_baseline.png)"
   ]
  },
  {
   "cell_type": "markdown",
   "metadata": {},
   "source": [
    "- Aggregate consumption increases upon the shock due to the tax cut, then decreases as taxes are gradually increased.  \n",
    "\n",
    "- The top 10% displays a relatively small, positive change in consumption. This could be explained becaue this group has a low mpc and saves most of what is earned. This would explain the higher persistance in consumption in the periods following the shock.\n",
    "\n",
    "- The change in consumption is lower at first for the bottom 50%, but soon increases in the immediate periods following the shock. This must be a bit of a lagged effect of what the authors called the anticipated income from the future boom and the buffer-stock effect. These households could be increasing their consumption because of impatience. This makes sense as this group (or at least a major part of it) has a high marginal propensity to consume. Thus, the additional income received from the deficit-financed tax cut will be spent faster than the richest groups. However, we do not know exactly why the immediate multiplier is lower than that of the top 10.\n",
    "Additionally, the aggregate effect of consumption appears to be mainly driven by the dynamics of this group.\n",
    "\n",
    "- The evolution of the top 50% is less clear. The initial consumption multiplier is high, showing high mpc behavior after the shock, but then it immediately decreases and becomes negative. Finally, consumption recovers some periods later to reach its original level. This could be that the top 50's buffer stock, \"excess savings\" spending behavior only kicks in 5 periods after the shock. But the reason for this is unclear, and the top 50, who is richer than and saves more than the bottom 50, should not decrease their consumption this much in comparison and should exhibit a more persistent decaying consumption to steady state levels.\n",
    "\n"
   ]
  },
  {
   "cell_type": "markdown",
   "metadata": {},
   "source": [
    "3.b) Consumption inequalities (group consumption ratios) following a tax cut in baseline HA"
   ]
  },
  {
   "cell_type": "markdown",
   "metadata": {},
   "source": [
    "![3.b)consumption_ratio_evolution_baseline](figures/figure3b_consumption_ratio_evolution_baseline.png)"
   ]
  },
  {
   "cell_type": "markdown",
   "metadata": {},
   "source": [
    "- The top10/bottom10 ratio is initially high and then decreases in a similar fashion than the evolution of the top 10 does (figure 3.a). This could be explained because of the small weight of the aggregate consumption of the bottom 10.\n",
    "\n",
    "- Considering the top50/bottom50 ratio, the first period it increases, showing that the top 50 has a higher multiplier. As it then goes to 0 for most of the remaining dynamics, we see that the consumption of both groups goes in opposite directions. This does not mean that inequalities are unexistent, but that interestingly enough the bottom 50 consumes more than the top 50. \n",
    "\n",
    "- The top10/bottom50 ratio shows the same magniude and similar dynamics. This is confusing as the aggregate consumption of the top 10 is lower than that of the bottom 50 and it doesnt explain  having the exact same ratio.\n",
    "\n",
    "- The top50/bottom 10 ratio shows, as expected, the dynamics oand magnitde of the top 50, as the magnitude of the consumption of the bottom 10 is much lower. \n",
    "\n",
    "\n",
    "Therefore, this type of inequality representation decision is subject to several limits:\n",
    "\n",
    "- It must be complemented with graphs showing the aggregate consumption of each group. Otherwise, we would have lacked the information about the small scale of consumption of the bottom 10 for example, and our interpretations would have differed\n",
    "\n",
    "- Our definition of the different groups does not take into account the different patience patterns of households, but aggregates them. We cannot disentangle the effects of the different betas, who must be pulling each group in both directions. It would have been useful to also plot the iMPCs of the different groups to disentangle the effects of low-high mpc in top and bottom groups from that of purchasing power.\n",
    "\n",
    "- The definition of 'riches' used here does not consider wealth level as its primary variable, omitting a significant source of inequalities. \n"
   ]
  },
  {
   "cell_type": "markdown",
   "metadata": {},
   "source": [
    "3.c) Subtle (almost non-existent) deviation from the steady state for the bottom 10:\n"
   ]
  },
  {
   "cell_type": "markdown",
   "metadata": {},
   "source": [
    "![consumption_evolution_b10_baseline](figures/figure3c_consumption_evolution_b10_baseline.png)"
   ]
  },
  {
   "cell_type": "markdown",
   "metadata": {},
   "source": [
    "- The evolution of the bottom 10% is surprising. We would have expected it to ne higher than the rest, as these households have the highest MPCs, and thus are supposed to spend all the tax cut they receive. However, figure 3.c shows that while consumption for the bottom 10% actually increases, it does so to a lesser magnitude. This reduced increase in consumption might be because despite their higher MPC, the bottom 10 are so poor that they cannot match the aggregate consumption of the top 10 with lower mpc."
   ]
  },
  {
   "cell_type": "markdown",
   "metadata": {},
   "source": [
    "### Figure 4: Consumption of different groups IRF with a tax to the richest"
   ]
  },
  {
   "cell_type": "markdown",
   "metadata": {},
   "source": [
    "![4)consumption_evolution_tax_richest](figures/figure4_consumption_evolution_tax_richest.png)"
   ]
  },
  {
   "cell_type": "markdown",
   "metadata": {},
   "source": [
    "- The bottom groups' immediate multipliers are small, which makes sense as they are not immediately hit by the shock.\n",
    "\n",
    "- The multipliers of the top groups are higher, and that of the top 50 is higher than that of the top 10. This might be because the top 50 are a larger mass of households and therefore consume more, but also because they have higher relative mpc than the top 10. \n",
    "\n",
    "- Just like in figure 3.a, the immediate decline in consumption of  the top 50 is puzzling and unexplained. So is the fast increase in aggregate consumption of the bottom 50, who are not hit by the tax and who should not benefit that immediuately from the effect of a tax cut on the rich on the economy. \n",
    " "
   ]
  },
  {
   "cell_type": "markdown",
   "metadata": {},
   "source": [
    "### Figure 5: Consumption of different groups IRF with a taylor rule"
   ]
  },
  {
   "cell_type": "markdown",
   "metadata": {},
   "source": [
    "![5)consumption_evolution_tax_richest](figures/figure5_consumption_evolution_taylor_rule.png)"
   ]
  },
  {
   "cell_type": "markdown",
   "metadata": {},
   "source": [
    "The dynamics and magnitudes here are very similar to the baseline (figure 3.a), but the magnitudes are slightly smaller and the convergence of all groups closer to the steady state occurs approximately 10 quarters earlier. This makes sense as the taylor rule slows down and diminishes the effects of a tax cut on consumption . "
   ]
  },
  {
   "cell_type": "markdown",
   "metadata": {},
   "source": [
    "### Figure 6: Consumption of different groups IRF (self financed deficit)"
   ]
  },
  {
   "cell_type": "markdown",
   "metadata": {},
   "source": [
    "![6)consumption_evolution_tax_richest](figures/figure6_consumption_evolution_ALW.png)"
   ]
  },
  {
   "cell_type": "markdown",
   "metadata": {},
   "source": [
    "- The multipliers of the top groups increase as following the spending down effect knwoing that no future taxes are coming. However, interestingly, the multipliers of the bottom two groups are not affected by this specification.\n",
    "\n",
    "- The decrease in consumption of the top 50 is still present.\n",
    "\n",
    "- The general persistence of consumption is higher and does not rich the steady state in the first 41 periods, as expected by the lack of rising taxes. Consumption persistence therefore drives the output persistance observed in the paper's figure 2.b."
   ]
  },
  {
   "cell_type": "markdown",
   "metadata": {},
   "source": [
    "### Figure 7: evolution of top10/bottom10 in different scenarios\n",
    "\n",
    "7.a) First 41 quarters"
   ]
  },
  {
   "cell_type": "markdown",
   "metadata": {},
   "source": [
    "![7.a)ratiotb10_all_scenarios](figures/figure7a_ratiotb10_all_scenarios.png)"
   ]
  },
  {
   "cell_type": "markdown",
   "metadata": {},
   "source": [
    "- When comparing the top and bottom 10, we first observe dramatic changes in the scenario with the Taylor rule after 25 periods. We do not know what causes this and figure 5 does not seem to explain this (especially given that in all scenarios the magnitude of the bottom 10 is persistently small). "
   ]
  },
  {
   "cell_type": "markdown",
   "metadata": {},
   "source": [
    "7.b) First 25 quarters"
   ]
  },
  {
   "cell_type": "markdown",
   "metadata": {},
   "source": [
    "![7.a)zoom_ratiotb10_all_scenarios](figures/figure7b_zoom_ratiotb10_all_scenarios.png)"
   ]
  },
  {
   "cell_type": "markdown",
   "metadata": {},
   "source": [
    "- Zooming into the first 25 quarters allows us to observe ratios that are of similar magnitude and to see the detail needed to analyze the dynamics. In all scenarios, the multiplier is positive: the consumption of the top 10 immediately after the shock is bigger than that of the bottom 10. \n",
    "\n",
    "- As expected, the tax on the richest scenario is the one that increases inequalities between the top 10 and the bottom 10 the most upon the hit of the shock, an these inequalities are the most persistent over time.\n",
    "\n",
    "- For most specifications, this ratio is equal in shape and magnitude to the consumption of the top 10 analysed in the previous graphs. However, the fall in the taylor rule ratio is unexplained since the bottom 10's aggregated consumption is still and constant and that of the top 10 does not exhibit this shape. \n",
    "\n",
    "- This leads us to believe there might have been a problem in the code that led to these results. \n"
   ]
  },
  {
   "cell_type": "markdown",
   "metadata": {},
   "source": [
    "### Figure 8: evolution of top10/bottom50 in different scenarios"
   ]
  },
  {
   "cell_type": "markdown",
   "metadata": {},
   "source": [
    "![8)ratiot10b50_all_scenarios](figures/figure8_ratiot10b50_all_scenarios.png)"
   ]
  },
  {
   "cell_type": "markdown",
   "metadata": {},
   "source": [
    "- Immediately after the shock, inequalities in consumption in favour of the top 10 compared to the bottom 50 increase but to a dramatically lesser magnitude than when comparing to the bottom 10 (see previous graph). This is understandable seein how low the magnitude of consumption shift of the bottom 10 was. It additionally might not make sense to compare the aggregate consumption of the bottom 50 to that of the bottom 10 because of the size differences in groups, and a comparison of similar sized groups in different parts of the earnings distribution would have made more sense. We therefore will focus more on the dynamics of the inequalities in this graph than on their size.\n",
    "\n",
    "- The inequalities are high upon impact but are reduced very few periods after the shock. Indeed, this is because in all scearios the multiplier of the top 10 is higher but the top 50 quickly increases their consumption shortly thereafter, surpassing the top 10.  We do not know how to explain this, since it would mean that the consumption of the bottom 50 does increase proportional to that of the top 10 (as following the mpc theory) but not immediately after the shock. \n",
    "\n",
    "- We also observe here big shifts in inequality dynamics around the 20 quarter mark for both the baseline and taylor rule scenarios. We do not exactly know to what is owed the unexpected v-shape. \n",
    "\n",
    "- As taxes increase, the inequalities of both groups in most scenarios gradually come back to their original, steady state level. However, they are reduced on the tax on the richest scenario. This might be because the top 10 is now paying taxes and lessens their consumption while the bottom 50 consume more because of the positive hit to the economy created by the policy. "
   ]
  },
  {
   "cell_type": "markdown",
   "metadata": {},
   "source": [
    "### Figure 9: evolution of top50/bottom10 in different scenarios\n",
    "\n",
    "9.a) First 41 quarters"
   ]
  },
  {
   "cell_type": "markdown",
   "metadata": {},
   "source": [
    "![9.a)ratiot50b10_all_scenarios](figures/figure9a_ratiot50b10_all_scenarios.png)"
   ]
  },
  {
   "cell_type": "markdown",
   "metadata": {},
   "source": [
    "- Here too, we observe an unexpected size shift in the dynamics of the Taylor Rule's ratio, as in figure 7.a. Since figure 77,a presents the top 10/bottom 10 ratio, it must have something to do with the bottom 10 group, although we do not quite know what or why. "
   ]
  },
  {
   "cell_type": "markdown",
   "metadata": {},
   "source": [
    "7.b) First 25 quarters"
   ]
  },
  {
   "cell_type": "markdown",
   "metadata": {},
   "source": [
    "![9.b)zoom_ratiot50b10_all_scenarios](figures/figure9b_zoom_ratiot50b10_all_scenarios.png)"
   ]
  },
  {
   "cell_type": "markdown",
   "metadata": {},
   "source": [
    "- We are hesitant to comment these graphs (and figure 10 as well) due to the unexpected consumption dynamics of the top 50 and bottom 10 in all graphs. \n",
    "\n",
    "- The downwards aggregate consumption of the top 50 for the first 5 quarters present in all scenarios dominates the dynamics of this ratio, due to the low magnitude and lack of dynamics of the bottom 10's consumption.\n",
    "\n",
    "- If we were to compare the inequalities between these two groups of all the scenarios, we would say that inequalities decrease faster in the Taylor rule scenario but they increase and become the highest 25 periods in. The increase (and lag) may be due to higher interest rates following the deficit-financed tax cuts, which may affect richer households more than poorer ones.\n",
    "\n",
    "- In general, no matter the dynamics of inequalities at the beginning periods, all functions converge to at least the same consumption inequalities than before the shock, if not to higher inequalities (baseline and Taylor rule)."
   ]
  },
  {
   "cell_type": "markdown",
   "metadata": {},
   "source": [
    "### Figure 10: evolution of top50/bottom50 in different scenarios"
   ]
  },
  {
   "cell_type": "markdown",
   "metadata": {},
   "source": [
    "![19)ratiotb50_all_scenarios](figures/figure10_ratiotb50_all_scenarios.png)"
   ]
  },
  {
   "cell_type": "markdown",
   "metadata": {},
   "source": [
    "- For the top50/bottom50 ratio, inequalities are high immediately after the shock because of the hihgher multiplier of the top 50. However, as we sa, the dynamics of the two groups go in opposite directions immediately after, leading to a 0 ratio for most of the periods following in all scenarios.\n",
    "\n",
    "- Additionally, we find the dynamics of the baseline and taylor rule scenarios unexpected and we do not wish to compare the respective effect of inequalities of all scenarios."
   ]
  }
 ],
 "metadata": {
  "kernelspec": {
   "display_name": "base",
   "language": "python",
   "name": "python3"
  },
  "language_info": {
   "codemirror_mode": {
    "name": "ipython",
    "version": 3
   },
   "file_extension": ".py",
   "mimetype": "text/x-python",
   "name": "python",
   "nbconvert_exporter": "python",
   "pygments_lexer": "ipython3",
   "version": "3.12.4"
  }
 },
 "nbformat": 4,
 "nbformat_minor": 2
}
