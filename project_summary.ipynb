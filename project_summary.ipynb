{
 "cells": [
  {
   "cell_type": "markdown",
   "metadata": {},
   "source": [
    "## Introduction to understanding our code replication"
   ]
  },
  {
   "cell_type": "markdown",
   "metadata": {},
   "source": [
    "The repository is a fork of the [original repository by Auclert](https://github.com/shade-econ/annual-review). It contains the original code files and images (which are in pdf format), our draft files, a copy of the original files for an analysis of the code and our original code which includes the extension and produces all png images in the repository. \n",
    "\n",
    "Please run first clean_code and then this notebook. [`clean_code.ipynb`](clean_code.ipynb) might take a while to compute, at least above ten minutes. \n",
    "\n",
    "### **Task 1: replicating figure 2a and 2b**\n",
    "\n",
    "The lines of code that create the structure of the economy and that create figure 2 in `clean_code.ipynb` are the same as the available code from Auclert et al. This is because the code had significant departures and added levels of complexity than the models we have seen in class (such as the specific transition matrix used or the added beta heterogeneity), and replicating it exactly would have been very complicated. We also focused first on ensuring we could produce the extension (task 2) which took all of the time dedicated to this project.\n",
    "\n",
    "It therefore seemed important to us to show that we analyzed and understood the original code instead of just copying and pasting it. To this end, we highlight the existence of the file [`code_analysis.ipynb`](code_analysis.ipynb), where we analyzed the code provided by the authors (as shown in the many comments and texting filling up on missing information that might have puzzled us originally). \n",
    "\n",
    "### **Task 2: showcasing the evolution of inequalities**\n",
    "\n",
    "The file `clean_code.ipynb` reproduces the code original code and features our main additions. The function `group_c_not_agg` of the household block calculates the cells in which a certain bottom or top percentage of the mass of households is located, and produces disaggregated matrices with the consumption of these cells. The matrices are then automatically aggregated by the toolbox at the steady state and at every period following the shock of figure 2.  \n",
    "\n",
    "This is done for the top and bottom 10% and 50% richest. The richest people are defined as the highest level of earnings, and the highest accumulated assets for a certain level of income. Because of the added patient/impatient level of complexity in this model, we make a decision to calculate the mass percentages such that every desired percentage is filled with half low beta, half high beta households' consumptions.\n",
    "\n",
    "The section `Plots and tests` of the file produces the IRF plots, which plot directly all combinations of ratios. In this notebook below we include all plots in order and minimal interpretation. "
   ]
  },
  {
   "cell_type": "markdown",
   "metadata": {},
   "source": [
    "## Critique of our work\n",
    "\n",
    "* **Tax the richest**: We did not have time to check how close the richest in tax the richest (in the Auclert et al. code) were in terms of index to our richest (top 10%), or to try to show and analyze the graph of the ratio of the evolution of some bottom consumption group and the richest who receive the tax cut. "
   ]
  },
  {
   "cell_type": "markdown",
   "metadata": {},
   "source": [
    "## Extension figures"
   ]
  },
  {
   "cell_type": "markdown",
   "metadata": {},
   "source": [
    "\n",
    "### Figure 3: Baseline HA tax cut IRF\n",
    "3.a) Consumption of different groups following a tax cut in baseline HA"
   ]
  },
  {
   "cell_type": "markdown",
   "metadata": {},
   "source": [
    "![3.a)consumption_evolution_baseline](figures/figure3a_consumption_evolution_baseline.png)"
   ]
  },
  {
   "cell_type": "markdown",
   "metadata": {},
   "source": [
    "- The change in consumption (from the steady-state) is higher for the bottom 50%. It makes sense as this group (or at least a major part of it) has a high marginal propensity to consume (MPC). Thus, the additional income received from the deficit-financed tax cut will be spent faster than the richest groups, explaining the positive and significant change in output. \n",
    "\n",
    "- The aggregate effect of consumption appears to be mainly driven by the dynamics of this group.\n",
    "\n",
    "- The top 10% displays a relatively small, positive change in consumption, then the consumption slowly go back to its steady state value. It is line with Auclert et al. (2024), richer people have lower MPCs and react less to a deficit-financed tax cut. \n",
    "\n",
    "- The evolution of the top 50% is less clear. It looks like agents tend to decrease their consumption after the shock, but it recovers some periods later. This may be due to the \"excess savings\" phenomenon: people have a buffer-stock behavior, they do not increase wealth indefinitely, once it passes a threshold, people spend down their excess savings. Thus, people could first save (and don't consume) and after some time, they would spend down the excess savings. However, this is just and assumption as we are looking at the top 50% in terms of level of income, and not in terms of wealth. \n",
    "\n",
    "- The evolution of the bottom 10% is surprising. We would have expected it to go up, as these households have the lowest MPCs, and thus are supposed to spend all the tax cut they receive. However, we may be biased by the scale of the graph, relevant for some evolutions, but maybe not to others. Figure 3.c shows that consumption for the bottom 10% actually increases, if we consider a smaller scale. This reduced increase in consumption might be because despite their higher MPC, the bottom 10 are so poor that they cannot match the aggregate consumption of the top 10 with lower mpc.\n"
   ]
  },
  {
   "cell_type": "markdown",
   "metadata": {},
   "source": [
    "3.b) Consumption inequalities (group consumption ratios) following a tax cut in baseline HA"
   ]
  },
  {
   "cell_type": "markdown",
   "metadata": {},
   "source": [
    "![3.b)consumption_ratio_evolution_baseline](figures/figure3b_consumption_ratio_evolution_baseline.png)"
   ]
  },
  {
   "cell_type": "markdown",
   "metadata": {},
   "source": [
    "The top10/bottom10 ratio is initially high and then decreases. It can be interepreted as a reduction in inequalities since the change in consumption of the top 10% increases more slowly than the consumption of the bottom 10%.\n",
    "\n",
    "Considering the top50/bottom50 ratio, it first decreases before increasing periods later. First the inequalities decrease, as the bottom 50% increase their consumption after the tax cut, then the inequalities increase, suggesting that the top 50% consume even more period laters. \n",
    "\n",
    "For the10/bottom50 or the top50/bottom50 the inequalties seem roughly unchanged. \n",
    "\n",
    "However, these interpretations are subject to several limits:\n",
    "\n",
    "- Our definition of the different groups does not take into account the different patience patterns of households. We cannot disentangle the effects of the different betas, who must be pulling each group in both directions.\n",
    "\n",
    "- The definition does not consider wealth levels as its primary variable, omitting a significant source of inequalities. \n",
    "\n",
    "- It would have been useful to also plot the iMPCs of the different groups to disentangle the effects of low-high mpc in top and bottom groups from that of purchasng power. \n"
   ]
  },
  {
   "cell_type": "markdown",
   "metadata": {},
   "source": [
    "3.c) Subtle (almost non-existent) deviation from the steady state for the bottom 10:\n"
   ]
  },
  {
   "cell_type": "markdown",
   "metadata": {},
   "source": [
    "![consumption_evolution_b10_baseline](figures/figure3c_consumption_evolution_b10_baseline.png)"
   ]
  },
  {
   "cell_type": "markdown",
   "metadata": {},
   "source": [
    "### Figure 4: Consumption of different groups IRF with a tax to the richest"
   ]
  },
  {
   "cell_type": "markdown",
   "metadata": {},
   "source": [
    "![4)consumption_evolution_tax_richest](figures/figure4_consumption_evolution_tax_richest.png)"
   ]
  },
  {
   "cell_type": "markdown",
   "metadata": {},
   "source": [
    "Considering the tax to the richest only, the magnitude of the change in consumption is smaller for aggregate consumption. This is line with the paper: \n",
    "\n",
    "The change in consumption for the bottom 50% is particulary reduced, while the change in consumption for the top 50% becomes positive. \n",
    " "
   ]
  },
  {
   "cell_type": "markdown",
   "metadata": {},
   "source": [
    "### Figure 5: Consumption of different groups IRF with a taylor rule"
   ]
  },
  {
   "cell_type": "markdown",
   "metadata": {},
   "source": [
    "![5)consumption_evolution_tax_richest](figures/figure5_consumption_evolution_taylor_rule.png)"
   ]
  },
  {
   "cell_type": "markdown",
   "metadata": {},
   "source": [
    "Very similar to the baseline (figure 4a). Tthe same dynamics are in place and the magnitude of the reactions does not change. "
   ]
  },
  {
   "cell_type": "markdown",
   "metadata": {},
   "source": [
    "### Figure 6: Consumption of different groups IRF (self financed deficit)"
   ]
  },
  {
   "cell_type": "markdown",
   "metadata": {},
   "source": [
    "![6)consumption_evolution_tax_richest](figures/figure6_consumption_evolution_ALW.png)"
   ]
  },
  {
   "cell_type": "markdown",
   "metadata": {},
   "source": [
    "### Figure 7: evolution of top10/bottom10 in different scenarios\n",
    "\n",
    "7.a) First 41 quarters"
   ]
  },
  {
   "cell_type": "markdown",
   "metadata": {},
   "source": [
    "![7.a)ratiotb10_all_scenarios](figures/figure7a_ratiotb10_all_scenarios.png)"
   ]
  },
  {
   "cell_type": "markdown",
   "metadata": {},
   "source": [
    "- When comparing the top and bottom 10, we first observe dramatic changes in the scenario with the Taylor rule after 25 periods. We do not know what causes this and figure 5 does not seem to explain this. "
   ]
  },
  {
   "cell_type": "markdown",
   "metadata": {},
   "source": [
    "7.b) First 25 quarters"
   ]
  },
  {
   "cell_type": "markdown",
   "metadata": {},
   "source": [
    "![7.a)zoom_ratiotb10_all_scenarios](figures/figure7b_zoom_ratiotb10_all_scenarios.png)"
   ]
  },
  {
   "cell_type": "markdown",
   "metadata": {},
   "source": [
    "- Zooming into the first 25 quarters allows us to observe ratios that are of similar magnitude and to see the detail needed to analyze the dynamics. In all scenarios, the multiplier is positive: the consumption of the top 10 immediately the shock is bigger than that of the bottom 10. \n",
    "\n",
    "- The tax on the richest scenario produces the biggest shift, which seems logical given that only the rich which are not in the bottom 10 have incentives to alter the consumption when the shock hits.\n",
    "\n",
    "- the self financing scenario produces the smallest difference in the consumption of these two groups, even when compared to the baseline. This might be due to the fact that the prospect of no future taxes allows lower income households who have higher mpcs to care about saving even less, and they consume more than in other scenarios. \n",
    "\n",
    "- We can therefore propose that at first the self sustaining scenario diminises inequalities. However, the taylor rule scenario is the one whose dynamics reduce inequalities in consumption the most."
   ]
  },
  {
   "cell_type": "markdown",
   "metadata": {},
   "source": [
    "### Figure 8: evolution of top10/bottom50 in different scenarios"
   ]
  },
  {
   "cell_type": "markdown",
   "metadata": {},
   "source": [
    "![8)ratiot10b50_all_scenarios](figures/figure8_ratiot10b50_all_scenarios.png)"
   ]
  },
  {
   "cell_type": "markdown",
   "metadata": {},
   "source": [
    "- Immediately after the shock, inequalities in consumption in favour of the top 10 compare to the bottom 50 increase but to a dramatically lesser magnitude than when comparing to the bottom 10 (see previous graph). However, since the fact that we are comparing the aggregated consumption of 50% of the population instead of that of 10% could very well explain a smaller shift in aggregate consumption inequalities.\n",
    "\n",
    "- The inequalities are reduced very few periods after the shock. We do not know how to explain this, since it would mean that the consumption of the bottom 50 does increase proportional to that of the top 10 (as following the mpc theory) but not immediately after the shock. \n",
    "\n",
    "- We also observe here big shifts in inequality dynamics around the 20 quarter mark for both the baseline and taylor rule scenarios.\n",
    "\n",
    "- As taxes increase, the inequalities of both groups in most scenarios gradually come back to their original, steady state level. However, they are reduced on the tax on the richest scenario. This might be because the top 10 is now paying taxes and that the bottom 50 consume more because of the positive hit to the economy created by the policy. "
   ]
  },
  {
   "cell_type": "markdown",
   "metadata": {},
   "source": [
    "### Figure 9: evolution of top50/bottom10 in different scenarios\n",
    "\n",
    "9.a) First 41 quarters"
   ]
  },
  {
   "cell_type": "markdown",
   "metadata": {},
   "source": [
    "![9.a)ratiot50b10_all_scenarios](figures/figure9a_ratiot50b10_all_scenarios.png)"
   ]
  },
  {
   "cell_type": "markdown",
   "metadata": {},
   "source": [
    "7.b) First 25 quarters"
   ]
  },
  {
   "cell_type": "markdown",
   "metadata": {},
   "source": [
    "![9.b)zoom_ratiot50b10_all_scenarios](figures/figure9b_zoom_ratiot50b10_all_scenarios.png)"
   ]
  },
  {
   "cell_type": "markdown",
   "metadata": {},
   "source": [
    "### Figure 10: evolution of top50/bottom50 in different scenarios"
   ]
  },
  {
   "cell_type": "markdown",
   "metadata": {},
   "source": [
    "![19)ratiotb50_all_scenarios](figures/figure10_ratiotb50_all_scenarios.png)"
   ]
  }
 ],
 "metadata": {
  "kernelspec": {
   "display_name": "base",
   "language": "python",
   "name": "python3"
  },
  "language_info": {
   "codemirror_mode": {
    "name": "ipython",
    "version": 3
   },
   "file_extension": ".py",
   "mimetype": "text/x-python",
   "name": "python",
   "nbconvert_exporter": "python",
   "pygments_lexer": "ipython3",
   "version": "3.12.4"
  }
 },
 "nbformat": 4,
 "nbformat_minor": 2
}
