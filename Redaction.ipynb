{
 "cells": [
  {
   "cell_type": "markdown",
   "metadata": {},
   "source": [
    "Because the code was already available and no big departures were needed to replicate figure 2, and because it would have been too hard to create a sequence space jacobian code form zero, we mainly used the code already available. It therefore seemed important to us to show that we analyzed and understood the code instead of just copying and pasting it. To this end, we will show in this report any deviations from our code to the original (most often scrapping sections not needed to replicate figure 2), and we highlight the existence of the file `code_analysis.ipynb`, where we analyzed the code provided by the authors. "
   ]
  }
 ],
 "metadata": {
  "kernelspec": {
   "display_name": "Auclert2024Code",
   "language": "python",
   "name": "python3"
  },
  "language_info": {
   "name": "python",
   "version": "3.12.2"
  }
 },
 "nbformat": 4,
 "nbformat_minor": 2
}
