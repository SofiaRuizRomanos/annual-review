{
 "cells": [
  {
   "cell_type": "markdown",
   "metadata": {},
   "source": [
    "# Main notebook for \"Fiscal and Monetary Policy with Heterogeneous Agents\"\n",
    "This notebook reads in the HA calibration in `hh_params.json` produced by `Annual Review hh calibration.ipynb`, and produces the main results of the paper, including Figures 2 and 3. It uses the household blocks (for the HA, TA, and RA models) specified in the `household.py` module, included in the same repository.\n",
    "\n",
    "Start with preliminary imports:"
   ]
  },
  {
   "cell_type": "code",
   "execution_count": 1,
   "metadata": {
    "ExecuteTime": {
     "end_time": "2024-09-05T19:29:48.342606Z",
     "start_time": "2024-09-05T19:29:47.476695Z"
    },
    "pycharm": {
     "name": "#%%\n"
    }
   },
   "outputs": [],
   "source": [
    "import numpy as np\n",
    "import matplotlib.pyplot as plt\n",
    "import scipy\n",
    "import json\n",
    "\n",
    "import sequence_jacobian as sj # sequence-space Jacobian toolkit\n",
    "\n",
    "from household import hh_ha, hh_ta, hh_ra"
   ]
  },
  {
   "cell_type": "markdown",
   "metadata": {
    "pycharm": {
     "name": "#%% md\n"
    }
   },
   "source": [
    "Uncomment the second line below if you want plots with exactly the same style as in the paper (note that this may take longer to render or have compatibility issues):"
   ]
  },
  {
   "cell_type": "code",
   "execution_count": 2,
   "metadata": {
    "ExecuteTime": {
     "end_time": "2024-09-05T19:29:48.408368Z",
     "start_time": "2024-09-05T19:29:48.361351Z"
    },
    "pycharm": {
     "name": "#%%\n"
    }
   },
   "outputs": [],
   "source": [
    "plt.rcParams.update({'font.size': 10, 'font.family': 'serif', 'figure.figsize': (4, 3)})\n",
    "# plt.rcParams.update({'text.usetex': True, 'font.serif': 'Palatino'})"
   ]
  },
  {
   "cell_type": "markdown",
   "metadata": {
    "pycharm": {
     "name": "#%% md\n"
    }
   },
   "source": [
    "# 1. Blocks for general equilibrium economy\n",
    "Household blocks are specified in `household.py`. We now define blocks for the rest of the economy."
   ]
  },
  {
   "cell_type": "markdown",
   "metadata": {},
   "source": [
    "#### Production"
   ]
  },
  {
   "cell_type": "code",
   "execution_count": 3,
   "metadata": {
    "ExecuteTime": {
     "end_time": "2024-09-05T19:29:48.458831Z",
     "start_time": "2024-09-05T19:29:48.391266Z"
    },
    "pycharm": {
     "name": "#%%\n"
    }
   },
   "outputs": [],
   "source": [
    "@sj.simple\n",
    "def production(Y, mu):\n",
    "    \"\"\"Split aggregate income into pre-tax wage and dividends income\"\"\"\n",
    "    N = Y               # production technology (to first order, i.e. ignoring any Calvo or Rotemberg distortion)\n",
    "    wN = Y / mu\n",
    "    div = Y - wN\n",
    "    return N, wN, div"
   ]
  },
  {
   "cell_type": "markdown",
   "metadata": {},
   "source": [
    "#### Government bond structure\n",
    "To accommodate all scenarios we're considering in the paper, we'll need to define several ways to calculate the real ex-post return on government bonds, which we call `r_post_bonds`. Our default is the first case, with real short-term bonds.\n",
    "\n",
    "For all cases, we'll also return $q^{bond}$, which gives the end-of-period price of a debt security that pays 1 (in real terms) tomorrow—either a short-term bond that fully matures and pays 1 tomorrow (in which case the value today is $q^{bond}=1/(1+r)$), or a long-term bond that pays a coupon of 1 tomorrow (in which case the value today is higher). We'll need this for our default fiscal rule in the monetary shock case, which keeps the value paid out tomorrow constant in real terms."
   ]
  },
  {
   "cell_type": "code",
   "execution_count": 4,
   "metadata": {
    "ExecuteTime": {
     "end_time": "2024-09-05T19:29:48.504300Z",
     "start_time": "2024-09-05T19:29:48.433398Z"
    },
    "pycharm": {
     "name": "#%%\n"
    }
   },
   "outputs": [],
   "source": [
    "@sj.simple\n",
    "def real_ST_bonds(r_ante):\n",
    "    \"\"\"Bond returns if bonds are short term and real (our default assumption)\"\"\"\n",
    "    r_post_bonds = r_ante(-1)\n",
    "    qbond = 1/(1 + r_ante)\n",
    "    return r_post_bonds, qbond\n",
    "\n",
    "@sj.simple\n",
    "def nom_ST_bonds(r_ante, pi):\n",
    "    \"\"\"Bond returns if bonds are short term and nominal\"\"\"\n",
    "    # real return adjusted downward by any excess of expected over actual inflation\n",
    "    pi_e = pi(1)\n",
    "    r_post_bonds = (1 + r_ante(-1)) * (1 + pi_e(-1))/(1 + pi) - 1\n",
    "    qbond = 1/(1 + r_ante)\n",
    "    return r_post_bonds, qbond\n",
    "\n",
    "@sj.solved(unknowns={'qbond': (0.001, 100.)}, targets=['q_res'], solver=\"brentq\")\n",
    "def real_LT_bonds(qbond, r_ante, delta):\n",
    "    \"\"\"Bond returns if bonds are long term and real\"\"\"\n",
    "    # equation for end-of-period price q of stream of future coupons (1,delta,delta^2,...): q_res=0\n",
    "    q_res = qbond - (1 + delta * qbond(+1)) / (1 + r_ante)\n",
    "\n",
    "    # ex-post return on bonds is coupon today plus delta times value of remaining coupon stream\n",
    "    # divided by yesterday's end-of-period price\n",
    "    r_post_bonds = (1 + delta * qbond) / qbond(-1) - 1\n",
    "    return r_post_bonds, q_res"
   ]
  },
  {
   "cell_type": "markdown",
   "metadata": {},
   "source": [
    "#### Fiscal policy\n",
    "The basic fiscal rule is simple: given desired paths of end-of-period debt value $B_t$ and government spending $G_t$, solve for the tax rate on all income (including labor and dividend income, which together comprise total output $Y_t$) that balances the budget. This is done in the first few lines below.\n",
    "\n",
    "We also need several additional outputs here, though, which are used only in special cases:\n",
    "1. For our implementation of Angeletos Lian Wolf (\"ALW\" 2024), we calculate the residual of the tax *rate* relative to an exogenously shocked path. \n",
    "\n",
    "2. For our implementation of either the FTPL or of a slow-moving fiscal rule that raises taxes gradually in response to higher debt, we calculate the residual of overall tax *revenue* relative to a rule that can be shocked. \n",
    "\n",
    "3. For our default fiscal rule in response to monetary shocks, we calculate $B_t/q_t$, which is the real amount paid at $t+1$ (the coupon for long-term debt, entire maturing bond for short-term debt), and then calculate the residual of that vs. a constant.\n",
    "\n",
    "In all these three cases, we will ultimately solve for the path of $B_t$ that sets the relevant residual to zero."
   ]
  },
  {
   "cell_type": "code",
   "execution_count": 5,
   "metadata": {
    "ExecuteTime": {
     "end_time": "2024-09-05T19:29:48.507088Z",
     "start_time": "2024-09-05T19:29:48.483114Z"
    },
    "pycharm": {
     "name": "#%%\n"
    }
   },
   "outputs": [],
   "source": [
    "@sj.simple\n",
    "def fiscal(B, r_post_bonds, G, Y, wN, div, tax_rate_shock, T_shock, T_rule_coeff, qbond):\n",
    "    \"\"\"Calculate taxes and after-tax wage and dividend income\"\"\"\n",
    "    T = (1 + r_post_bonds) * B(-1) + G - B  # total tax burden consistent with B and G\n",
    "    tax_rate = T / Y                        # required tax rate\n",
    "    wN_aftertax = (1 - tax_rate) * wN       # after-tax wage income\n",
    "    div_aftertax = (1 - tax_rate) * div     # after-tax dividends\n",
    "\n",
    "    # ALW (2024) rule\n",
    "    tax_rate_res = tax_rate - tax_rate.ss - tax_rate_shock\n",
    "    \n",
    "    # Tax revenue rule (used for FTPL and alternative fiscal rule)\n",
    "    T_res = T - T.ss - T_rule_coeff * (B(-1) - B.ss) - T_shock\n",
    "    \n",
    "    # Default fiscal rule for monetary policy: constant amount owed tomorrow\n",
    "    constant_owed_res = B/qbond - B.ss/qbond.ss\n",
    "    return T, tax_rate, wN_aftertax, div_aftertax, tax_rate_res, T_res, constant_owed_res"
   ]
  },
  {
   "cell_type": "markdown",
   "metadata": {},
   "source": [
    "We also have a slight variation on the main case above, where any deviation of desired taxes from steady state is assessed lump-sum on the agents in the highest income state."
   ]
  },
  {
   "cell_type": "code",
   "execution_count": 6,
   "metadata": {
    "ExecuteTime": {
     "end_time": "2024-09-05T19:29:48.507887Z",
     "start_time": "2024-09-05T19:29:48.485106Z"
    },
    "pycharm": {
     "name": "#%%\n"
    }
   },
   "outputs": [],
   "source": [
    "@sj.simple\n",
    "def fiscal_richest(B, r_post_bonds, G, Y, wN, div):\n",
    "    \"\"\"Variant of above where any taxes beyond steady state are raised only on the richest\"\"\"\n",
    "    Tax_total = (1 + r_post_bonds) * B(-1) + G - B  # total tax burden\n",
    "    T = Tax_total.ss                                # fix standard proportional taxes at steady state level\n",
    "    Tax_richest = Tax_total - T                     # remaining tax burden assessed on richest\n",
    "    tax_rate = T / Y\n",
    "    wN_aftertax = (1 - tax_rate) * wN\n",
    "    div_aftertax = (1 - tax_rate) * div\n",
    "    return T, tax_rate, wN_aftertax, div_aftertax, Tax_richest"
   ]
  },
  {
   "cell_type": "markdown",
   "metadata": {},
   "source": [
    "#### Capitalized value of firms and asset returns\n",
    "The following blocks calculates the end-of-period value $p_t$ of firms, which is the capitalized value of future dividends, and then uses this to calculate both the ex-post return on firms and the ex-post return on all assets in the economy."
   ]
  },
  {
   "cell_type": "code",
   "execution_count": 7,
   "metadata": {
    "ExecuteTime": {
     "end_time": "2024-09-05T19:29:48.531942Z",
     "start_time": "2024-09-05T19:29:48.489513Z"
    },
    "pycharm": {
     "name": "#%%\n"
    }
   },
   "outputs": [],
   "source": [
    "@sj.solved(unknowns={'p': (0.001,50)}, targets=['cap_cond'])\n",
    "def capitalization(div_aftertax, r_ante, p):\n",
    "    \"\"\"Calculate end-of-period value p of firm and ex-post return on equity holdings\"\"\"\n",
    "    cap_cond = p - (div_aftertax(+1) + p(+1))/(1 + r_ante)\n",
    "    r_post_equity = (div_aftertax + p)/p(-1) - 1\n",
    "    return r_post_equity, cap_cond\n",
    "\n",
    "@sj.simple\n",
    "def ex_post_r(r_post_equity, r_post_bonds, B, p):\n",
    "    \"\"\"Calculate ex-post return on all assets, combining equity and bond returns\"\"\"\n",
    "    r = (p(-1) * r_post_equity + B(-1) * r_post_bonds) / (p(-1) + B(-1))\n",
    "    return r"
   ]
  },
  {
   "cell_type": "markdown",
   "metadata": {},
   "source": [
    "#### New Keynesian Phillips curve\n",
    "The following is a standard New Keynesian Phillips curve (valid to first order), equation (2) in the article.\n",
    "\n",
    "Note that, rather than outputing inflation directly, this block outputs the residual of the NKPC, which is then set as a target (with inflation as an unknown) in the subset of cases where we need to solve for inflation."
   ]
  },
  {
   "cell_type": "code",
   "execution_count": 8,
   "metadata": {
    "ExecuteTime": {
     "end_time": "2024-09-05T19:29:48.532861Z",
     "start_time": "2024-09-05T19:29:48.498116Z"
    },
    "pycharm": {
     "name": "#%%\n"
    }
   },
   "outputs": [],
   "source": [
    "@sj.simple\n",
    "def nkpc(pi, kappa, N, Y, G, beta_ave, vscale, frisch, tax_rate, mu, eis):\n",
    "    \"\"\"New Keynesian Phillips Curve\"\"\"\n",
    "    wedge = vscale*N**(1/frisch) - (1-tax_rate) / mu * (Y-G)**(-1/eis) # using C = Y-G\n",
    "    nkpc_res = kappa * wedge + beta_ave * pi(+1) - pi\n",
    "    return nkpc_res"
   ]
  },
  {
   "cell_type": "markdown",
   "metadata": {},
   "source": [
    "#### Taylor rule\n",
    "In most experiments, we set the path of real rates exogenously, but when we use a Taylor rule instead (either active or, in the FTPL case, passive), we'll add this block:"
   ]
  },
  {
   "cell_type": "code",
   "execution_count": 9,
   "metadata": {
    "ExecuteTime": {
     "end_time": "2024-09-05T19:29:48.533688Z",
     "start_time": "2024-09-05T19:29:48.501557Z"
    },
    "pycharm": {
     "name": "#%%\n"
    }
   },
   "outputs": [],
   "source": [
    "@sj.simple\n",
    "def taylor_rule(rstar, pi, phi):\n",
    "    \"\"\"Taylor rule for monetary policy\"\"\"\n",
    "    i = rstar + phi * pi\n",
    "    r_ante = i - pi(+1)\n",
    "    return r_ante"
   ]
  },
  {
   "cell_type": "markdown",
   "metadata": {},
   "source": [
    "#### Market clearing\n",
    "We'll generally use asset market clearing to solve for equilibrium, since it is more robust, but it will be a good cross-check to also look at goods market clearing, which should be zero by Walras's law:"
   ]
  },
  {
   "cell_type": "code",
   "execution_count": 10,
   "metadata": {
    "ExecuteTime": {
     "end_time": "2024-09-05T19:29:48.560096Z",
     "start_time": "2024-09-05T19:29:48.505316Z"
    },
    "pycharm": {
     "name": "#%%\n"
    }
   },
   "outputs": [],
   "source": [
    "@sj.simple\n",
    "def mkt_clearing(A, Y, C, p, B, G):\n",
    "    \"\"\"Market clearing conditions\"\"\"\n",
    "    asset_mkt = A - p - B\n",
    "    goods_mkt = C + G - Y\n",
    "    return asset_mkt, goods_mkt"
   ]
  },
  {
   "cell_type": "markdown",
   "metadata": {},
   "source": [
    "#### Assembling full models\n",
    "We put our typical set of non-household blocks in the `common_blocks` list, and then specify models that combine these blocks with the HA, TA, and RA household blocks (taken from `household.py`).\n",
    "\n",
    "For some model variants, we'll later need to replace blocks in, or add blocks to, `common_blocks`."
   ]
  },
  {
   "cell_type": "code",
   "execution_count": 11,
   "metadata": {
    "ExecuteTime": {
     "end_time": "2024-09-05T19:29:48.583080Z",
     "start_time": "2024-09-05T19:29:48.510141Z"
    },
    "pycharm": {
     "name": "#%%\n"
    }
   },
   "outputs": [],
   "source": [
    "common_blocks = [production, real_ST_bonds, fiscal, capitalization, ex_post_r, nkpc, mkt_clearing]\n",
    "\n",
    "models_hh = [hh_ha, hh_ta, hh_ra]\n",
    "model_names = ['ha', 'ta', 'ra']\n",
    "\n",
    "models = {name: sj.combine(common_blocks + [hh]) for hh, name in zip(models_hh, model_names)}"
   ]
  },
  {
   "cell_type": "markdown",
   "metadata": {
    "pycharm": {
     "name": "#%% md\n"
    }
   },
   "source": [
    "# 2. Calibration of general equilibrium economy\n",
    "We start by specifying core parameters for all models. We need to solve for the markup `mu` so that asset supply is consistent with our calibration of total household assets, but this is simple enough that we can do it by hand:"
   ]
  },
  {
   "cell_type": "code",
   "execution_count": 12,
   "metadata": {},
   "outputs": [
    {
     "data": {
      "text/plain": [
       "1.1142857142857143"
      ]
     },
     "execution_count": 12,
     "metadata": {},
     "output_type": "execute_result"
    }
   ],
   "source": [
    "Y = 1           # normalization\n",
    "r = 0.005       # 2% annual real interest rate\n",
    "A = 20          # 500% assets to annual GDP\n",
    "B = 4           # 100% debt to annual GDP\n",
    "G = 0.2         # 20% gov spending \n",
    "C = Y - G       # remaining 80% is consumption\n",
    "\n",
    "tax = G + r*B                   # implied steady-state tax rate\n",
    "j = A - B                       # firm equity to GDP\n",
    "div_post = r * j                # implied post-tax dividends to justify firm equity\n",
    "div = div_post / (1 - tax)      # implied pre-tax dividends\n",
    "w_post = (1 - tax) * (1 - div)  # implied post-tax wage\n",
    "mu = 1 / (1 - div)              # implied markup\n",
    "mu"
   ]
  },
  {
   "cell_type": "markdown",
   "metadata": {},
   "source": [
    "We can similarly solve for the scale on labor disutility so that $Y=N=1$ is consistent with zero steady-state inflation. As with `mu`, we could do this using the toolkit, but it's simple enough that we can do it by hand:"
   ]
  },
  {
   "cell_type": "code",
   "execution_count": 13,
   "metadata": {
    "ExecuteTime": {
     "end_time": "2024-09-05T19:29:48.595656Z",
     "start_time": "2024-09-05T19:29:48.518893Z"
    },
    "pycharm": {
     "name": "#%%\n"
    }
   },
   "outputs": [],
   "source": [
    "eis = 1                                      # elasticity of intertemporal substitution\n",
    "frisch = 1                                   # Frisch elasticity of labor supply (only needed for Phillips curve)\n",
    "vscale = w_post / C**(1/eis) / Y**(1/frisch) # implied parameter scaling wage disutility for zero steady-state pi"
   ]
  },
  {
   "cell_type": "markdown",
   "metadata": {},
   "source": [
    "Now we store general equilibrium parameters that will be required for all models:"
   ]
  },
  {
   "cell_type": "code",
   "execution_count": 14,
   "metadata": {},
   "outputs": [],
   "source": [
    "common_params = dict(Y=Y, r_ante=r, A=A, B=B, G=G, C=C, mu=mu, eis=eis, frisch=frisch, vscale=vscale,\n",
    "            pi = 0,                # steady-state inflation\n",
    "            kappa = 0.01,          # quarterly NKPC slope\n",
    "            tax_rate_shock = 0,    # tax rate \"shock\" (only used with ALW rule)\n",
    "            T_shock = 0,           # Tax level shock (only used with FTPL)\n",
    "            zeta = 0,              # income risk cyclicality parameter (only used to make income risk countercyclical)\n",
    "            T_rule_coeff = 0,      # Coefficient in tax revenue rule on debt (only used with slow adjustment)\n",
    "            )"
   ]
  },
  {
   "cell_type": "markdown",
   "metadata": {
    "pycharm": {
     "name": "#%% md\n"
    }
   },
   "source": [
    "We now calculate steady states of the HA, RA, and TA models one-by-one, and check market clearing (in addition to the budget constraint and Euler equations for RA and TA) and the New Keynesian Phillips curve residual to make sure we didn't make any mistakes in reasoning about the calibration:"
   ]
  },
  {
   "cell_type": "code",
   "execution_count": 15,
   "metadata": {
    "ExecuteTime": {
     "end_time": "2024-09-05T19:29:48.609262Z",
     "start_time": "2024-09-05T19:29:48.521473Z"
    },
    "pycharm": {
     "name": "#%%\n"
    }
   },
   "outputs": [],
   "source": [
    "ss = {}"
   ]
  },
  {
   "cell_type": "markdown",
   "metadata": {
    "pycharm": {
     "name": "#%% md\n"
    }
   },
   "source": [
    "We start with the HA model, where we separately calibrated the household side in `Annual Review hh calibration.ipynb` and now just need to load the saved parameters:"
   ]
  },
  {
   "cell_type": "code",
   "execution_count": 16,
   "metadata": {
    "ExecuteTime": {
     "end_time": "2024-09-05T19:29:50.049591Z",
     "start_time": "2024-09-05T19:29:48.524629Z"
    },
    "pycharm": {
     "name": "#%%\n"
    }
   },
   "outputs": [
    {
     "data": {
      "text/plain": [
       "(2.1540103034567437e-11, 5.881725158030093e-07, -2.220446049250313e-18)"
      ]
     },
     "execution_count": 16,
     "metadata": {},
     "output_type": "execute_result"
    }
   ],
   "source": [
    "with open('hh_params.json') as f:\n",
    "    ha_params = json.load(f)\n",
    "\n",
    "ss['ha'] = models['ha'].steady_state({**ha_params, **common_params})\n",
    "ss['ha']['asset_mkt'], ss['ha']['goods_mkt'], ss['ha']['nkpc_res']"
   ]
  },
  {
   "cell_type": "markdown",
   "metadata": {
    "pycharm": {
     "name": "#%% md\n"
    }
   },
   "source": [
    "For the RA model, the only parameter we need to calculate is $\\beta = 1/(1+r)$:"
   ]
  },
  {
   "cell_type": "code",
   "execution_count": 17,
   "metadata": {
    "ExecuteTime": {
     "end_time": "2024-09-05T19:29:50.103597Z",
     "start_time": "2024-09-05T19:29:50.059279Z"
    },
    "pycharm": {
     "name": "#%%\n"
    }
   },
   "outputs": [
    {
     "data": {
      "text/plain": [
       "(-9.912071163853398e-13,\n",
       " 0.0,\n",
       " -3.552713678800501e-15,\n",
       " 0.0,\n",
       " -2.220446049250313e-18)"
      ]
     },
     "execution_count": 17,
     "metadata": {},
     "output_type": "execute_result"
    }
   ],
   "source": [
    "beta = 1 / (1 + r)\n",
    "ra_params = dict(beta=beta, beta_ave=beta)\n",
    "ss['ra'] = models['ra'].steady_state({**ra_params, **common_params}, dissolve=['hh_ra'])\n",
    "ss['ra']['asset_mkt'], ss['ra']['goods_mkt'], ss['ra']['budget_constraint'], ss['ra']['euler'], ss['ra']['nkpc_res']"
   ]
  },
  {
   "cell_type": "markdown",
   "metadata": {
    "pycharm": {
     "name": "#%% md\n"
    }
   },
   "source": [
    "For the TA model, we additionally need to calculate the share $\\lambda$ of hand-to-mouth agents to hit an MPC target of 0.2, as well as the consumption of the unconstrained agent (`C_RA`)."
   ]
  },
  {
   "cell_type": "code",
   "execution_count": 18,
   "metadata": {
    "ExecuteTime": {
     "end_time": "2024-09-05T19:29:50.106201Z",
     "start_time": "2024-09-05T19:29:50.087698Z"
    },
    "pycharm": {
     "name": "#%%\n"
    }
   },
   "outputs": [
    {
     "data": {
      "text/plain": [
       "(-9.912071163853398e-13,\n",
       " 0.0,\n",
       " -3.552713678800501e-15,\n",
       " 0.0,\n",
       " -2.220446049250313e-18)"
      ]
     },
     "execution_count": 18,
     "metadata": {},
     "output_type": "execute_result"
    }
   ],
   "source": [
    "beta = 1 / (1 + r)\n",
    "lam = 0.2 - r / (1+r)\n",
    "C_RA = (C - lam * w_post) / (1 - lam)\n",
    "ta_params = dict(beta=beta, beta_ave=beta, lam=lam, C_RA=C_RA)\n",
    "ss['ta'] = models['ta'].steady_state({**ta_params, **common_params}, dissolve=['hh_ta'])\n",
    "ss['ra']['asset_mkt'], ss['ra']['goods_mkt'], ss['ra']['budget_constraint'], ss['ra']['euler'], ss['ra']['nkpc_res']"
   ]
  },
  {
   "cell_type": "markdown",
   "metadata": {},
   "source": [
    "#### Caching pre-calculate household Jacobians\n",
    "To save a bit of time, it is useful to pre-calculate Jacobians for the heterogeneous-agent household block, which we can then feed in to `solve_impulse_linear` using the `Js=` argument, so that the toolkit does not re-calculate these Jacobians under the hood every time."
   ]
  },
  {
   "cell_type": "code",
   "execution_count": 19,
   "metadata": {},
   "outputs": [
    {
     "data": {
      "text/plain": [
       "'hh_ha'"
      ]
     },
     "execution_count": 19,
     "metadata": {},
     "output_type": "execute_result"
    }
   ],
   "source": [
    "T = 400\n",
    "Js = {'hh_ha': hh_ha.jacobian(ss['ha'], inputs=['wN_aftertax', 'N', 'r'], outputs=['C', 'A'], T=T)}\n",
    "hh_ha.name # verify that 'hh_ha' is the name of the het-agent household block"
   ]
  },
  {
   "cell_type": "markdown",
   "metadata": {
    "pycharm": {
     "name": "#%% md\n"
    }
   },
   "source": [
    "# 3. Deficit-financed tax cuts\n",
    "First, let's construct the tax cut shock as described in the paper:"
   ]
  },
  {
   "cell_type": "code",
   "execution_count": 20,
   "metadata": {
    "ExecuteTime": {
     "end_time": "2024-09-05T19:29:50.107153Z",
     "start_time": "2024-09-05T19:29:50.093489Z"
    },
    "pycharm": {
     "name": "#%%\n"
    }
   },
   "outputs": [],
   "source": [
    "rho_B, rho = 0.975, 0.9\n",
    "\n",
    "dT_shock = -rho**np.arange(T)\n",
    "dB = np.empty_like(dT_shock)\n",
    "dB[0] = -dT_shock[0]\n",
    "for t in range(1, T):\n",
    "    dB[t] = rho_B * dB[t-1] - dT_shock[t]"
   ]
  },
  {
   "cell_type": "markdown",
   "metadata": {},
   "source": [
    "### 3(i). Baseline case: comparing HA, TA, RA\n",
    "Here, we construct **Figure 2(a)**. For each model, we solve for the path of output `Y` as an unknown, in order to hit the asset-market clearing target:"
   ]
  },
  {
   "cell_type": "code",
   "execution_count": 21,
   "metadata": {
    "ExecuteTime": {
     "end_time": "2024-09-05T19:29:51.690195Z",
     "start_time": "2024-09-05T19:29:50.100954Z"
    },
    "pycharm": {
     "name": "#%%\n"
    }
   },
   "outputs": [],
   "source": [
    "irfs_B = {k: models[k].solve_impulse_linear(ss[k], unknowns=['Y'], targets=['asset_mkt'],\n",
    "                                            inputs={'B': dB}, outputs=['Y'], Js=Js)['Y'] for k in model_names}"
   ]
  },
  {
   "cell_type": "code",
   "execution_count": 22,
   "metadata": {
    "ExecuteTime": {
     "end_time": "2024-09-05T19:29:52.224759Z",
     "start_time": "2024-09-05T19:29:51.690277Z"
    },
    "pycharm": {
     "name": "#%%\n"
    }
   },
   "outputs": [
    {
     "data": {
      "image/png": "[encoded data removed]",
      "text/plain": [
       "<Figure size 400x300 with 1 Axes>"
      ]
     },
     "metadata": {},
     "output_type": "display_data"
    }
   ],
   "source": [
    "plt.plot(irfs_B['ha'][:41], label='Heterogeneous agents', color='black')\n",
    "plt.plot(irfs_B['ta'][:41], label='Two agents', linestyle='dashed', color='orange')\n",
    "plt.plot(irfs_B['ra'][:41], label='Representative agent', linestyle='dashdot', color='red')\n",
    "plt.legend(frameon=False)\n",
    "plt.xlabel('Quarter')\n",
    "plt.ylabel('\\% change in output')\n",
    "plt.savefig('figures/figure2a_deficit_by_model.pdf', bbox_inches='tight')"
   ]
  },
  {
   "cell_type": "markdown",
   "metadata": {
    "pycharm": {
     "name": "#%% md\n"
    }
   },
   "source": [
    "### 3(ii). Alternative assumptions and policy rules\n",
    "We now perform, in the same order they are listed, the alternative experiments in Figure 2(b) and Figure 4(b), \n",
    "\n",
    "#### Tax changes at margin on highest earners"
   ]
  },
  {
   "cell_type": "code",
   "execution_count": 23,
   "metadata": {},
   "outputs": [],
   "source": [
    "# replace regular fiscal rule with rule that taxes the richest at the margin\n",
    "common_blocks_richest = common_blocks.copy()\n",
    "common_blocks_richest[2] = fiscal_richest\n",
    "model_ha_richest = sj.combine(common_blocks_richest + [hh_ha])\n",
    "\n",
    "irf_B_richest = model_ha_richest.solve_impulse_linear(ss['ha'], unknowns=['Y'], targets=['asset_mkt'],\n",
    "                                                      inputs={'B': dB}, outputs=['Y'])['Y']"
   ]
  },
  {
   "cell_type": "markdown",
   "metadata": {},
   "source": [
    "#### Taylor rule\n",
    "For this rule, we need to calculate inflation `pi` as an additional unknown, adding the NKPC residual as an additional target. We also need to add the `taylor_rule` block to the model, specifying its additional parameters."
   ]
  },
  {
   "cell_type": "code",
   "execution_count": 24,
   "metadata": {
    "ExecuteTime": {
     "end_time": "2024-09-05T19:29:53.219930Z",
     "start_time": "2024-09-05T19:29:52.214268Z"
    },
    "pycharm": {
     "name": "#%%\n"
    }
   },
   "outputs": [],
   "source": [
    "ss_taylor = ss['ha'].copy()\n",
    "ss_taylor['phi'], ss_taylor['rstar'] = 1.5, r\n",
    "model_ha_taylor = sj.combine(common_blocks + [hh_ha, taylor_rule])\n",
    "irf_B_taylor = model_ha_taylor.solve_impulse_linear(ss_taylor, unknowns=['Y', 'pi'], targets=['asset_mkt', 'nkpc_res'],\n",
    "                                               inputs={'B': dB}, outputs=['Y'], Js=Js)['Y']"
   ]
  },
  {
   "cell_type": "markdown",
   "metadata": {
    "pycharm": {
     "name": "#%% md\n"
    }
   },
   "source": [
    "#### Angeletos-Lian-Wolf tax rate rule\n",
    "For this rule, total debt $B$ is endogenously determined subject to a rule that sets the tax rate equal to the steady state plus some shock (which we enforce by setting the previously defined `tax_rate_res` residual to zero):"
   ]
  },
  {
   "cell_type": "code",
   "execution_count": 25,
   "metadata": {
    "ExecuteTime": {
     "end_time": "2024-09-05T19:29:53.993046Z",
     "start_time": "2024-09-05T19:29:53.217778Z"
    },
    "pycharm": {
     "name": "#%%\n"
    }
   },
   "outputs": [],
   "source": [
    "irf_B_ALW = models['ha'].solve_impulse_linear(ss['ha'], unknowns=['Y', 'B'], targets=['asset_mkt', 'tax_rate_res'],\n",
    "                                             inputs={'tax_rate_shock': dT_shock}, outputs=['Y'], Js=Js)['Y']\n"
   ]
  },
  {
   "cell_type": "markdown",
   "metadata": {},
   "source": [
    "#### Figure 2(b)\n",
    "We summarize the additional results we've obtained so far in Figure 2(b):"
   ]
  },
  {
   "cell_type": "code",
   "execution_count": 26,
   "metadata": {},
   "outputs": [
    {
     "data": {
      "image/png": "[encoded data removed]",
      "text/plain": [
       "<Figure size 400x300 with 1 Axes>"
      ]
     },
     "metadata": {},
     "output_type": "display_data"
    }
   ],
   "source": [
    "plt.plot(irfs_B['ha'][:41], label='Baseline', color='black')\n",
    "plt.plot(irf_B_richest[:41], label='Taxes on richest', linestyle='-', color='#800080', marker='o', markersize=2)\n",
    "plt.plot(irf_B_taylor[:41], label='Taylor rule', linestyle='dashed', color='red')\n",
    "plt.plot(irf_B_ALW[:41], label='ALW (2024) rule', linestyle='dashdot', color='green')\n",
    "plt.axhline(y=0, linestyle='dotted', color='gray')\n",
    "\n",
    "plt.legend(frameon=False)\n",
    "plt.xlabel('Quarter')\n",
    "plt.ylabel('\\% change in output')\n",
    "plt.savefig('figures/figure2b_deficit_alternative_rules.pdf', bbox_inches='tight')"
   ]
  },
  {
   "cell_type": "markdown",
   "metadata": {},
   "source": [
    "#### HANK-FTPL\n",
    "This combines elements of the Taylor rule case and ALW case above. We now set a Taylor rule coefficient of zero (\"passive\" monetary policy), replace the previous government debt block with nominal debt, and have bonds $B$ determined endogenously by a rule that exogenously shocks total government tax revenue (and thus primary surpluses)."
   ]
  },
  {
   "cell_type": "code",
   "execution_count": 27,
   "metadata": {},
   "outputs": [],
   "source": [
    "ss_ftpl = ss_taylor.copy()\n",
    "ss_ftpl['phi'] = 0\n",
    "common_blocks_nomdebt = common_blocks.copy()\n",
    "common_blocks_nomdebt[1] = nom_ST_bonds\n",
    "model_ha_ftpl = sj.combine(common_blocks_nomdebt + [hh_ha, taylor_rule])\n",
    "irf_B_FTPL_nomdebt =model_ha_ftpl.solve_impulse_linear(ss_ftpl, unknowns=['Y', 'pi', 'B'],\n",
    "                                            targets=['asset_mkt', 'nkpc_res', 'T_res'],\n",
    "                                            inputs={'T_shock': dT_shock}, outputs=['Y'], Js=Js)['Y']\n"
   ]
  },
  {
   "cell_type": "markdown",
   "metadata": {
    "pycharm": {
     "name": "#%% md\n"
    }
   },
   "source": [
    "#### Myopic households\n",
    "We modify our pre-calculated Jacobians by hand to make them \"myopic\" (so that every shock is treated as a surprise, and has the same reaction as in the 0th column), and then feed these new Jacobians into `Js`:"
   ]
  },
  {
   "cell_type": "code",
   "execution_count": 28,
   "metadata": {
    "ExecuteTime": {
     "end_time": "2024-09-05T19:29:55.225784Z",
     "start_time": "2024-09-05T19:29:54.050408Z"
    },
    "pycharm": {
     "name": "#%%\n"
    }
   },
   "outputs": [],
   "source": [
    "# Make Jacobians myopic: Copy the first column down along the diagonal\n",
    "jac_ = {}\n",
    "for o in ['C', 'A']:\n",
    "    jac_[o] = {}\n",
    "    for i in ['wN_aftertax', 'N', 'r']:\n",
    "        jac_[o][i] = np.tril(scipy.linalg.toeplitz(Js['hh_ha'][o, i][:, 0])) # first column repeated along diagonal\n",
    "        \n",
    "Js_myopic = {'hh_ha': sj.JacobianDict(jac_, inputs=['wN_aftertax', 'N', 'r'], outputs=['C', 'A'], name='hh')}\n",
    "\n",
    "# currently a bug in sequence_jacobian where impulse_linear doesn't pass through Js on hetblocks, will fix ASAP!\n",
    "# irf_B_myopic = models['ha'].solve_impulse_linear(ss['ha'], unknowns=['Y'], targets=['asset_mkt'],\n",
    "#                                                 inputs={'B': dB}, Js={'hh': jac_myopic}, outputs=['Y'])['Y']\n",
    "\n",
    "irf_B_myopic = (models['ha'].solve_jacobian(ss['ha'], unknowns=['Y'], targets=['asset_mkt'], T=T,\n",
    "                                        Js=Js_myopic, inputs=['B'], outputs=['Y']) @ {'B': dB})['Y']"
   ]
  },
  {
   "cell_type": "markdown",
   "metadata": {},
   "source": [
    "#### Nonlinear response"
   ]
  },
  {
   "cell_type": "code",
   "execution_count": 29,
   "metadata": {
    "ExecuteTime": {
     "end_time": "2024-09-05T19:30:02.281762Z",
     "start_time": "2024-09-05T19:29:58.310496Z"
    },
    "pycharm": {
     "name": "#%%\n"
    }
   },
   "outputs": [
    {
     "name": "stdout",
     "output_type": "stream",
     "text": [
      "Solving real_ST_bonds_to_nkpc_combined for ['Y'] to hit ['asset_mkt']\n",
      "Solving capitalization_inner for ['p'] to hit ['cap_cond']\n",
      "On iteration 0\n",
      "   max error for cap_cond is 8.88E-04\n",
      "On iteration 1\n",
      "   max error for cap_cond is 3.55E-15\n",
      "On iteration 0\n",
      "   max error for asset_mkt is 3.13E-02\n",
      "Solving capitalization_inner for ['p'] to hit ['cap_cond']\n",
      "On iteration 0\n",
      "   max error for cap_cond is 1.44E-03\n",
      "On iteration 1\n",
      "   max error for cap_cond is 3.55E-15\n",
      "On iteration 1\n",
      "   max error for asset_mkt is 2.31E-04\n",
      "Solving capitalization_inner for ['p'] to hit ['cap_cond']\n",
      "On iteration 0\n",
      "   max error for cap_cond is 1.45E-03\n",
      "On iteration 1\n",
      "   max error for cap_cond is 3.55E-15\n",
      "On iteration 2\n",
      "   max error for asset_mkt is 1.53E-06\n",
      "Solving capitalization_inner for ['p'] to hit ['cap_cond']\n",
      "On iteration 0\n",
      "   max error for cap_cond is 1.45E-03\n",
      "On iteration 1\n",
      "   max error for cap_cond is 3.55E-15\n",
      "On iteration 3\n",
      "   max error for asset_mkt is 3.48E-08\n",
      "Solving capitalization_inner for ['p'] to hit ['cap_cond']\n",
      "On iteration 0\n",
      "   max error for cap_cond is 1.45E-03\n",
      "On iteration 1\n",
      "   max error for cap_cond is 3.55E-15\n",
      "On iteration 4\n",
      "   max error for asset_mkt is 4.60E-10\n"
     ]
    }
   ],
   "source": [
    "# nonlinearity\n",
    "irf_B_nonlinear = models['ha'].solve_impulse_nonlinear(ss['ha'], unknowns=['Y'], targets=['asset_mkt'],\n",
    "                                    inputs={'B': dB*0.01}, outputs=['Y'], Js=Js)['Y']*100"
   ]
  },
  {
   "cell_type": "markdown",
   "metadata": {
    "pycharm": {
     "name": "#%% md\n"
    }
   },
   "source": [
    "#### Figure 4(b)"
   ]
  },
  {
   "cell_type": "code",
   "execution_count": 30,
   "metadata": {
    "ExecuteTime": {
     "end_time": "2024-09-05T19:30:02.920496Z",
     "start_time": "2024-09-05T19:30:02.295849Z"
    },
    "pycharm": {
     "name": "#%%\n"
    }
   },
   "outputs": [
    {
     "data": {
      "image/png": "[encoded data removed]",
      "text/plain": [
       "<Figure size 400x300 with 1 Axes>"
      ]
     },
     "metadata": {},
     "output_type": "display_data"
    }
   ],
   "source": [
    "plt.plot(irfs_B['ha'][:41], label='Baseline', color='black')\n",
    "plt.plot(irf_B_myopic[:41], label='Myopic households', linestyle='dotted', color='blue')\n",
    "plt.plot(irf_B_FTPL_nomdebt[:41], label='HANK-FTPL', linestyle='-', color='orange', marker='+', markersize=4)\n",
    "plt.plot(irf_B_nonlinear[:41], label='Nonlinear response', linestyle='dashed', color='red')\n",
    "plt.axhline(y=0, linestyle='dotted', color='gray')\n",
    "\n",
    "plt.legend(frameon=False)\n",
    "plt.xlabel('Quarter')\n",
    "plt.ylabel('\\% change in output')\n",
    "plt.savefig('figures/figure4b_deficit_extensions.pdf', bbox_inches='tight')"
   ]
  },
  {
   "cell_type": "markdown",
   "metadata": {
    "pycharm": {
     "name": "#%% md\n"
    }
   },
   "source": [
    "# 4. Monetary policy shock"
   ]
  },
  {
   "cell_type": "markdown",
   "metadata": {},
   "source": [
    "First, let's specify our main monetary policy experiment, an exogenous cut to the real interest rate:"
   ]
  },
  {
   "cell_type": "code",
   "execution_count": 31,
   "metadata": {},
   "outputs": [],
   "source": [
    "dr = -0.25 * 0.9**np.arange(T)\n",
    "shock_r = {'r_ante': dr}"
   ]
  },
  {
   "cell_type": "markdown",
   "metadata": {},
   "source": [
    "### 4(i). Baseline monetary policy exercise\n",
    "First we'll compute impulse responses for our baseline monetary policy exercise.\n",
    "\n",
    "We choose the fiscal response by setting `constant_owed_res` to zero as a target, which endogenously determines `B` so that, going into the next period, the total real cash flow owed by the government is always constant. We can think of this as a very rapid fiscal response to interest rates:"
   ]
  },
  {
   "cell_type": "code",
   "execution_count": 32,
   "metadata": {
    "ExecuteTime": {
     "end_time": "2024-09-05T19:30:04.425457Z",
     "start_time": "2024-09-05T19:30:02.923327Z"
    },
    "pycharm": {
     "name": "#%%\n"
    }
   },
   "outputs": [],
   "source": [
    "irfs_r = {k: models[k].solve_impulse_linear(ss[k], unknowns=['Y', 'B'], targets=['asset_mkt', 'constant_owed_res'],\n",
    "                                inputs=shock_r, outputs=['Y', 'r', 'wN', 'wN_aftertax'], Js=Js) for k in model_names}"
   ]
  },
  {
   "cell_type": "markdown",
   "metadata": {},
   "source": [
    "#### Figure 3(a)"
   ]
  },
  {
   "cell_type": "code",
   "execution_count": 33,
   "metadata": {
    "ExecuteTime": {
     "end_time": "2024-09-05T19:30:04.613002Z",
     "start_time": "2024-09-05T19:30:04.425125Z"
    },
    "pycharm": {
     "name": "#%%\n"
    }
   },
   "outputs": [
    {
     "data": {
      "image/png": "[encoded data removed]",
      "text/plain": [
       "<Figure size 400x300 with 1 Axes>"
      ]
     },
     "metadata": {},
     "output_type": "display_data"
    }
   ],
   "source": [
    "plt.plot(irfs_r['ha']['Y'][:41], label='Heterogeneous agents', color='black')\n",
    "plt.plot(irfs_r['ta']['Y'][:41], label='Two agents', linestyle='dashed', color='orange')\n",
    "plt.plot(irfs_r['ra']['Y'][:41], label='Representative agent', linestyle='dashdot', color='red')\n",
    "plt.axhline(y=0, linestyle='dotted', color='gray')\n",
    "plt.legend(frameon=False)\n",
    "plt.xlabel('Quarter')\n",
    "plt.ylabel('\\% change in output')\n",
    "plt.tight_layout()\n",
    "plt.savefig('figures/figure3a_monetary_by_model.pdf')"
   ]
  },
  {
   "cell_type": "markdown",
   "metadata": {
    "pycharm": {
     "name": "#%% md\n"
    }
   },
   "source": [
    "#### Figure 3(b): decomposition\n",
    "Now, we use the household Jacobians we've calculated to get contributions to consumption (and, in this case, therefore output) from all individual sources.\n",
    "\n",
    "First, the \"capital gains\" effect is the response to the unexpected change in ex-post $r_0$, while the effect of ex-ante interest rates corresponds to the change in ex-post $\\{r_1,r_2,\\ldots\\}$. Then "
   ]
  },
  {
   "cell_type": "code",
   "execution_count": 34,
   "metadata": {
    "ExecuteTime": {
     "end_time": "2024-09-05T19:30:04.625154Z",
     "start_time": "2024-09-05T19:30:04.612107Z"
    },
    "pycharm": {
     "name": "#%%\n"
    }
   },
   "outputs": [],
   "source": [
    "dC_cap_gains = Js['hh_ha']['C','r'][:, 0] * irfs_r['ha']['r'][0]\n",
    "dC_r = Js['hh_ha']['C','r'][:, 1:] @ irfs_r['ha']['r'][1:]\n",
    "dC_labor = Js['hh_ha']['C', 'wN_aftertax'] @ irfs_r['ha']['wN']\n",
    "dC_tax = Js['hh_ha']['C', 'wN_aftertax'] @ (irfs_r['ha']['wN_aftertax'] - irfs_r['ha']['wN'])\n",
    "assert np.allclose(dC_cap_gains + dC_r + dC_labor + dC_tax, irfs_r['ha']['Y'])"
   ]
  },
  {
   "cell_type": "code",
   "execution_count": 35,
   "metadata": {
    "ExecuteTime": {
     "end_time": "2024-09-05T19:30:04.848143Z",
     "start_time": "2024-09-05T19:30:04.626456Z"
    },
    "pycharm": {
     "name": "#%%\n"
    }
   },
   "outputs": [
    {
     "data": {
      "image/png": "[encoded data removed]",
      "text/plain": [
       "<Figure size 400x300 with 1 Axes>"
      ]
     },
     "metadata": {},
     "output_type": "display_data"
    }
   ],
   "source": [
    "plt.plot(irfs_r['ha']['Y'][:41], label='Total', color='black', linewidth=2)\n",
    "plt.plot(dC_r[:41], label='Direct: interest rate', linestyle='dashed', color='red')\n",
    "plt.plot(dC_labor[:41], label='Indirect: labor income', linestyle='dashdot', color='green')\n",
    "plt.plot(dC_tax[:41], label='Indirect: taxes', linestyle='dotted', color='blue')\n",
    "plt.plot(dC_cap_gains[:41], label='Indirect: capital gains', linestyle=(5, (10, 3)), color='orange')\n",
    "plt.axhline(y=0, linestyle='dotted', color='gray')\n",
    "plt.legend(frameon=False)\n",
    "plt.tight_layout()\n",
    "plt.xlabel('Quarter')\n",
    "plt.ylabel('\\% change in output')\n",
    "plt.tight_layout()\n",
    "plt.savefig('figures/figure3b_monetary_decomposition.pdf')"
   ]
  },
  {
   "cell_type": "markdown",
   "metadata": {
    "pycharm": {
     "name": "#%% md\n"
    }
   },
   "source": [
    "### 4(ii). Alternative assumptions for monetary policy"
   ]
  },
  {
   "cell_type": "markdown",
   "metadata": {
    "pycharm": {
     "name": "#%% md\n"
    }
   },
   "source": [
    "#### Slow fiscal adjustment\n",
    "We implement slow fiscal adjustment by instead targeting the `T_res` residual of a rule that adjusts taxes by a small amount in response to debt being away from steady state:"
   ]
  },
  {
   "cell_type": "code",
   "execution_count": 36,
   "metadata": {
    "ExecuteTime": {
     "end_time": "2024-09-05T19:30:07.822741Z",
     "start_time": "2024-09-05T19:30:04.853908Z"
    },
    "pycharm": {
     "name": "#%%\n"
    }
   },
   "outputs": [],
   "source": [
    "ss_slow = ss['ha'].copy()\n",
    "ss_slow['T_rule_coeff'] = 0.02\n",
    "irf_r_altfiscal = models['ha'].solve_impulse_linear(ss_slow, unknowns=['Y', 'B'], targets=['asset_mkt', 'T_res'],\n",
    "                                                    inputs=shock_r, outputs=['Y'], Js=Js)['Y']"
   ]
  },
  {
   "cell_type": "markdown",
   "metadata": {},
   "source": [
    "#### Long-term debt\n",
    "To implement long-term debt (still real), we replace the relevant government bond block by `real_LT_bonds` and regenerate the model."
   ]
  },
  {
   "cell_type": "code",
   "execution_count": 37,
   "metadata": {},
   "outputs": [],
   "source": [
    "common_blocks_LTdebt = common_blocks.copy()\n",
    "common_blocks_LTdebt[1] = real_LT_bonds\n",
    "model_ha_LTdebt = sj.combine(common_blocks_LTdebt + [hh_ha])\n",
    "\n",
    "# recalculate steady state to get correct qbond\n",
    "ss_LTdebt = model_ha_LTdebt.steady_state({**ss['ha'], 'delta': 0.95})\n",
    "assert np.allclose([ss_LTdebt['asset_mkt'], ss_LTdebt['goods_mkt'], ss_LTdebt['nkpc_res']], [0, 0, 0], atol=1e-6)\n",
    "\n",
    "irf_r_LTdebt = model_ha_LTdebt.solve_impulse_linear(ss_LTdebt, unknowns=['Y', 'B'], \n",
    "                        targets=['asset_mkt', 'constant_owed_res'], inputs=shock_r, outputs=['Y'], Js=Js)['Y']"
   ]
  },
  {
   "cell_type": "markdown",
   "metadata": {
    "pycharm": {
     "name": "#%% md\n"
    }
   },
   "source": [
    "#### Nominal debt\n",
    "We have already implemented nominal (short-term) debt as part of our FTPL exercise. We'll reuse the `common_blocks_nomdebt` from that exercise, and similarly solve for both `B` and `pi` in addition to `Y` as unknowns. (Now, however, we are back to our standard \"constant owed tomorrow\" fiscal rule.)"
   ]
  },
  {
   "cell_type": "code",
   "execution_count": 38,
   "metadata": {
    "ExecuteTime": {
     "end_time": "2024-09-05T19:30:08.778622Z",
     "start_time": "2024-09-05T19:30:07.822719Z"
    },
    "pycharm": {
     "name": "#%%\n"
    }
   },
   "outputs": [],
   "source": [
    "# replace bond return function\n",
    "model_ha_nomdebt = sj.combine(common_blocks_nomdebt + [hh_ha])\n",
    "irf_r_nomdebt = model_ha_nomdebt.solve_impulse_linear(ss['ha'], unknowns=['Y', 'B', 'pi'],\n",
    "                    targets=['asset_mkt', 'constant_owed_res', 'nkpc_res'], inputs=shock_r, outputs=['Y'], Js=Js)['Y']"
   ]
  },
  {
   "cell_type": "markdown",
   "metadata": {
    "pycharm": {
     "name": "#%% md\n"
    }
   },
   "source": [
    "### Alternative cyclicality of income"
   ]
  },
  {
   "cell_type": "code",
   "execution_count": 39,
   "metadata": {
    "ExecuteTime": {
     "end_time": "2024-09-05T19:30:15.460987Z",
     "start_time": "2024-09-05T19:30:13.681539Z"
    },
    "pycharm": {
     "name": "#%%\n"
    }
   },
   "outputs": [],
   "source": [
    "ss_countercyc = ss['ha'].copy()\n",
    "ss_countercyc['zeta'] = -0.15 # don't use precalculated Js here, since zeta != 0 should change them\n",
    "irf_r_countercyc = models['ha'].solve_impulse_linear(ss_countercyc, unknowns=['Y', 'B'], targets=['asset_mkt', 'constant_owed_res'], inputs=shock_r, outputs=['Y'])['Y']"
   ]
  },
  {
   "cell_type": "markdown",
   "metadata": {
    "pycharm": {
     "name": "#%% md\n"
    }
   },
   "source": [
    "### Plot results"
   ]
  },
  {
   "cell_type": "code",
   "execution_count": 40,
   "metadata": {
    "ExecuteTime": {
     "end_time": "2024-09-05T19:30:16.610231Z",
     "start_time": "2024-09-05T19:30:15.487696Z"
    },
    "pycharm": {
     "name": "#%%\n"
    }
   },
   "outputs": [
    {
     "data": {
      "image/png": "[encoded data removed]",
      "text/plain": [
       "<Figure size 400x300 with 1 Axes>"
      ]
     },
     "metadata": {},
     "output_type": "display_data"
    }
   ],
   "source": [
    "plt.plot(irfs_r['ha']['Y'][:41], label='Baseline', color='black')\n",
    "plt.plot(irf_r_altfiscal[:41], label='Slow fiscal adjustment', linestyle='dashed', color='red')\n",
    "plt.plot(irf_r_LTdebt[:41], label='Long-term debt',  linestyle='-', color='blue', marker='o', markersize=2)\n",
    "plt.plot(irf_r_nomdebt[:41], label='Nominal short-term debt',  linestyle='dotted', color='darkred')\n",
    "plt.plot(irf_r_countercyc[:41], label='Countercyclical income risk', linestyle='dashed', color='orange', marker='+', markersize=4)\n",
    "\n",
    "plt.axhline(y=0, linestyle='dotted', color='gray')\n",
    "\n",
    "plt.legend(frameon=False)\n",
    "plt.xlabel('Quarter')\n",
    "plt.ylabel('\\% change in output')\n",
    "plt.savefig('figures/figure4a_monetary_extensions.pdf', bbox_inches='tight')"
   ]
  }
 ],
 "metadata": {
  "kernelspec": {
   "display_name": "Python 3 (ipykernel)",
   "language": "python",
   "name": "python3"
  },
  "language_info": {
   "codemirror_mode": {
    "name": "ipython",
    "version": 3
   },
   "file_extension": ".py",
   "mimetype": "text/x-python",
   "name": "python",
   "nbconvert_exporter": "python",
   "pygments_lexer": "ipython3",
   "version": "3.10.13"
  }
 },
 "nbformat": 4,
 "nbformat_minor": 2
}
