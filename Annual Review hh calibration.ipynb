{
 "cells": [
  {
   "cell_type": "markdown",
   "metadata": {},
   "source": [
    "# Calibration notebook for \"Fiscal and Monetary Policy with Heterogeneous Agents\"\n",
    "This notebook calibrates the heterogeneous-agent (HA) household model used in the paper, and produces Figures 1(a) and 1(b).\n",
    "\n",
    "It imports the specific heterogeneous-agent household block that we use, along with exogenously calibrated parameters and initial guesses, from the `household.py` module, which is included in this same repository.\n",
    "\n",
    "It outputs the optimized calibration parameters in human-readable form to `hh_params.json`, which is then taken as an input by the `Annual Review main.ipynb` notebook that does the rest of the computations for the paper.\n",
    "\n",
    "Start with preliminary imports:"
   ]
  },
  {
   "cell_type": "code",
   "execution_count": 1,
   "metadata": {},
   "outputs": [],
   "source": [
    "import numpy as np\n",
    "from scipy import optimize\n",
    "import matplotlib.pyplot as plt\n",
    "import json\n",
    "\n",
    "from household import (hh_ha as hh,\n",
    "                       calibration_ha as calibration)"
   ]
  },
  {
   "cell_type": "markdown",
   "metadata": {},
   "source": [
    "Uncomment the second line below if you want plots with exactly the same style as in the paper (note that this may take longer to render or have compatibility issues):"
   ]
  },
  {
   "cell_type": "code",
   "execution_count": 2,
   "metadata": {},
   "outputs": [],
   "source": [
    "plt.rcParams.update({'font.size': 10, 'font.family': 'serif', 'figure.figsize': (4, 3)})\n",
    "plt.rcParams.update({'text.usetex': True, 'font.serif': 'Palatino'})"
   ]
  },
  {
   "cell_type": "markdown",
   "metadata": {},
   "source": [
    "# 1. Main HA calibration"
   ]
  },
  {
   "cell_type": "markdown",
   "metadata": {},
   "source": [
    "First, our aggregate asset and MPC targets:"
   ]
  },
  {
   "cell_type": "code",
   "execution_count": 3,
   "metadata": {},
   "outputs": [],
   "source": [
    "A_target = 20 # target 500% of annual GDP assets, or 2000% of quarterly GDP\n",
    "mpc_target = 0.20 # target quarterly MPC out of labor income of 20%"
   ]
  },
  {
   "cell_type": "markdown",
   "metadata": {},
   "source": [
    "Load Lorenz curve from the SCF and precalculate it interpolated at percentiles 0, 0.01, ..."
   ]
  },
  {
   "cell_type": "code",
   "execution_count": 4,
   "metadata": {},
   "outputs": [],
   "source": [
    "lorenz_scf_raw = np.loadtxt('inputs/lorenz_nw_scf_2019.raw', delimiter=',')\n",
    "\n",
    "percentiles = np.arange(101) / 100\n",
    "lorenz_scf = np.array([np.interp(pctl, lorenz_scf_raw[:, 0], lorenz_scf_raw[:, 1]) for pctl in percentiles])"
   ]
  },
  {
   "cell_type": "markdown",
   "metadata": {},
   "source": [
    "Function for calculating Lorenz curve at some percentiles from model's steady state:"
   ]
  },
  {
   "cell_type": "code",
   "execution_count": 5,
   "metadata": {},
   "outputs": [],
   "source": [
    "def get_lorenz(ss, percentiles):\n",
    "    D = ss.internals['hh_ha']['D'].sum(axis=0) # distribution over asset grid alone\n",
    "    a_grid = ss.internals['hh_ha']['a_grid']\n",
    "    lorenz_model = np.array([np.interp(pctl, D.cumsum(), (a_grid * D).cumsum()) / ss['A'] for pctl in percentiles])\n",
    "    return lorenz_model"
   ]
  },
  {
   "cell_type": "markdown",
   "metadata": {},
   "source": [
    "Code that evaluates a proposed calibration and reports errors on our three calibration criteria: aggregate assets, impact MPC out of labor income, and average error in Lorenz curve."
   ]
  },
  {
   "cell_type": "code",
   "execution_count": 6,
   "metadata": {},
   "outputs": [],
   "source": [
    "def evaluate_calibration(x):\n",
    "    print(x)\n",
    "    ss = hh.steady_state(calibration | dict(beta_hi=x[0], dbeta=x[1], omega=x[2]))\n",
    "    mpc_labor = hh.jacobian(ss, inputs=['wN_aftertax'], outputs=['C'], T=2)['C', 'wN_aftertax'][0, 0]\n",
    "    lorenz_model = get_lorenz(ss, percentiles)\n",
    "    return ss['A'] - A_target, mpc_labor - mpc_target, (lorenz_model - lorenz_scf).sum()"
   ]
  },
  {
   "cell_type": "code",
   "execution_count": 7,
   "metadata": {},
   "outputs": [
    {
     "name": "stdout",
     "output_type": "stream",
     "text": [
      "[1.   0.08 0.5 ]\n",
      "[1.   0.08 0.5 ]\n",
      "[1.   0.08 0.5 ]\n",
      "[1.00000001 0.08       0.5       ]\n",
      "[1.   0.08 0.5 ]\n",
      "[1.         0.08       0.50000001]\n",
      "[0.99934253 0.10846063 0.50102229]\n",
      "[0.99964617 0.07767181 0.4584013 ]\n",
      "[0.99931768 0.07466917 0.45990463]\n",
      "[0.99855078 0.09544471 0.49704584]\n",
      "[0.99884831 0.07969143 0.47806485]\n",
      "[0.99864256 0.09070839 0.49655644]\n",
      "[0.99879406 0.08479256 0.48601751]\n",
      "[0.99877596 0.08642468 0.48851305]\n",
      "[0.99871255 0.09252964 0.49660652]\n",
      "[0.99876793 0.08761734 0.48993059]\n",
      "[0.99874105 0.08965586 0.49263622]\n",
      "[0.99876233 0.08789987 0.49037734]\n",
      "[0.99876794 0.08761734 0.48993059]\n",
      "[0.99876793 0.08761735 0.48993059]\n",
      "[0.99876793 0.08761734 0.4899306 ]\n",
      "[0.99876063 0.08809493 0.49059913]\n",
      "[0.99876616 0.08764339 0.49004907]\n",
      "[0.99876524 0.08784972 0.49020124]\n",
      "[0.99876104 0.08802165 0.49053396]\n",
      "[0.99876401 0.08778523 0.49024279]\n",
      "[0.99876525 0.08784972 0.49020124]\n",
      "[0.99876524 0.08784972 0.49020124]\n",
      "[0.99876524 0.08784972 0.49020125]\n",
      "[0.998764   0.08786106 0.49028025]\n",
      "[0.99876287 0.08786015 0.49034511]\n",
      "[0.99876287 0.08786015 0.49034511]\n"
     ]
    }
   ],
   "source": [
    "x0 = np.array([1, 0.08, 0.5])\n",
    "res = optimize.root(evaluate_calibration, x0)"
   ]
  },
  {
   "cell_type": "markdown",
   "metadata": {},
   "source": [
    "Check success, save results, and display $\\beta^H$, $\\beta^L$, and the share $\\omega$ of patient:"
   ]
  },
  {
   "cell_type": "code",
   "execution_count": 8,
   "metadata": {},
   "outputs": [
    {
     "name": "stdout",
     "output_type": "stream",
     "text": [
      "0.9987628713512637 0.9109027223896013 0.4903451118386398\n"
     ]
    }
   ],
   "source": [
    "assert res.success\n",
    "beta_hi, dbeta, omega = res.x\n",
    "print(beta_hi, beta_hi - dbeta, omega)"
   ]
  },
  {
   "cell_type": "code",
   "execution_count": 9,
   "metadata": {},
   "outputs": [
    {
     "name": "stdout",
     "output_type": "stream",
     "text": [
      "20.0000000000229\n"
     ]
    }
   ],
   "source": [
    "calibration_full = calibration | dict(beta_hi=beta_hi, dbeta=dbeta, omega=omega)\n",
    "calibration_full['beta_ave'] = beta_hi - (1-omega)*dbeta # will need average beta for Phillips curve later\n",
    "\n",
    "ss = hh.steady_state(calibration_full)\n",
    "print(ss['A'])"
   ]
  },
  {
   "cell_type": "code",
   "execution_count": 10,
   "metadata": {},
   "outputs": [],
   "source": [
    "with open('hh_params.json', 'w') as f:\n",
    "    json.dump(calibration_full, f, indent=4)"
   ]
  },
  {
   "cell_type": "markdown",
   "metadata": {},
   "source": [
    "# 2. Main plots\n",
    "### Figure 1b: Wealth distribution versus data\n",
    "Load richer set of percentiles for a nicer plot:"
   ]
  },
  {
   "cell_type": "code",
   "execution_count": 11,
   "metadata": {},
   "outputs": [],
   "source": [
    "percentiles_detail = np.arange(501) / 500\n",
    "lorenz_scf_detail = np.array([np.interp(pctl, lorenz_scf_raw[:, 0], lorenz_scf_raw[:, 1]) for pctl in percentiles_detail])\n",
    "lorenz_model_detail = get_lorenz(ss, percentiles_detail)"
   ]
  },
  {
   "cell_type": "markdown",
   "metadata": {},
   "source": [
    "Compare at specified percentiles:"
   ]
  },
  {
   "cell_type": "code",
   "execution_count": 12,
   "metadata": {},
   "outputs": [
    {
     "data": {
      "image/png": "[encoded data removed]",
      "text/plain": [
       "<Figure size 400x300 with 1 Axes>"
      ]
     },
     "metadata": {},
     "output_type": "display_data"
    }
   ],
   "source": [
    "plt.plot(percentiles_detail, lorenz_model_detail, label='Model', color='black')\n",
    "plt.plot(percentiles_detail, lorenz_scf_detail, label='SCF 2019', linestyle='dashed', color='green')\n",
    "plt.plot([0, 1], [0, 1], linestyle='dotted', color='gray')\n",
    "plt.ylabel('Wealth share')\n",
    "plt.xlabel('Population share')\n",
    "plt.legend(frameon=False)\n",
    "plt.tight_layout()\n",
    "plt.savefig('figures/figure1b_lorenz.pdf')"
   ]
  },
  {
   "cell_type": "markdown",
   "metadata": {},
   "source": [
    "### Figure 1a: intertemporal MPC comparison"
   ]
  },
  {
   "cell_type": "code",
   "execution_count": 13,
   "metadata": {},
   "outputs": [],
   "source": [
    "T = 26\n",
    "M_labor = hh.jacobian(ss, inputs=['wN_aftertax'], outputs=['C'], T=T)['C','wN_aftertax']\n",
    "m_capital = hh.jacobian(ss, inputs=['r'], outputs=['C'], T=T)['C','r'][:, 0] / ss['A']"
   ]
  },
  {
   "cell_type": "code",
   "execution_count": 14,
   "metadata": {},
   "outputs": [],
   "source": [
    "impcs = M_labor[:, 0]\n",
    "\n",
    "# analytical formula for RA iMPCs, see e.g. Intertemporal Keynesian Cross paper\n",
    "# (use analytical formulas rather than SSJ toolkit because toolkit default assumes \n",
    "# return to steady state, which is not true in partial equilibrium for RA model)\n",
    "impcs_ra = ss['r'] / (1 + ss['r']) * np.ones(T)\n",
    "\n",
    "# TA impcs are lam (hand to mouth share) times identity, plus (1-lam) times RA impcs\n",
    "lam = mpc_target - ss['r'] / (1 + ss['r']) # hit same MPC with TA\n",
    "impcs_ta = lam * (np.arange(T) == 0) + (1-lam) * impcs_ra"
   ]
  },
  {
   "cell_type": "code",
   "execution_count": 15,
   "metadata": {},
   "outputs": [
    {
     "data": {
      "image/png": "[encoded data removed]",
      "text/plain": [
       "<Figure size 400x300 with 1 Axes>"
      ]
     },
     "metadata": {},
     "output_type": "display_data"
    }
   ],
   "source": [
    "plt.plot(impcs[:T], label='Heterogeneous agents', color='black')\n",
    "plt.plot(impcs_ta[:T], label='Two agents', linestyle='dashed', color='orange')\n",
    "plt.plot(impcs_ra[:T], label='Representative agent', linestyle='dashdot', color='red')\n",
    "plt.plot(m_capital[:T], label='HA: iMPCs out of capital income')\n",
    "plt.axhline(y=0, linestyle='dotted', color='gray')\n",
    "plt.legend(frameon=False)\n",
    "plt.xlabel('Quarter')\n",
    "plt.ylabel('Consumption')\n",
    "plt.tight_layout()\n",
    "plt.savefig('figures/figure1a_impcs.pdf')"
   ]
  },
  {
   "cell_type": "markdown",
   "metadata": {},
   "source": [
    "# 3. Calculate unweighted MPCs as well\n",
    "On impact, the average quarterly MPC unweighted by income is about 0.29. We calculate this by looking at the Jacobian with respect to a uniform lump-sum transfer."
   ]
  },
  {
   "cell_type": "code",
   "execution_count": 16,
   "metadata": {},
   "outputs": [
    {
     "data": {
      "text/plain": [
       "array([[0.289, 0.095, 0.065, 0.048, 0.038],\n",
       "       [0.091, 0.251, 0.073, 0.051, 0.039],\n",
       "       [0.055, 0.071, 0.238, 0.064, 0.044],\n",
       "       [0.037, 0.044, 0.063, 0.233, 0.06 ],\n",
       "       [0.026, 0.03 , 0.039, 0.059, 0.229]])"
      ]
     },
     "execution_count": 16,
     "metadata": {},
     "output_type": "execute_result"
    }
   ],
   "source": [
    "M_unweighted = hh.jacobian(ss, inputs=['Tr_lumpsum'], outputs=['C'], T=5)['C','Tr_lumpsum']\n",
    "M_unweighted.round(3)"
   ]
  },
  {
   "cell_type": "markdown",
   "metadata": {},
   "source": [
    "Slightly below 50% is spent in the first year:"
   ]
  },
  {
   "cell_type": "code",
   "execution_count": 17,
   "metadata": {},
   "outputs": [
    {
     "data": {
      "text/plain": [
       "0.46997266143677086"
      ]
     },
     "execution_count": 17,
     "metadata": {},
     "output_type": "execute_result"
    }
   ],
   "source": [
    "(1+ss['r'])**(-np.arange(4)) @ M_unweighted[:4, 0]"
   ]
  }
 ],
 "metadata": {
  "kernelspec": {
   "display_name": "base",
   "language": "python",
   "name": "python3"
  },
  "language_info": {
   "codemirror_mode": {
    "name": "ipython",
    "version": 3
   },
   "file_extension": ".py",
   "mimetype": "text/x-python",
   "name": "python",
   "nbconvert_exporter": "python",
   "pygments_lexer": "ipython3",
   "version": "3.10.13"
  }
 },
 "nbformat": 4,
 "nbformat_minor": 2
}
